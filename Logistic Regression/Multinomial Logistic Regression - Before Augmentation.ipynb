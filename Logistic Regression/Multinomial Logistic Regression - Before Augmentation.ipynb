{
 "cells": [
  {
   "cell_type": "code",
   "execution_count": 130,
   "id": "3ebf4784",
   "metadata": {
    "scrolled": false
   },
   "outputs": [
    {
     "name": "stdout",
     "output_type": "stream",
     "text": [
      "Requirement already satisfied: gensim in c:\\users\\sian ying\\anaconda3\\lib\\site-packages (4.1.2)\n",
      "Requirement already satisfied: numpy>=1.17.0 in c:\\users\\sian ying\\anaconda3\\lib\\site-packages (from gensim) (1.20.3)\n",
      "Requirement already satisfied: scipy>=0.18.1 in c:\\users\\sian ying\\anaconda3\\lib\\site-packages (from gensim) (1.7.1)\n",
      "Requirement already satisfied: smart-open>=1.8.1 in c:\\users\\sian ying\\anaconda3\\lib\\site-packages (from gensim) (5.2.1)\n",
      "Requirement already satisfied: Cython==0.29.23 in c:\\users\\sian ying\\anaconda3\\lib\\site-packages (from gensim) (0.29.23)\n"
     ]
    },
    {
     "name": "stderr",
     "output_type": "stream",
     "text": [
      "WARNING: Ignoring invalid distribution -umpy (c:\\users\\sian ying\\anaconda3\\lib\\site-packages)\n",
      "WARNING: Ignoring invalid distribution -umpy (c:\\users\\sian ying\\anaconda3\\lib\\site-packages)\n",
      "WARNING: Ignoring invalid distribution -umpy (c:\\users\\sian ying\\anaconda3\\lib\\site-packages)\n",
      "WARNING: Ignoring invalid distribution -umpy (c:\\users\\sian ying\\anaconda3\\lib\\site-packages)\n",
      "WARNING: Ignoring invalid distribution -umpy (c:\\users\\sian ying\\anaconda3\\lib\\site-packages)\n",
      "WARNING: Ignoring invalid distribution -umpy (c:\\users\\sian ying\\anaconda3\\lib\\site-packages)\n"
     ]
    }
   ],
   "source": [
    "import pandas as pd\n",
    "import numpy as np\n",
    "import matplotlib.pyplot as plt\n",
    "import seaborn as sns\n",
    "from sklearn.metrics import accuracy_score\n",
    "from sklearn.metrics import f1_score\n",
    "from sklearn.model_selection import cross_val_score\n",
    "from sklearn.metrics import matthews_corrcoef\n",
    "from sklearn.feature_selection import chi2\n",
    "from sklearn.preprocessing import StandardScaler\n",
    "from sklearn.preprocessing import MinMaxScaler\n",
    "from sklearn.model_selection import train_test_split\n",
    "from sklearn.feature_extraction.text import TfidfVectorizer\n",
    "from sklearn.linear_model import LogisticRegression\n",
    "from nltk.tokenize import word_tokenize\n",
    "import numpy as np\n",
    "!pip install gensim\n",
    "from gensim.models import Word2Vec"
   ]
  },
  {
   "cell_type": "markdown",
   "id": "279d75b5",
   "metadata": {},
   "source": [
    "## Load Dataset"
   ]
  },
  {
   "cell_type": "code",
   "execution_count": 131,
   "id": "182e4389",
   "metadata": {
    "scrolled": false
   },
   "outputs": [
    {
     "name": "stdout",
     "output_type": "stream",
     "text": [
      "5360\n",
      "1341\n"
     ]
    }
   ],
   "source": [
    "df = pd.read_csv(\"lemmatized_original_train.csv\")\n",
    "df_test = pd.read_csv(\"lemmatized_original_test.csv\")\n",
    "print(len(df))\n",
    "print(len(df_test))"
   ]
  },
  {
   "cell_type": "code",
   "execution_count": 132,
   "id": "f359b2b0",
   "metadata": {},
   "outputs": [],
   "source": [
    "df.drop(columns=['Unnamed: 0'], inplace=True)\n",
    "df_test.drop(columns=['Unnamed: 0'], inplace=True)"
   ]
  },
  {
   "cell_type": "code",
   "execution_count": 133,
   "id": "d075a5db",
   "metadata": {},
   "outputs": [],
   "source": [
    "X_train = df['lemmatized and stopwords_removed']\n",
    "y_train = df['sentiment']\n",
    "X_test = df_test['lemmatized and stopwords_removed']\n",
    "y_test = df_test['sentiment']"
   ]
  },
  {
   "cell_type": "markdown",
   "id": "ff28e007",
   "metadata": {},
   "source": [
    "## Generating n-grams"
   ]
  },
  {
   "cell_type": "code",
   "execution_count": 134,
   "id": "dcf2e522",
   "metadata": {},
   "outputs": [],
   "source": [
    "# TfidfVectorizer (Unigram)  \n",
    "corpus = X_train\n",
    "\n",
    "vectorizer = TfidfVectorizer(analyzer='word', ngram_range=(1, 1), token_pattern=u\"(?u)\\\\b\\\\w+\\\\b\", min_df=10)\n",
    "\n",
    "train_counts_unigram = vectorizer.fit_transform(corpus)\n",
    "test_counts_unigram = vectorizer.transform(X_test)\n",
    "\n",
    "# initialize vectorized text dataframe\n",
    "df_vectorized_text_unigrams_train = pd.DataFrame(data=train_counts_unigram.toarray(), columns=vectorizer.get_feature_names())\n",
    "df_vectorized_text_unigrams_test = pd.DataFrame(data=test_counts_unigram.toarray(), columns=vectorizer.get_feature_names())\n",
    "\n",
    "################################################################\n",
    "\n",
    "# TfidfVectorizer (Unigram & Bigram)  \n",
    "corpus = X_train\n",
    "\n",
    "vectorizer = TfidfVectorizer(analyzer='word', ngram_range=(1, 2), token_pattern=u\"(?u)\\\\b\\\\w+\\\\b\", min_df=10)\n",
    "\n",
    "train_counts_unigram_and_bigram = vectorizer.fit_transform(corpus)\n",
    "test_counts_unigram_and_bigram = vectorizer.transform(X_test)\n",
    "\n",
    "# initialize vectorized text dataframe\n",
    "df_vectorized_text_unigrams_and_bigrams_train = pd.DataFrame(data=train_counts_unigram_and_bigram.toarray(), columns=vectorizer.get_feature_names())\n",
    "df_vectorized_text_unigrams_and_bigrams_test = pd.DataFrame(data=test_counts_unigram_and_bigram.toarray(), columns=vectorizer.get_feature_names())"
   ]
  },
  {
   "cell_type": "markdown",
   "id": "71af1b91",
   "metadata": {},
   "source": [
    "## Baseline (Unigrams) Results"
   ]
  },
  {
   "cell_type": "markdown",
   "id": "59a31aac",
   "metadata": {},
   "source": [
    "## Training without Chi Square Feature Selection"
   ]
  },
  {
   "cell_type": "code",
   "execution_count": 135,
   "id": "a6c84d9c",
   "metadata": {},
   "outputs": [
    {
     "name": "stdout",
     "output_type": "stream",
     "text": [
      "Train Accuracy: 72.71%\n",
      "Test Accuracy: 70.25%\n",
      "Test F1 Score: 66.64%\n",
      "Mean Cross Val Accuracy: 67.74%\n",
      "Mean Cross Val F1 Score: 63.49%\n",
      "Testing Matthew's coefficient: 0.375\n"
     ]
    }
   ],
   "source": [
    "X_train = df_vectorized_text_unigrams_train\n",
    "X_test = df_vectorized_text_unigrams_test\n",
    "\n",
    "clf = LogisticRegression(random_state=0, max_iter=1000).fit(X_train, y_train)\n",
    "\n",
    "y_train_pred = clf.predict(X_train)\n",
    "print('Train Accuracy: ' + '{:.2%}'.format(accuracy_score(y_train, y_train_pred)))\n",
    "\n",
    "y_test_pred = clf.predict(X_test)\n",
    "print('Test Accuracy: ' + '{:.2%}'.format(accuracy_score(y_test, y_test_pred)))\n",
    "print('Test F1 Score: ' + '{:.2%}'.format(f1_score(y_test, y_test_pred, average='weighted')))\n",
    "\n",
    "## Cross Validation\n",
    "cross_val_accuracy_scores = cross_val_score(clf, X_train, y_train, scoring='accuracy', cv=10, n_jobs=-1)   \n",
    "print(\"Mean Cross Val Accuracy: \" + '{:.2%}'.format(cross_val_accuracy_scores.mean()))\n",
    "    \n",
    "cross_val_f1_scores = cross_val_score(clf, X_train, y_train, scoring='f1_weighted', cv=10, n_jobs=-1)\n",
    "print(\"Mean Cross Val F1 Score: \" + '{:.2%}'.format(cross_val_f1_scores.mean()))\n",
    "\n",
    "testing_matthew_coeff = matthews_corrcoef(y_test, y_test_pred)\n",
    "print(\"Testing Matthew's coefficient:\", round(testing_matthew_coeff,3))"
   ]
  },
  {
   "cell_type": "markdown",
   "id": "d49a50d8",
   "metadata": {},
   "source": [
    "## Training with Chi Square Feature Selection"
   ]
  },
  {
   "cell_type": "code",
   "execution_count": 136,
   "id": "943c36fe",
   "metadata": {
    "scrolled": true
   },
   "outputs": [
    {
     "data": {
      "text/html": [
       "<div>\n",
       "<style scoped>\n",
       "    .dataframe tbody tr th:only-of-type {\n",
       "        vertical-align: middle;\n",
       "    }\n",
       "\n",
       "    .dataframe tbody tr th {\n",
       "        vertical-align: top;\n",
       "    }\n",
       "\n",
       "    .dataframe thead th {\n",
       "        text-align: right;\n",
       "    }\n",
       "</style>\n",
       "<table border=\"1\" class=\"dataframe\">\n",
       "  <thead>\n",
       "    <tr style=\"text-align: right;\">\n",
       "      <th></th>\n",
       "      <th>cool</th>\n",
       "      <th>wait</th>\n",
       "      <th>want</th>\n",
       "      <th>awesome</th>\n",
       "      <th>amazing</th>\n",
       "      <th>love</th>\n",
       "      <th>concern</th>\n",
       "      <th>fbi</th>\n",
       "      <th>wow</th>\n",
       "      <th>trust</th>\n",
       "      <th>...</th>\n",
       "      <th>yr</th>\n",
       "      <th>seat</th>\n",
       "      <th>location</th>\n",
       "      <th>ok</th>\n",
       "      <th>push</th>\n",
       "      <th>add</th>\n",
       "      <th>taxi</th>\n",
       "      <th>likely</th>\n",
       "      <th>miss</th>\n",
       "      <th>possible</th>\n",
       "    </tr>\n",
       "  </thead>\n",
       "  <tbody>\n",
       "    <tr>\n",
       "      <th>0</th>\n",
       "      <td>9.141837e+01</td>\n",
       "      <td>5.083446e+01</td>\n",
       "      <td>4.953162e+01</td>\n",
       "      <td>4.171775e+01</td>\n",
       "      <td>3.018552e+01</td>\n",
       "      <td>2.985713e+01</td>\n",
       "      <td>2.843903e+01</td>\n",
       "      <td>2.786273e+01</td>\n",
       "      <td>26.988647</td>\n",
       "      <td>26.851758</td>\n",
       "      <td>...</td>\n",
       "      <td>0.034357</td>\n",
       "      <td>0.031784</td>\n",
       "      <td>0.031633</td>\n",
       "      <td>0.029785</td>\n",
       "      <td>0.023950</td>\n",
       "      <td>0.022837</td>\n",
       "      <td>0.020882</td>\n",
       "      <td>0.018281</td>\n",
       "      <td>0.005155</td>\n",
       "      <td>0.003969</td>\n",
       "    </tr>\n",
       "    <tr>\n",
       "      <th>1</th>\n",
       "      <td>1.408491e-20</td>\n",
       "      <td>9.150328e-12</td>\n",
       "      <td>1.755277e-11</td>\n",
       "      <td>8.731822e-10</td>\n",
       "      <td>2.788037e-07</td>\n",
       "      <td>3.285543e-07</td>\n",
       "      <td>6.676397e-07</td>\n",
       "      <td>8.906028e-07</td>\n",
       "      <td>0.000001</td>\n",
       "      <td>0.000001</td>\n",
       "      <td>...</td>\n",
       "      <td>0.982968</td>\n",
       "      <td>0.984234</td>\n",
       "      <td>0.984308</td>\n",
       "      <td>0.985218</td>\n",
       "      <td>0.988097</td>\n",
       "      <td>0.988646</td>\n",
       "      <td>0.989613</td>\n",
       "      <td>0.990901</td>\n",
       "      <td>0.997426</td>\n",
       "      <td>0.998018</td>\n",
       "    </tr>\n",
       "  </tbody>\n",
       "</table>\n",
       "<p>2 rows × 585 columns</p>\n",
       "</div>"
      ],
      "text/plain": [
       "           cool          wait          want       awesome       amazing  \\\n",
       "0  9.141837e+01  5.083446e+01  4.953162e+01  4.171775e+01  3.018552e+01   \n",
       "1  1.408491e-20  9.150328e-12  1.755277e-11  8.731822e-10  2.788037e-07   \n",
       "\n",
       "           love       concern           fbi        wow      trust  ...  \\\n",
       "0  2.985713e+01  2.843903e+01  2.786273e+01  26.988647  26.851758  ...   \n",
       "1  3.285543e-07  6.676397e-07  8.906028e-07   0.000001   0.000001  ...   \n",
       "\n",
       "         yr      seat  location        ok      push       add      taxi  \\\n",
       "0  0.034357  0.031784  0.031633  0.029785  0.023950  0.022837  0.020882   \n",
       "1  0.982968  0.984234  0.984308  0.985218  0.988097  0.988646  0.989613   \n",
       "\n",
       "     likely      miss  possible  \n",
       "0  0.018281  0.005155  0.003969  \n",
       "1  0.990901  0.997426  0.998018  \n",
       "\n",
       "[2 rows x 585 columns]"
      ]
     },
     "execution_count": 136,
     "metadata": {},
     "output_type": "execute_result"
    }
   ],
   "source": [
    "# 0 is chi2 score, 1 is p-value\n",
    "X_train = df_vectorized_text_unigrams_train\n",
    "X_test = df_vectorized_text_unigrams_test\n",
    "\n",
    "chi2_values = chi2(X_train.values, y_train)\n",
    "chi2_df = pd.DataFrame(data=chi2_values, columns=X_train.columns)\n",
    "chi2_df_sorted = chi2_df.sort_values(by=0, axis = 1, ascending = False)\n",
    "chi2_df_sorted"
   ]
  },
  {
   "cell_type": "markdown",
   "id": "e6b50402",
   "metadata": {},
   "source": [
    "## Finding the optimal number of features to use based on cross validation F1-score"
   ]
  },
  {
   "cell_type": "code",
   "execution_count": 137,
   "id": "10033005",
   "metadata": {},
   "outputs": [],
   "source": [
    "f1_results_unigram_chi_square = {}\n",
    "for n in range(1, 585, 5):\n",
    "    chi2_columns_unigrams = chi2_df_sorted.columns[:n]\n",
    "    X_train_df = df_vectorized_text_unigrams_train[chi2_columns_unigrams]\n",
    "\n",
    "    #train MLR\n",
    "    clf = LogisticRegression(random_state=0, max_iter=1000)\n",
    "\n",
    "    #Cross validation, cv=5\n",
    "    f1 = cross_val_score(clf, X_train_df, y_train, scoring='f1_weighted', cv=5)\n",
    "    \n",
    "    #Storing mean cross validation F1-scores in a dictionary\n",
    "    f1_results_unigram_chi_square[n] = f1.mean() "
   ]
  },
  {
   "cell_type": "code",
   "execution_count": 138,
   "id": "872dbf13",
   "metadata": {},
   "outputs": [
    {
     "data": {
      "text/plain": [
       "<AxesSubplot:>"
      ]
     },
     "execution_count": 138,
     "metadata": {},
     "output_type": "execute_result"
    },
    {
     "data": {
      "image/png": "[encoded data removed]",
      "text/plain": [
       "<Figure size 1440x864 with 1 Axes>"
      ]
     },
     "metadata": {},
     "output_type": "display_data"
    }
   ],
   "source": [
    "sns.set(rc={'figure.figsize':(20,12)})\n",
    "sns.lineplot(data=f1_results_unigram_chi_square)"
   ]
  },
  {
   "cell_type": "code",
   "execution_count": 139,
   "id": "f9bdc934",
   "metadata": {},
   "outputs": [
    {
     "data": {
      "text/plain": [
       "271"
      ]
     },
     "execution_count": 139,
     "metadata": {},
     "output_type": "execute_result"
    }
   ],
   "source": [
    "# Getting the optimal number of features which will result in best mean cross validation F1-score from the dictionary\n",
    "\n",
    "best_no_of_features= max(f1_results_unigram_chi_square, key=f1_results_unigram_chi_square.get)\n",
    "best_no_of_features"
   ]
  },
  {
   "cell_type": "code",
   "execution_count": 140,
   "id": "c8944a6f",
   "metadata": {},
   "outputs": [],
   "source": [
    "# Extracting the optimal number of features into a dataframe for training\n",
    "\n",
    "chi2_columns = chi2_df_sorted.columns[:best_no_of_features]\n",
    "X_train_vectorized_unigrams_chi_square = df_vectorized_text_unigrams_train[chi2_columns]\n",
    "X_test_vectorized_unigrams_chi_square = df_vectorized_text_unigrams_test[chi2_columns]"
   ]
  },
  {
   "cell_type": "code",
   "execution_count": 141,
   "id": "21ef3cdc",
   "metadata": {},
   "outputs": [
    {
     "name": "stdout",
     "output_type": "stream",
     "text": [
      "Train Accuracy: 71.34%\n",
      "Test Accuracy: 70.54%\n",
      "Test F1 Score: 66.59%\n",
      "Mean Cross Val Accuracy: 68.92%\n",
      "Mean Cross Val F1 Score: 64.77%\n",
      "Testing Matthew's coefficient: 0.38\n"
     ]
    }
   ],
   "source": [
    "X_train = X_train_vectorized_unigrams_chi_square\n",
    "X_test = X_test_vectorized_unigrams_chi_square\n",
    "\n",
    "clf = LogisticRegression(random_state=0, max_iter=1000).fit(X_train, y_train)\n",
    "\n",
    "y_train_pred = clf.predict(X_train)\n",
    "print('Train Accuracy: ' + '{:.2%}'.format(accuracy_score(y_train, y_train_pred)))\n",
    "\n",
    "y_test_pred = clf.predict(X_test)\n",
    "print('Test Accuracy: ' + '{:.2%}'.format(accuracy_score(y_test, y_test_pred)))\n",
    "print('Test F1 Score: ' + '{:.2%}'.format(f1_score(y_test, y_test_pred, average='weighted')))\n",
    "\n",
    "## Cross Validation\n",
    "cross_val_accuracy_scores = cross_val_score(clf, X_train, y_train, scoring='accuracy', cv=10, n_jobs=-1)   \n",
    "print(\"Mean Cross Val Accuracy: \" + '{:.2%}'.format(cross_val_accuracy_scores.mean()))\n",
    "    \n",
    "cross_val_f1_scores = cross_val_score(clf, X_train, y_train, scoring='f1_weighted', cv=10, n_jobs=-1)\n",
    "print(\"Mean Cross Val F1 Score: \" + '{:.2%}'.format(cross_val_f1_scores.mean()))\n",
    "\n",
    "testing_matthew_coeff = matthews_corrcoef(y_test, y_test_pred)\n",
    "print(\"Testing Matthew's coefficient:\", round(testing_matthew_coeff,3))"
   ]
  },
  {
   "cell_type": "markdown",
   "id": "bcc6d2c9",
   "metadata": {},
   "source": [
    "## Unigrams + Bigrams Results"
   ]
  },
  {
   "cell_type": "markdown",
   "id": "0cf47611",
   "metadata": {},
   "source": [
    "## Training without Chi Square Feature Selection"
   ]
  },
  {
   "cell_type": "code",
   "execution_count": 142,
   "id": "9ecea16b",
   "metadata": {},
   "outputs": [
    {
     "name": "stdout",
     "output_type": "stream",
     "text": [
      "Train Accuracy: 72.99%\n",
      "Test Accuracy: 70.32%\n",
      "Test F1 Score: 66.55%\n",
      "Mean Cross Val Accuracy: 67.43%\n",
      "Mean Cross Val F1 Score: 63.14%\n",
      "Testing Matthew's coefficient: 0.376\n"
     ]
    }
   ],
   "source": [
    "X_train = df_vectorized_text_unigrams_and_bigrams_train\n",
    "X_test = df_vectorized_text_unigrams_and_bigrams_test\n",
    "\n",
    "clf = LogisticRegression(random_state=0, max_iter=1000).fit(X_train, y_train)\n",
    "\n",
    "y_train_pred = clf.predict(X_train)\n",
    "print('Train Accuracy: ' + '{:.2%}'.format(accuracy_score(y_train, y_train_pred)))\n",
    "\n",
    "y_test_pred = clf.predict(X_test)\n",
    "print('Test Accuracy: ' + '{:.2%}'.format(accuracy_score(y_test, y_test_pred)))\n",
    "print('Test F1 Score: ' + '{:.2%}'.format(f1_score(y_test, y_test_pred, average='weighted')))\n",
    "\n",
    "## Cross Validation\n",
    "cross_val_accuracy_scores = cross_val_score(clf, X_train, y_train, scoring='accuracy', cv=10, n_jobs=-1)   \n",
    "print(\"Mean Cross Val Accuracy: \" + '{:.2%}'.format(cross_val_accuracy_scores.mean()))\n",
    "    \n",
    "cross_val_f1_scores = cross_val_score(clf, X_train, y_train, scoring='f1_weighted', cv=10, n_jobs=-1)\n",
    "print(\"Mean Cross Val F1 Score: \" + '{:.2%}'.format(cross_val_f1_scores.mean()))\n",
    "\n",
    "testing_matthew_coeff = matthews_corrcoef(y_test, y_test_pred)\n",
    "print(\"Testing Matthew's coefficient:\", round(testing_matthew_coeff,3))"
   ]
  },
  {
   "cell_type": "markdown",
   "id": "0c885362",
   "metadata": {},
   "source": [
    "## Training with Chi Square Feature Selection"
   ]
  },
  {
   "cell_type": "code",
   "execution_count": 143,
   "id": "8ad68a93",
   "metadata": {
    "scrolled": true
   },
   "outputs": [
    {
     "data": {
      "text/html": [
       "<div>\n",
       "<style scoped>\n",
       "    .dataframe tbody tr th:only-of-type {\n",
       "        vertical-align: middle;\n",
       "    }\n",
       "\n",
       "    .dataframe tbody tr th {\n",
       "        vertical-align: top;\n",
       "    }\n",
       "\n",
       "    .dataframe thead th {\n",
       "        text-align: right;\n",
       "    }\n",
       "</style>\n",
       "<table border=\"1\" class=\"dataframe\">\n",
       "  <thead>\n",
       "    <tr style=\"text-align: right;\">\n",
       "      <th></th>\n",
       "      <th>cool</th>\n",
       "      <th>wait</th>\n",
       "      <th>want</th>\n",
       "      <th>awesome</th>\n",
       "      <th>amazing</th>\n",
       "      <th>wait self</th>\n",
       "      <th>love</th>\n",
       "      <th>concern</th>\n",
       "      <th>fbi</th>\n",
       "      <th>trust</th>\n",
       "      <th>...</th>\n",
       "      <th>car change</th>\n",
       "      <th>ok</th>\n",
       "      <th>google glass</th>\n",
       "      <th>likely</th>\n",
       "      <th>yr</th>\n",
       "      <th>add</th>\n",
       "      <th>possible</th>\n",
       "      <th>taxi</th>\n",
       "      <th>car like</th>\n",
       "      <th>location</th>\n",
       "    </tr>\n",
       "  </thead>\n",
       "  <tbody>\n",
       "    <tr>\n",
       "      <th>0</th>\n",
       "      <td>7.462667e+01</td>\n",
       "      <td>3.889458e+01</td>\n",
       "      <td>3.443642e+01</td>\n",
       "      <td>3.309590e+01</td>\n",
       "      <td>26.974116</td>\n",
       "      <td>26.902897</td>\n",
       "      <td>26.822298</td>\n",
       "      <td>26.010385</td>\n",
       "      <td>24.685814</td>\n",
       "      <td>23.715714</td>\n",
       "      <td>...</td>\n",
       "      <td>0.027868</td>\n",
       "      <td>0.027175</td>\n",
       "      <td>0.023337</td>\n",
       "      <td>0.022157</td>\n",
       "      <td>0.019299</td>\n",
       "      <td>0.016209</td>\n",
       "      <td>0.015285</td>\n",
       "      <td>0.012621</td>\n",
       "      <td>0.010937</td>\n",
       "      <td>0.000325</td>\n",
       "    </tr>\n",
       "    <tr>\n",
       "      <th>1</th>\n",
       "      <td>6.237707e-17</td>\n",
       "      <td>3.582203e-09</td>\n",
       "      <td>3.328329e-08</td>\n",
       "      <td>6.506025e-08</td>\n",
       "      <td>0.000001</td>\n",
       "      <td>0.000001</td>\n",
       "      <td>0.000001</td>\n",
       "      <td>0.000002</td>\n",
       "      <td>0.000004</td>\n",
       "      <td>0.000007</td>\n",
       "      <td>...</td>\n",
       "      <td>0.986163</td>\n",
       "      <td>0.986504</td>\n",
       "      <td>0.988399</td>\n",
       "      <td>0.988983</td>\n",
       "      <td>0.990397</td>\n",
       "      <td>0.991928</td>\n",
       "      <td>0.992387</td>\n",
       "      <td>0.993710</td>\n",
       "      <td>0.994546</td>\n",
       "      <td>0.999837</td>\n",
       "    </tr>\n",
       "  </tbody>\n",
       "</table>\n",
       "<p>2 rows × 785 columns</p>\n",
       "</div>"
      ],
      "text/plain": [
       "           cool          wait          want       awesome    amazing  \\\n",
       "0  7.462667e+01  3.889458e+01  3.443642e+01  3.309590e+01  26.974116   \n",
       "1  6.237707e-17  3.582203e-09  3.328329e-08  6.506025e-08   0.000001   \n",
       "\n",
       "   wait self       love    concern        fbi      trust  ...  car change  \\\n",
       "0  26.902897  26.822298  26.010385  24.685814  23.715714  ...    0.027868   \n",
       "1   0.000001   0.000001   0.000002   0.000004   0.000007  ...    0.986163   \n",
       "\n",
       "         ok  google glass    likely        yr       add  possible      taxi  \\\n",
       "0  0.027175      0.023337  0.022157  0.019299  0.016209  0.015285  0.012621   \n",
       "1  0.986504      0.988399  0.988983  0.990397  0.991928  0.992387  0.993710   \n",
       "\n",
       "   car like  location  \n",
       "0  0.010937  0.000325  \n",
       "1  0.994546  0.999837  \n",
       "\n",
       "[2 rows x 785 columns]"
      ]
     },
     "execution_count": 143,
     "metadata": {},
     "output_type": "execute_result"
    }
   ],
   "source": [
    "# 0 is chi2 score, 1 is p-value\n",
    "X_train = df_vectorized_text_unigrams_and_bigrams_train\n",
    "X_test = df_vectorized_text_unigrams_and_bigrams_test\n",
    "\n",
    "chi2_values = chi2(X_train.values, y_train)\n",
    "chi2_df = pd.DataFrame(data=chi2_values, columns=X_train.columns)\n",
    "chi2_df_sorted = chi2_df.sort_values(by=0, axis = 1, ascending = False)\n",
    "chi2_df_sorted"
   ]
  },
  {
   "cell_type": "markdown",
   "id": "ec31b8bc",
   "metadata": {},
   "source": [
    "## Finding the optimal number of features to use based on cross validation F1-score"
   ]
  },
  {
   "cell_type": "code",
   "execution_count": 144,
   "id": "df7bfe4e",
   "metadata": {},
   "outputs": [],
   "source": [
    "f1_results_unigram_bigram = {}\n",
    "for n in range(1, 785, 5):\n",
    "    chi2_columns_unigram_bigram = chi2_df_sorted.columns[:n]\n",
    "    X_train_df = df_vectorized_text_unigrams_and_bigrams_train[chi2_columns_unigram_bigram]\n",
    "\n",
    "    #train MLR\n",
    "    clf = LogisticRegression(random_state=0, max_iter=1000)\n",
    "\n",
    "    #Cross validation, cv=5\n",
    "    f1 = cross_val_score(clf, X_train_df, y_train, scoring='f1_weighted', cv=5)\n",
    "    \n",
    "    #Storing mean cross validation F1-scores in a dictionary\n",
    "    f1_results_unigram_bigram[n] = f1.mean() "
   ]
  },
  {
   "cell_type": "code",
   "execution_count": 145,
   "id": "dd1621be",
   "metadata": {},
   "outputs": [
    {
     "data": {
      "text/plain": [
       "<AxesSubplot:>"
      ]
     },
     "execution_count": 145,
     "metadata": {},
     "output_type": "execute_result"
    },
    {
     "data": {
      "image/png": "[encoded data removed]",
      "text/plain": [
       "<Figure size 1440x864 with 1 Axes>"
      ]
     },
     "metadata": {},
     "output_type": "display_data"
    }
   ],
   "source": [
    "sns.set(rc={'figure.figsize':(20,12)})\n",
    "sns.lineplot(data=f1_results_unigram_bigram)"
   ]
  },
  {
   "cell_type": "code",
   "execution_count": 146,
   "id": "f31e8688",
   "metadata": {},
   "outputs": [
    {
     "data": {
      "text/plain": [
       "316"
      ]
     },
     "execution_count": 146,
     "metadata": {},
     "output_type": "execute_result"
    }
   ],
   "source": [
    "# Getting the optimal number of features which will result in best mean cross validation F1-score from the dictionary\n",
    "\n",
    "best_no_of_features= max(f1_results_unigram_bigram, key=f1_results_unigram_bigram.get)\n",
    "best_no_of_features"
   ]
  },
  {
   "cell_type": "code",
   "execution_count": 147,
   "id": "c4da8538",
   "metadata": {},
   "outputs": [],
   "source": [
    "# Extracting the optimal number of features into a dataframe for training\n",
    "\n",
    "chi2_columns = chi2_df_sorted.columns[:best_no_of_features]\n",
    "X_train_vectorized_unigram_bigram_chi_square = df_vectorized_text_unigrams_and_bigrams_train[chi2_columns]\n",
    "X_test_vectorized_unigram_bigram_chi_square = df_vectorized_text_unigrams_and_bigrams_test[chi2_columns]"
   ]
  },
  {
   "cell_type": "code",
   "execution_count": 148,
   "id": "6da2b2c0",
   "metadata": {},
   "outputs": [
    {
     "name": "stdout",
     "output_type": "stream",
     "text": [
      "Train Accuracy: 71.64%\n",
      "Test Accuracy: 70.47%\n",
      "Test F1 Score: 66.15%\n",
      "Mean Cross Val Accuracy: 69.12%\n",
      "Mean Cross Val F1 Score: 64.75%\n",
      "Testing Matthew's coefficient: 0.377\n"
     ]
    }
   ],
   "source": [
    "X_train = X_train_vectorized_unigram_bigram_chi_square\n",
    "X_test = X_test_vectorized_unigram_bigram_chi_square\n",
    "\n",
    "clf = LogisticRegression(random_state=0, max_iter=1000).fit(X_train, y_train)\n",
    "\n",
    "y_train_pred = clf.predict(X_train)\n",
    "print('Train Accuracy: ' + '{:.2%}'.format(accuracy_score(y_train, y_train_pred)))\n",
    "\n",
    "y_test_pred = clf.predict(X_test)\n",
    "print('Test Accuracy: ' + '{:.2%}'.format(accuracy_score(y_test, y_test_pred)))\n",
    "print('Test F1 Score: ' + '{:.2%}'.format(f1_score(y_test, y_test_pred, average='weighted')))\n",
    "\n",
    "## Cross Validation\n",
    "cross_val_accuracy_scores = cross_val_score(clf, X_train, y_train, scoring='accuracy', cv=10, n_jobs=-1)   \n",
    "print(\"Mean Cross Val Accuracy: \" + '{:.2%}'.format(cross_val_accuracy_scores.mean()))\n",
    "    \n",
    "cross_val_f1_scores = cross_val_score(clf, X_train, y_train, scoring='f1_weighted', cv=10, n_jobs=-1)\n",
    "print(\"Mean Cross Val F1 Score: \" + '{:.2%}'.format(cross_val_f1_scores.mean()))\n",
    "\n",
    "testing_matthew_coeff = matthews_corrcoef(y_test, y_test_pred)\n",
    "print(\"Testing Matthew's coefficient:\", round(testing_matthew_coeff,3))"
   ]
  },
  {
   "cell_type": "markdown",
   "id": "639fb1bc",
   "metadata": {},
   "source": [
    "## Unigrams + Bigrams + Unsupervised Topics Results"
   ]
  },
  {
   "cell_type": "code",
   "execution_count": 149,
   "id": "ff5696a0",
   "metadata": {},
   "outputs": [],
   "source": [
    "unsupervised_topics=[(1,\n",
    "  [('california', 0.0676629306766293),\n",
    "   ('human', 0.034039020340390205),\n",
    "   ('legal', 0.026151930261519303),\n",
    "   ('accident', 0.025736820257368204),\n",
    "   ('hit', 0.024076380240763803),\n",
    "   ('state', 0.020755500207555),\n",
    "   ('stop', 0.019925280199252802),\n",
    "   ('mile', 0.0186799501867995),\n",
    "   ('insurance', 0.0182648401826484),\n",
    "   ('wow', 0.015359070153590702),\n",
    "   ('valley', 0.014943960149439602),\n",
    "   ('permit', 0.014113740141137402),\n",
    "   ('testing', 0.0136986301369863),\n",
    "   ('toyota', 0.0136986301369863),\n",
    "   ('invent', 0.013283520132835201),\n",
    "   ('license', 0.013283520132835201),\n",
    "   ('legalize', 0.012868410128684102),\n",
    "   ('silicon', 0.012868410128684102),\n",
    "   ('sign', 0.012038190120381901),\n",
    "   ('law', 0.011623080116230802),\n",
    "   ('bill', 0.0112079701120797),\n",
    "   ('week', 0.010792860107928601),\n",
    "   ('nevada', 0.009962640099626401),\n",
    "   ('complete', 0.0091324200913242),\n",
    "   ('florida', 0.0091324200913242),\n",
    "   ('approve', 0.0091324200913242),\n",
    "   ('report', 0.008717310087173101),\n",
    "   ('release', 0.008717310087173101),\n",
    "   ('push', 0.008717310087173101),\n",
    "   ('house', 0.007471980074719801)]),\n",
    " (2,\n",
    "  [('google', 0.17845257903494177),\n",
    "   ('year', 0.044509151414309486),\n",
    "   ('thing', 0.04076539101497504),\n",
    "   ('build', 0.03868552412645591),\n",
    "   ('buy', 0.0262063227953411),\n",
    "   ('talk', 0.02454242928452579),\n",
    "   ('happen', 0.02204658901830283),\n",
    "   ('start', 0.019966722129783693),\n",
    "   ('company', 0.017054908485856904),\n",
    "   ('news', 0.015391014975041598),\n",
    "   ('mt', 0.014559068219633943),\n",
    "   ('read', 0.012895174708818636),\n",
    "   ('detroit', 0.011231281198003328),\n",
    "   ('seat', 0.011231281198003328),\n",
    "   ('ceo', 0.010399334442595673),\n",
    "   ('internet', 0.009983361064891847),\n",
    "   ('wrong', 0.009983361064891847),\n",
    "   ('space', 0.009983361064891847),\n",
    "   ('picture', 0.008735440931780365),\n",
    "   ('delivery', 0.008319467554076539),\n",
    "   ('break', 0.008319467554076539),\n",
    "   ('write', 0.008319467554076539),\n",
    "   ('corner', 0.0066555740432612314),\n",
    "   ('drop', 0.0066555740432612314),\n",
    "   ('nyc', 0.006239600665557404),\n",
    "   ('fuck', 0.005407653910149751),\n",
    "   ('wait', 0.005407653910149751),\n",
    "   ('market', 0.005407653910149751),\n",
    "   ('automaker', 0.004991680532445923),\n",
    "   ('tire', 0.004991680532445923)]),\n",
    " (3,\n",
    "  [('future', 0.10693153000845308),\n",
    "   ('road', 0.08918005071851226),\n",
    "   ('test', 0.0566356720202874),\n",
    "   ('good', 0.034657650042265425),\n",
    "   ('audi', 0.024091293322062553),\n",
    "   ('drone', 0.021132713440405747),\n",
    "   ('public', 0.02028740490278952),\n",
    "   ('truck', 0.01944209636517329),\n",
    "   ('amazing', 0.016060862214708368),\n",
    "   ('close', 0.013524936601859678),\n",
    "   ('computer', 0.011411665257819104),\n",
    "   ('ce', 0.011411665257819104),\n",
    "   ('bus', 0.01014370245139476),\n",
    "   ('reality', 0.01014370245139476),\n",
    "   ('uk', 0.009721048182586645),\n",
    "   ('open', 0.008875739644970414),\n",
    "   ('volvo', 0.008875739644970414),\n",
    "   ('begin', 0.008030431107354184),\n",
    "   ('deliver', 0.008030431107354184),\n",
    "   ('agree', 0.007185122569737954),\n",
    "   ('blind', 0.006762468300929839),\n",
    "   ('mercedes', 0.006762468300929839),\n",
    "   ('deal', 0.006339814032121725),\n",
    "   ('order', 0.005494505494505495),\n",
    "   ('fall', 0.005494505494505495),\n",
    "   ('navigate', 0.005494505494505495),\n",
    "   ('scary', 0.005494505494505495),\n",
    "   ('drink', 0.005494505494505495),\n",
    "   ('amazon', 0.00507185122569738),\n",
    "   ('benz', 0.00507185122569738)]),\n",
    " (4,\n",
    "  [('people', 0.05048380311316786),\n",
    "   ('time', 0.04669751787968027),\n",
    "   ('world', 0.0340765671013883),\n",
    "   ('auto', 0.030290281867900715),\n",
    "   ('change', 0.02145561632309634),\n",
    "   ('safe', 0.02103491796381994),\n",
    "   ('real', 0.01766933108960875),\n",
    "   ('fly', 0.01724863273033235),\n",
    "   ('live', 0.016827934371055953),\n",
    "   ('feel', 0.015145140933950358),\n",
    "   ('googles', 0.015145140933950358),\n",
    "   ('kill', 0.013883045856121162),\n",
    "   ('point', 0.013462347496844763),\n",
    "   ('googleplex', 0.013462347496844763),\n",
    "   ('hear', 0.011358855700462769),\n",
    "   ('inside', 0.011358855700462769),\n",
    "   ('finally', 0.010096760622633571),\n",
    "   ('highway', 0.010096760622633571),\n",
    "   ('solve', 0.009255363904080775),\n",
    "   ('googlecar', 0.008834665544804375),\n",
    "   ('sleep', 0.008413967185527976),\n",
    "   ('impact', 0.008413967185527976),\n",
    "   ('infrastructure', 0.007993268826251577),\n",
    "   ('tweet', 0.007993268826251577),\n",
    "   ('hard', 0.007572570466975179),\n",
    "   ('miss', 0.00715187210769878),\n",
    "   ('late', 0.00715187210769878),\n",
    "   ('easy', 0.00715187210769878),\n",
    "   ('algorithm', 0.006731173748422381),\n",
    "   ('exist', 0.006731173748422381)]),\n",
    " (5,\n",
    "  [('autonomous', 0.12761592121460813),\n",
    "   ('vehicle', 0.11571604431678292),\n",
    "   ('driving', 0.04267542059909725),\n",
    "   ('technology', 0.042265080016413624),\n",
    "   ('design', 0.02051702913418137),\n",
    "   ('innovation', 0.016823963890028725),\n",
    "   ('lexus', 0.014361920393926959),\n",
    "   ('automate', 0.013130898645876077),\n",
    "   ('control', 0.012310217480508822),\n",
    "   ('dmv', 0.010668855149774312),\n",
    "   ('industry', 0.009848173984407058),\n",
    "   ('rule', 0.009848173984407058),\n",
    "   ('forward', 0.009848173984407058),\n",
    "   ('death', 0.00943783340172343),\n",
    "   ('lead', 0.009027492819039803),\n",
    "   ('fully', 0.007796471070988921),\n",
    "   ('hate', 0.007796471070988921),\n",
    "   ('article', 0.007386130488305293),\n",
    "   ('la', 0.006975789905621666),\n",
    "   ('automobile', 0.006565449322938038),\n",
    "   ('center', 0.006565449322938038),\n",
    "   ('damn', 0.006155108740254411),\n",
    "   ('connected', 0.006155108740254411),\n",
    "   ('concept', 0.006155108740254411),\n",
    "   ('automotive', 0.005744768157570784),\n",
    "   ('mode', 0.005334427574887156),\n",
    "   ('food', 0.005334427574887156),\n",
    "   ('driverlesscar', 0.005334427574887156),\n",
    "   ('reduce', 0.004924086992203529),\n",
    "   ('small', 0.004924086992203529)]),\n",
    " (6,\n",
    "  [('google', 0.26324859974149073),\n",
    "   ('today', 0.05040930633347695),\n",
    "   ('pass', 0.034898750538560966),\n",
    "   ('ready', 0.03059026281775097),\n",
    "   ('spot', 0.024989228780697974),\n",
    "   ('hope', 0.02240413614821198),\n",
    "   ('find', 0.017664799655320983),\n",
    "   ('day', 0.017664799655320983),\n",
    "   ('save', 0.014648858250753986),\n",
    "   ('end', 0.013787160706591986),\n",
    "   ('commute', 0.009478672985781991),\n",
    "   ('goog', 0.00904782421370099),\n",
    "   ('san', 0.008616975441619991),\n",
    "   ('yeah', 0.008616975441619991),\n",
    "   ('follow', 0.008616975441619991),\n",
    "   ('play', 0.007755277897457992),\n",
    "   ('freeway', 0.007755277897457992),\n",
    "   ('problem', 0.007755277897457992),\n",
    "   ('excited', 0.007755277897457992),\n",
    "   ('kid', 0.007324429125376993),\n",
    "   ('person', 0.006893580353295993),\n",
    "   ('man', 0.006462731581214994),\n",
    "   ('cost', 0.005601034037052995),\n",
    "   ('movie', 0.005170185264971995),\n",
    "   ('regulation', 0.004739336492890996),\n",
    "   ('important', 0.004739336492890996),\n",
    "   ('eliminate', 0.004308487720809996),\n",
    "   ('block', 0.004308487720809996),\n",
    "   ('claim', 0.004308487720809996),\n",
    "   ('low', 0.004308487720809996)]),\n",
    " (7,\n",
    "  [('great', 0.030146425495262703),\n",
    "   ('tesla', 0.025409130060292853),\n",
    "   ('idea', 0.020671834625323),\n",
    "   ('awesome', 0.019810508182601206),\n",
    "   ('day', 0.01636520241171404),\n",
    "   ('home', 0.01636520241171404),\n",
    "   ('pic', 0.01636520241171404),\n",
    "   ('develop', 0.015073212747631352),\n",
    "   ('create', 0.014642549526270457),\n",
    "   ('lol', 0.014642549526270457),\n",
    "   ('safety', 0.013781223083548665),\n",
    "   ('electric', 0.013350559862187769),\n",
    "   ('roll', 0.013350559862187769),\n",
    "   ('train', 0.013350559862187769),\n",
    "   ('problem', 0.012919896640826873),\n",
    "   ('business', 0.012489233419465978),\n",
    "   ('imagine', 0.012058570198105082),\n",
    "   ('race', 0.011627906976744186),\n",
    "   ('system', 0.011627906976744186),\n",
    "   ('transit', 0.01119724375538329),\n",
    "   ('guy', 0.010766580534022395),\n",
    "   ('true', 0.010766580534022395),\n",
    "   ('dream', 0.010766580534022395),\n",
    "   ('datum', 0.009905254091300603),\n",
    "   ('robotic', 0.009905254091300603),\n",
    "   ('drunk', 0.009474590869939707),\n",
    "   ('challenge', 0.009474590869939707),\n",
    "   ('cruise', 0.00904392764857881),\n",
    "   ('mass', 0.008613264427217916),\n",
    "   ('story', 0.00818260120585702)]),\n",
    " (8,\n",
    "  [('uber', 0.07060333761232349),\n",
    "   ('ride', 0.04321780059905862),\n",
    "   ('taxi', 0.03508771929824561),\n",
    "   ('watch', 0.03080872913992298),\n",
    "   ('google', 0.025673940949935817),\n",
    "   ('park', 0.018827556696619598),\n",
    "   ('parking', 0.01797175866495507),\n",
    "   ('lot', 0.01797175866495507),\n",
    "   ('bad', 0.015832263585793753),\n",
    "   ('job', 0.014548566538296961),\n",
    "   ('phone', 0.014548566538296961),\n",
    "   ('video', 0.014120667522464698),\n",
    "   ('fleet', 0.012836970474967908),\n",
    "   ('place', 0.01069747539580659),\n",
    "   ('replace', 0.010269576379974325),\n",
    "   ('launch', 0.010269576379974325),\n",
    "   ('model', 0.009841677364142062),\n",
    "   ('pay', 0.009841677364142062),\n",
    "   ('cab', 0.008985879332477536),\n",
    "   ('pick', 0.008985879332477536),\n",
    "   ('sf', 0.008985879332477536),\n",
    "   ('fbi', 0.008985879332477536),\n",
    "   ('cyclist', 0.008985879332477536),\n",
    "   ('ad', 0.008557980316645272),\n",
    "   ('guess', 0.008130081300813009),\n",
    "   ('reason', 0.008130081300813009),\n",
    "   ('reshape', 0.007702182284980745),\n",
    "   ('share', 0.007702182284980745),\n",
    "   ('require', 0.007274283269148481),\n",
    "   ('economy', 0.0068463842533162175)]),\n",
    " (9,\n",
    "  [('tech', 0.04965753424657534),\n",
    "   ('robot', 0.03424657534246575),\n",
    "   ('traffic', 0.030393835616438356),\n",
    "   ('apple', 0.026541095890410957),\n",
    "   ('glass', 0.019691780821917807),\n",
    "   ('plan', 0.019263698630136987),\n",
    "   ('nissan', 0.018835616438356163),\n",
    "   ('trust', 0.0175513698630137),\n",
    "   ('question', 0.0136986301369863),\n",
    "   ('bring', 0.013270547945205479),\n",
    "   ('free', 0.012414383561643835),\n",
    "   ('announce', 0.011558219178082191),\n",
    "   ('drivingcar', 0.01113013698630137),\n",
    "   ('research', 0.009845890410958904),\n",
    "   ('morning', 0.009417808219178082),\n",
    "   ('set', 0.00898972602739726),\n",
    "   ('camera', 0.00898972602739726),\n",
    "   ('nice', 0.008561643835616438),\n",
    "   ('bmw', 0.008133561643835616),\n",
    "   ('run', 0.008133561643835616),\n",
    "   ('gm', 0.008133561643835616),\n",
    "   ('stuff', 0.007705479452054794),\n",
    "   ('tv', 0.007277397260273972),\n",
    "   ('learn', 0.006421232876712328),\n",
    "   ('age', 0.006421232876712328),\n",
    "   ('add', 0.006421232876712328),\n",
    "   ('wearable', 0.0059931506849315065),\n",
    "   ('child', 0.0059931506849315065),\n",
    "   ('bet', 0.005565068493150685),\n",
    "   ('trend', 0.005565068493150685)]),\n",
    " (10,\n",
    "  [('google', 0.2402120717781403),\n",
    "   ('street', 0.05831973898858075),\n",
    "   ('wheel', 0.050978792822185974),\n",
    "   ('steering', 0.035481239804241435),\n",
    "   ('view', 0.029771615008156605),\n",
    "   ('city', 0.02732463295269168),\n",
    "   ('unveil', 0.01957585644371941),\n",
    "   ('prototype', 0.017128874388254486),\n",
    "   ('hand', 0.016721044045676998),\n",
    "   ('brake', 0.015497553017944535),\n",
    "   ('mountain', 0.014274061990212071),\n",
    "   ('pedal', 0.013866231647634585),\n",
    "   ('master', 0.01101141924959217),\n",
    "   ('codecon', 0.00897226753670473),\n",
    "   ('search', 0.00734094616639478),\n",
    "   ('meet', 0.00734094616639478),\n",
    "   ('perfect', 0.0065252854812398045),\n",
    "   ('glass', 0.006117455138662317),\n",
    "   ('button', 0.006117455138662317),\n",
    "   ('sit', 0.006117455138662317),\n",
    "   ('campus', 0.005709624796084829),\n",
    "   ('past', 0.005709624796084829),\n",
    "   ('gas', 0.005301794453507341),\n",
    "   ('social', 0.004893964110929853),\n",
    "   ('billion', 0.004893964110929853),\n",
    "   ('fill', 0.004486133768352365),\n",
    "   ('development', 0.004486133768352365),\n",
    "   ('yay', 0.004078303425774877),\n",
    "   ('siliconvalley', 0.004078303425774877),\n",
    "   ('location', 0.004078303425774877)]),\n",
    " (11,\n",
    "  [('wait', 0.046052631578947366),\n",
    "   ('nt', 0.04429824561403509),\n",
    "   ('life', 0.02456140350877193),\n",
    "   ('transportation', 0.02149122807017544),\n",
    "   ('city', 0.019736842105263157),\n",
    "   ('long', 0.018421052631578946),\n",
    "   ('interesting', 0.017105263157894738),\n",
    "   ('crash', 0.015789473684210527),\n",
    "   ('turn', 0.015789473684210527),\n",
    "   ('speed', 0.015350877192982455),\n",
    "   ('government', 0.013157894736842105),\n",
    "   ('fun', 0.012280701754385965),\n",
    "   ('michigan', 0.012280701754385965),\n",
    "   ('issue', 0.011842105263157895),\n",
    "   ('head', 0.011842105263157895),\n",
    "   ('service', 0.011842105263157895),\n",
    "   ('ticket', 0.011403508771929825),\n",
    "   ('hour', 0.011403508771929825),\n",
    "   ('lane', 0.010964912280701754),\n",
    "   ('hey', 0.010526315789473684),\n",
    "   ('office', 0.010526315789473684),\n",
    "   ('program', 0.010526315789473684),\n",
    "   ('light', 0.010087719298245614),\n",
    "   ('study', 0.010087719298245614),\n",
    "   ('sound', 0.009649122807017544),\n",
    "   ('run', 0.009210526315789473),\n",
    "   ('ann', 0.009210526315789473),\n",
    "   ('arbor', 0.009210526315789473),\n",
    "   ('pull', 0.009210526315789473),\n",
    "   ('university', 0.009210526315789473)]),\n",
    " (12,\n",
    "  [('google', 0.20894909688013136),\n",
    "   ('work', 0.05213464696223317),\n",
    "   ('cool', 0.050492610837438424),\n",
    "   ('map', 0.021346469622331693),\n",
    "   ('love', 0.020114942528735632),\n",
    "   ('big', 0.020114942528735632),\n",
    "   ('pretty', 0.017651888341543513),\n",
    "   ('ford', 0.01683087027914614),\n",
    "   ('fast', 0.013136288998357963),\n",
    "   ('project', 0.013136288998357963),\n",
    "   ('step', 0.011904761904761904),\n",
    "   ('video', 0.011083743842364532),\n",
    "   ('shit', 0.010262725779967159),\n",
    "   ('worth', 0.009441707717569787),\n",
    "   ('totally', 0.0090311986863711),\n",
    "   ('check', 0.008620689655172414),\n",
    "   ('team', 0.008210180623973728),\n",
    "   ('crazy', 0.007799671592775041),\n",
    "   ('area', 0.007799671592775041),\n",
    "   ('thought', 0.007389162561576354),\n",
    "   ('trillion', 0.0069786535303776685),\n",
    "   ('arrive', 0.006157635467980296),\n",
    "   ('super', 0.006157635467980296),\n",
    "   ('line', 0.006157635467980296),\n",
    "   ('omg', 0.005747126436781609),\n",
    "   ('figure', 0.005336617405582923),\n",
    "   ('reveal', 0.005336617405582923),\n",
    "   ('stanford', 0.0049261083743842365),\n",
    "   ('software', 0.0049261083743842365),\n",
    "   ('app', 0.0049261083743842365)])]\n",
    "\n",
    "df_train_unsupervised_unigram_bigram=df.copy()\n",
    "df_test_unsupervised_unigram_bigram=df_test.copy()\n",
    "\n",
    "def assign_topic_score(text, topic_no):\n",
    "    topic_list=unsupervised_topics[topic_no-1][1]    \n",
    "    \n",
    "    wordlist=text.split(' ')\n",
    "    topic_score=0\n",
    "    for word in wordlist:\n",
    "        for word_weight in topic_list:\n",
    "            if word==word_weight[0]:\n",
    "                topic_score+=word_weight[1]\n",
    "                \n",
    "    return topic_score\n",
    "    \n",
    "for each_topic in unsupervised_topics:\n",
    "    df_train_unsupervised_unigram_bigram['unsupervised_topic_' + str(each_topic[0])]= df_train_unsupervised_unigram_bigram.apply(lambda row: assign_topic_score(row['lemmatized and stopwords_removed'], each_topic[0]), axis=1)\n",
    "    df_test_unsupervised_unigram_bigram['unsupervised_topic_' + str(each_topic[0])]= df_test_unsupervised_unigram_bigram.apply(lambda row: assign_topic_score(row['lemmatized and stopwords_removed'], each_topic[0]), axis=1)\n"
   ]
  },
  {
   "cell_type": "markdown",
   "id": "401e54b4",
   "metadata": {},
   "source": [
    "## Training without Chi Square Feature Selection"
   ]
  },
  {
   "cell_type": "markdown",
   "id": "337d21df",
   "metadata": {},
   "source": [
    "## Preparing data for model training"
   ]
  },
  {
   "cell_type": "code",
   "execution_count": 150,
   "id": "a09de9e3",
   "metadata": {},
   "outputs": [],
   "source": [
    "# Scaling the Unsupervised topics\n",
    "\n",
    "scaler = MinMaxScaler()\n",
    "scaled_train_unsupervised_unigram_bigram = scaler.fit_transform(df_train_unsupervised_unigram_bigram.iloc[:, 3:])\n",
    "scaled_test_unsupervised_unigram_bigram = scaler.transform(df_test_unsupervised_unigram_bigram.iloc[:, 3:])\n",
    "\n",
    "# Transforming scaled topics into a dataframe\n",
    "\n",
    "scaled_train_unsupervised_unigram_bigram_df = pd.DataFrame(scaled_train_unsupervised_unigram_bigram, columns = df_train_unsupervised_unigram_bigram.iloc[:, 3:].columns)\n",
    "scaled_test_unsupervised_unigram_bigram_df = pd.DataFrame(scaled_test_unsupervised_unigram_bigram, columns = df_test_unsupervised_unigram_bigram.iloc[:, 3:].columns)\n",
    "\n",
    "# Combining Unigrams + Bigrams + Unsupervised topics into one dataframe\n",
    "\n",
    "train_unsupervised_unigram_bigram = pd.concat([scaled_train_unsupervised_unigram_bigram_df, df_vectorized_text_unigrams_and_bigrams_train], axis=1)\n",
    "test_unsupervised_unigram_bigram = pd.concat([scaled_test_unsupervised_unigram_bigram_df, df_vectorized_text_unigrams_and_bigrams_test], axis=1)"
   ]
  },
  {
   "cell_type": "code",
   "execution_count": 151,
   "id": "f16ec0b7",
   "metadata": {},
   "outputs": [
    {
     "name": "stdout",
     "output_type": "stream",
     "text": [
      "Train Accuracy: 72.99%\n",
      "Test Accuracy: 70.17%\n",
      "Test F1 Score: 66.32%\n",
      "Mean Cross Val Accuracy: 67.69%\n",
      "Mean Cross Val F1 Score: 63.44%\n",
      "Testing Matthew's coefficient: 0.372\n"
     ]
    }
   ],
   "source": [
    "X_train = train_unsupervised_unigram_bigram\n",
    "X_test = test_unsupervised_unigram_bigram\n",
    "\n",
    "clf = LogisticRegression(random_state=0, max_iter=1000).fit(X_train, y_train)\n",
    "\n",
    "y_train_pred = clf.predict(X_train)\n",
    "print('Train Accuracy: ' + '{:.2%}'.format(accuracy_score(y_train, y_train_pred)))\n",
    "\n",
    "y_test_pred = clf.predict(X_test)\n",
    "print('Test Accuracy: ' + '{:.2%}'.format(accuracy_score(y_test, y_test_pred)))\n",
    "print('Test F1 Score: ' + '{:.2%}'.format(f1_score(y_test, y_test_pred, average='weighted')))\n",
    "\n",
    "## Cross Validation\n",
    "cross_val_accuracy_scores = cross_val_score(clf, X_train, y_train, scoring='accuracy', cv=10, n_jobs=-1)   \n",
    "print(\"Mean Cross Val Accuracy: \" + '{:.2%}'.format(cross_val_accuracy_scores.mean()))\n",
    "    \n",
    "cross_val_f1_scores = cross_val_score(clf, X_train, y_train, scoring='f1_weighted', cv=10, n_jobs=-1)\n",
    "print(\"Mean Cross Val F1 Score: \" + '{:.2%}'.format(cross_val_f1_scores.mean()))\n",
    "\n",
    "testing_matthew_coeff = matthews_corrcoef(y_test, y_test_pred)\n",
    "print(\"Testing Matthew's coefficient:\", round(testing_matthew_coeff,3))"
   ]
  },
  {
   "cell_type": "markdown",
   "id": "870336ab",
   "metadata": {},
   "source": [
    "## Training with Chi Square Feature Selection"
   ]
  },
  {
   "cell_type": "markdown",
   "id": "10b341ff",
   "metadata": {},
   "source": [
    "## Preparing data for model training"
   ]
  },
  {
   "cell_type": "code",
   "execution_count": 152,
   "id": "fa7b2290",
   "metadata": {},
   "outputs": [],
   "source": [
    "# Scaling the Unsupervised topics\n",
    "\n",
    "scaler = MinMaxScaler()\n",
    "scaled_train_unsupervised_unigram_bigram_chi_square = scaler.fit_transform(df_train_unsupervised_unigram_bigram.iloc[:, 3:])\n",
    "scaled_test_unsupervised_unigram_bigram_chi_square = scaler.transform(df_test_unsupervised_unigram_bigram.iloc[:, 3:])\n",
    "\n",
    "# Transforming scaled topics into a dataframe\n",
    "\n",
    "scaled_train_unsupervised_unigram_bigram_chi_square_df = pd.DataFrame(scaled_train_unsupervised_unigram_bigram_chi_square, columns = df_train_unsupervised_unigram_bigram.iloc[:, 3:].columns)\n",
    "scaled_test_unsupervised_unigram_bigram_chi_square_df = pd.DataFrame(scaled_test_unsupervised_unigram_bigram_chi_square, columns = df_test_unsupervised_unigram_bigram.iloc[:, 3:].columns)\n",
    "\n",
    "# Combining Unigrams + Bigrams + Unsupervised topics into one dataframe\n",
    "\n",
    "train_unsupervised_unigram_bigram_chi_square_df = pd.concat([scaled_train_unsupervised_unigram_bigram_chi_square_df, df_vectorized_text_unigrams_and_bigrams_train], axis=1)\n",
    "test_unsupervised_unigram_bigram_chi_square_df = pd.concat([scaled_test_unsupervised_unigram_bigram_chi_square_df, df_vectorized_text_unigrams_and_bigrams_test], axis=1)"
   ]
  },
  {
   "cell_type": "code",
   "execution_count": 153,
   "id": "05d2d2e1",
   "metadata": {
    "scrolled": false
   },
   "outputs": [
    {
     "data": {
      "text/html": [
       "<div>\n",
       "<style scoped>\n",
       "    .dataframe tbody tr th:only-of-type {\n",
       "        vertical-align: middle;\n",
       "    }\n",
       "\n",
       "    .dataframe tbody tr th {\n",
       "        vertical-align: top;\n",
       "    }\n",
       "\n",
       "    .dataframe thead th {\n",
       "        text-align: right;\n",
       "    }\n",
       "</style>\n",
       "<table border=\"1\" class=\"dataframe\">\n",
       "  <thead>\n",
       "    <tr style=\"text-align: right;\">\n",
       "      <th></th>\n",
       "      <th>cool</th>\n",
       "      <th>wait</th>\n",
       "      <th>want</th>\n",
       "      <th>awesome</th>\n",
       "      <th>amazing</th>\n",
       "      <th>wait self</th>\n",
       "      <th>love</th>\n",
       "      <th>concern</th>\n",
       "      <th>fbi</th>\n",
       "      <th>trust</th>\n",
       "      <th>...</th>\n",
       "      <th>car change</th>\n",
       "      <th>ok</th>\n",
       "      <th>google glass</th>\n",
       "      <th>likely</th>\n",
       "      <th>yr</th>\n",
       "      <th>add</th>\n",
       "      <th>possible</th>\n",
       "      <th>taxi</th>\n",
       "      <th>car like</th>\n",
       "      <th>location</th>\n",
       "    </tr>\n",
       "  </thead>\n",
       "  <tbody>\n",
       "    <tr>\n",
       "      <th>0</th>\n",
       "      <td>7.462667e+01</td>\n",
       "      <td>3.889458e+01</td>\n",
       "      <td>3.443642e+01</td>\n",
       "      <td>3.309590e+01</td>\n",
       "      <td>26.974116</td>\n",
       "      <td>26.902897</td>\n",
       "      <td>26.822298</td>\n",
       "      <td>26.010385</td>\n",
       "      <td>24.685814</td>\n",
       "      <td>23.715714</td>\n",
       "      <td>...</td>\n",
       "      <td>0.027868</td>\n",
       "      <td>0.027175</td>\n",
       "      <td>0.023337</td>\n",
       "      <td>0.022157</td>\n",
       "      <td>0.019299</td>\n",
       "      <td>0.016209</td>\n",
       "      <td>0.015285</td>\n",
       "      <td>0.012621</td>\n",
       "      <td>0.010937</td>\n",
       "      <td>0.000325</td>\n",
       "    </tr>\n",
       "    <tr>\n",
       "      <th>1</th>\n",
       "      <td>6.237707e-17</td>\n",
       "      <td>3.582203e-09</td>\n",
       "      <td>3.328329e-08</td>\n",
       "      <td>6.506025e-08</td>\n",
       "      <td>0.000001</td>\n",
       "      <td>0.000001</td>\n",
       "      <td>0.000001</td>\n",
       "      <td>0.000002</td>\n",
       "      <td>0.000004</td>\n",
       "      <td>0.000007</td>\n",
       "      <td>...</td>\n",
       "      <td>0.986163</td>\n",
       "      <td>0.986504</td>\n",
       "      <td>0.988399</td>\n",
       "      <td>0.988983</td>\n",
       "      <td>0.990397</td>\n",
       "      <td>0.991928</td>\n",
       "      <td>0.992387</td>\n",
       "      <td>0.993710</td>\n",
       "      <td>0.994546</td>\n",
       "      <td>0.999837</td>\n",
       "    </tr>\n",
       "  </tbody>\n",
       "</table>\n",
       "<p>2 rows × 797 columns</p>\n",
       "</div>"
      ],
      "text/plain": [
       "           cool          wait          want       awesome    amazing  \\\n",
       "0  7.462667e+01  3.889458e+01  3.443642e+01  3.309590e+01  26.974116   \n",
       "1  6.237707e-17  3.582203e-09  3.328329e-08  6.506025e-08   0.000001   \n",
       "\n",
       "   wait self       love    concern        fbi      trust  ...  car change  \\\n",
       "0  26.902897  26.822298  26.010385  24.685814  23.715714  ...    0.027868   \n",
       "1   0.000001   0.000001   0.000002   0.000004   0.000007  ...    0.986163   \n",
       "\n",
       "         ok  google glass    likely        yr       add  possible      taxi  \\\n",
       "0  0.027175      0.023337  0.022157  0.019299  0.016209  0.015285  0.012621   \n",
       "1  0.986504      0.988399  0.988983  0.990397  0.991928  0.992387  0.993710   \n",
       "\n",
       "   car like  location  \n",
       "0  0.010937  0.000325  \n",
       "1  0.994546  0.999837  \n",
       "\n",
       "[2 rows x 797 columns]"
      ]
     },
     "execution_count": 153,
     "metadata": {},
     "output_type": "execute_result"
    }
   ],
   "source": [
    "# 0 is chi2 score, 1 is p-value\n",
    "X_train = train_unsupervised_unigram_bigram_chi_square_df\n",
    "X_test = test_unsupervised_unigram_bigram_chi_square_df\n",
    "\n",
    "chi2_values = chi2(X_train.values, y_train)\n",
    "chi2_df = pd.DataFrame(data=chi2_values, columns=X_train.columns)\n",
    "chi2_df_sorted = chi2_df.sort_values(by=0, axis = 1, ascending = False)\n",
    "chi2_df_sorted"
   ]
  },
  {
   "cell_type": "markdown",
   "id": "5969fc8f",
   "metadata": {},
   "source": [
    "## Finding the optimal number of features to use based on cross validation F1-score"
   ]
  },
  {
   "cell_type": "code",
   "execution_count": 154,
   "id": "dee0d445",
   "metadata": {},
   "outputs": [],
   "source": [
    "f1_results_unsupervised_unigram_bigram_chi_square = {}\n",
    "for n in range(1, 797, 5):\n",
    "    chi2_columns_unsupervised_unigram_bigram = chi2_df_sorted.columns[:n]\n",
    "    X_train_df = train_unsupervised_unigram_bigram_chi_square_df[chi2_columns_unsupervised_unigram_bigram]\n",
    "\n",
    "    #train MLR\n",
    "    clf = LogisticRegression(random_state=0, max_iter=1000)\n",
    "\n",
    "    #Cross validation, cv=5\n",
    "    f1 = cross_val_score(clf, X_train_df, y_train, scoring='f1_weighted', cv=5)\n",
    "    \n",
    "    #Storing mean cross validation F1-scores in a dictionary\n",
    "    f1_results_unsupervised_unigram_bigram_chi_square[n] = f1.mean() "
   ]
  },
  {
   "cell_type": "code",
   "execution_count": 155,
   "id": "8cc1bba8",
   "metadata": {},
   "outputs": [
    {
     "data": {
      "text/plain": [
       "<AxesSubplot:>"
      ]
     },
     "execution_count": 155,
     "metadata": {},
     "output_type": "execute_result"
    },
    {
     "data": {
      "image/png": "[encoded data removed]",
      "text/plain": [
       "<Figure size 1440x864 with 1 Axes>"
      ]
     },
     "metadata": {},
     "output_type": "display_data"
    }
   ],
   "source": [
    "sns.set(rc={'figure.figsize':(20,12)})\n",
    "sns.lineplot(data=f1_results_unsupervised_unigram_bigram_chi_square)"
   ]
  },
  {
   "cell_type": "code",
   "execution_count": 156,
   "id": "c6e6b7dd",
   "metadata": {},
   "outputs": [
    {
     "data": {
      "text/plain": [
       "321"
      ]
     },
     "execution_count": 156,
     "metadata": {},
     "output_type": "execute_result"
    }
   ],
   "source": [
    "# Getting the optimal number of features which will result in best mean cross validation F1-score from the dictionary\n",
    "\n",
    "best_no_of_features= max(f1_results_unsupervised_unigram_bigram_chi_square, key=f1_results_unsupervised_unigram_bigram_chi_square.get)\n",
    "best_no_of_features"
   ]
  },
  {
   "cell_type": "code",
   "execution_count": 157,
   "id": "e530195d",
   "metadata": {},
   "outputs": [],
   "source": [
    "# Extracting the optimal number of features into a dataframe for training\n",
    "\n",
    "chi2_columns = chi2_df_sorted.columns[:best_no_of_features]\n",
    "scaled_train_unsupervised_unigram_bigram_df_chi_square = train_unsupervised_unigram_bigram_chi_square_df[chi2_columns]\n",
    "scaled_test_unsupervised_unigram_bigram_df_chi_square = test_unsupervised_unigram_bigram_chi_square_df[chi2_columns]"
   ]
  },
  {
   "cell_type": "code",
   "execution_count": 158,
   "id": "25b66a1c",
   "metadata": {},
   "outputs": [
    {
     "name": "stdout",
     "output_type": "stream",
     "text": [
      "Train Accuracy: 71.81%\n",
      "Test Accuracy: 70.47%\n",
      "Test F1 Score: 66.24%\n",
      "Mean Cross Val Accuracy: 69.31%\n",
      "Mean Cross Val F1 Score: 65.01%\n",
      "Testing Matthew's coefficient: 0.377\n"
     ]
    }
   ],
   "source": [
    "X_train = scaled_train_unsupervised_unigram_bigram_df_chi_square\n",
    "X_test = scaled_test_unsupervised_unigram_bigram_df_chi_square\n",
    "\n",
    "clf = LogisticRegression(random_state=0, max_iter=1000).fit(X_train, y_train)\n",
    "\n",
    "y_train_pred = clf.predict(X_train)\n",
    "print('Train Accuracy: ' + '{:.2%}'.format(accuracy_score(y_train, y_train_pred)))\n",
    "\n",
    "y_test_pred = clf.predict(X_test)\n",
    "print('Test Accuracy: ' + '{:.2%}'.format(accuracy_score(y_test, y_test_pred)))\n",
    "print('Test F1 Score: ' + '{:.2%}'.format(f1_score(y_test, y_test_pred, average='weighted')))\n",
    "\n",
    "## Cross Validation\n",
    "cross_val_accuracy_scores = cross_val_score(clf, X_train, y_train, scoring='accuracy', cv=10, n_jobs=-1)   \n",
    "print(\"Mean Cross Val Accuracy: \" + '{:.2%}'.format(cross_val_accuracy_scores.mean()))\n",
    "    \n",
    "cross_val_f1_scores = cross_val_score(clf, X_train, y_train, scoring='f1_weighted', cv=10, n_jobs=-1)\n",
    "print(\"Mean Cross Val F1 Score: \" + '{:.2%}'.format(cross_val_f1_scores.mean()))\n",
    "\n",
    "testing_matthew_coeff = matthews_corrcoef(y_test, y_test_pred)\n",
    "print(\"Testing Matthew's coefficient:\", round(testing_matthew_coeff,3))"
   ]
  },
  {
   "cell_type": "markdown",
   "id": "addbd03f",
   "metadata": {},
   "source": [
    "## Unigrams + Bigrams + Supervised topics Results"
   ]
  },
  {
   "cell_type": "code",
   "execution_count": 159,
   "id": "1d422cd2",
   "metadata": {},
   "outputs": [],
   "source": [
    "# These topics are generated manually by observing highest frequency words.\n",
    "\n",
    "def accident(text):\n",
    "    wordlist=['die', 'death', 'kill', 'hit', 'crash', 'accident', 'insurance', 'drunk', 'drink', 'safety', 'speed', 'limit']\n",
    "    words=text.split(' ')\n",
    "    for word in words:\n",
    "        if word in wordlist:\n",
    "            return 1\n",
    "    return 0\n",
    "\n",
    "def change(text):\n",
    "    wordlist=['change', 'replace', 'become', 'happen', 'transform']\n",
    "    words=text.split(' ')\n",
    "    for word in words:\n",
    "        if word in wordlist:\n",
    "            return 1\n",
    "    return 0\n",
    "\n",
    "def imagination_vs_reality(text):\n",
    "    wordlist= ['reality', 'dream', 'imagine', 'imagination', 'challenge']\n",
    "    words=text.split(' ')\n",
    "    for word in words:\n",
    "        if word in wordlist:\n",
    "            return 1\n",
    "    return 0\n",
    "\n",
    "def law(text):\n",
    "    wordlist=['policy', 'law', 'legal', 'government', 'state', 'regulation', 'license', 'approve', 'allow', 'rule', \n",
    "              'public']\n",
    "    words=text.split(' ')\n",
    "    for word in words:\n",
    "        if word in wordlist:\n",
    "            return 1\n",
    "    return 0\n",
    "\n",
    "def time(text):\n",
    "    wordlist=['future', 'today', 'next', 'year', 'past', 'world']\n",
    "    words=text.split(' ')\n",
    "    for word in words:\n",
    "        if word in wordlist:\n",
    "            return 1\n",
    "    return 0\n",
    "\n",
    "def technology(text):\n",
    "    wordlist=['technology', 'tech', 'robot', 'drone', 'machine', 'computer', 'robotic', 'program', 'ai', 'automobile', \n",
    "              'electric', 'system', 'information', 'data', 'automate']\n",
    "    words=text.split(' ')\n",
    "    for word in words:\n",
    "        if word in wordlist:\n",
    "            return 1\n",
    "    return 0\n",
    "\n",
    "def innovation(text):\n",
    "    wordlist=['research', 'invent', 'innovation', 'innovate', 'invention', 'breakthrough', 'idea', 'develop', \n",
    "              'create', 'prototype', 'develop', 'build']\n",
    "    words=text.split(' ')\n",
    "    for word in words:\n",
    "        if word in wordlist:\n",
    "            return 1\n",
    "    return 0\n",
    "\n",
    "def business(text):\n",
    "    wordlist=['money', 'invest', 'market', 'ceo', 'cost', 'buy', 'business', 'company']\n",
    "    words=text.split(' ')\n",
    "    for word in words:\n",
    "        if word in wordlist:\n",
    "            return 1\n",
    "    return 0\n",
    "\n",
    "\n",
    "def positive_words(text):\n",
    "    wordlist=['get', 'want', 'cool', 'good', 'great', 'love', 'awesome', 'wow', 'perfect', 'solve', 'solution', \n",
    "              'excite', 'fun', 'safe', 'help', 'best', 'hope', 'lead']\n",
    "              \n",
    "    double_words=['look forward', 'cant wait']\n",
    "    \n",
    "    count=0\n",
    "    words=text.split(' ')\n",
    "    for word in words:\n",
    "        if word in wordlist:\n",
    "            count+=1\n",
    "            wordlist.remove(word)\n",
    "    \n",
    "    for phrase in double_words:\n",
    "        if phrase in text:\n",
    "            count+=1\n",
    "              \n",
    "    return count\n",
    "              \n",
    "              \n",
    "\n",
    "def bad_words(text):\n",
    "    wordlist=['never', 'fuck', 'shit', 'hell', 'scary', 'wtf', 'freak', 'hate', 'wrong', 'worry', 'die', \n",
    "              'kill', 'bad', 'crazy', 'death', 'problem', 'dangerous']\n",
    "    count=0\n",
    "    words=text.split(' ')\n",
    "    for word in words:\n",
    "        if word in wordlist:\n",
    "            count+=1\n",
    "            wordlist.remove(word)\n",
    "    \n",
    "    return count\n",
    "\n",
    "\n",
    "#brands/places/transportation type/events/products\n",
    "columns=['toyota', 'audi', 'tesla', 'apple', 'google', 'uber', 'ford', 'lexus', 'nissan', 'volvo', 'bmw', 'california', \n",
    "         'michigan', 'detroit', 'googleplex', 'dmv', 'ce', 'codecon', 'forbes', \n",
    "         'cnet', 'wsj', 'train', 'railway', 'cruise', 'road', 'taxi', 'truck', 'highway', 'bus', 'cab', 'bike', 'freeway',\n",
    "         'googlecar', 'camera', 'ego']\n",
    "\n",
    "double_words=['ann arbor', 'silicon valley', 'google map', 'google glass']\n",
    "\n",
    "def get_column_value(text, word):\n",
    "    wordlist=text.split(' ')\n",
    "    if word in wordlist:\n",
    "        return 1\n",
    "    return 0\n",
    "\n",
    "def get_double_value(text, phrase):\n",
    "    if phrase in text:\n",
    "        return 1\n",
    "    return 0"
   ]
  },
  {
   "cell_type": "code",
   "execution_count": 160,
   "id": "f32e3bf3",
   "metadata": {},
   "outputs": [],
   "source": [
    "df_train_supervised_unigram_bigram=df.copy()\n",
    "df_test_supervised_unigram_bigram=df_test.copy()"
   ]
  },
  {
   "cell_type": "code",
   "execution_count": 161,
   "id": "610899f6",
   "metadata": {},
   "outputs": [],
   "source": [
    "for word in columns:\n",
    "    df_train_supervised_unigram_bigram['topic ' + word]=df_train_supervised_unigram_bigram.apply(lambda x: get_column_value(x['lemmatized and stopwords_removed'], word), axis=1)\n",
    "    df_test_supervised_unigram_bigram['topic ' + word]=df_test_supervised_unigram_bigram.apply(lambda x: get_column_value(x['lemmatized and stopwords_removed'], word), axis=1)\n",
    "for phrase in double_words:\n",
    "    df_train_supervised_unigram_bigram['topic ' + phrase]=df_train_supervised_unigram_bigram.apply(lambda x: get_double_value(x['lemmatized and stopwords_removed'], phrase), axis=1)\n",
    "    df_test_supervised_unigram_bigram['topic ' + phrase]=df_test_supervised_unigram_bigram.apply(lambda x: get_column_value(x['lemmatized and stopwords_removed'], word), axis=1)"
   ]
  },
  {
   "cell_type": "code",
   "execution_count": 162,
   "id": "aab19b0e",
   "metadata": {},
   "outputs": [],
   "source": [
    "# train dataset\n",
    "df_train_supervised_unigram_bigram['topic accident']= df_train_supervised_unigram_bigram['lemmatized and stopwords_removed'].apply(accident)\n",
    "df_train_supervised_unigram_bigram['topic change']= df_train_supervised_unigram_bigram['lemmatized and stopwords_removed'].apply(change)\n",
    "df_train_supervised_unigram_bigram['topic imagination_vs_reality']= df_train_supervised_unigram_bigram['lemmatized and stopwords_removed'].apply(imagination_vs_reality)\n",
    "df_train_supervised_unigram_bigram['topic law']= df_train_supervised_unigram_bigram['lemmatized and stopwords_removed'].apply(law)\n",
    "df_train_supervised_unigram_bigram['topic time']= df_train_supervised_unigram_bigram['lemmatized and stopwords_removed'].apply(time)\n",
    "df_train_supervised_unigram_bigram['topic technology']= df_train_supervised_unigram_bigram['lemmatized and stopwords_removed'].apply(technology)\n",
    "df_train_supervised_unigram_bigram['topic innovation']= df_train_supervised_unigram_bigram['lemmatized and stopwords_removed'].apply(innovation)\n",
    "df_train_supervised_unigram_bigram['topic business']= df_train_supervised_unigram_bigram['lemmatized and stopwords_removed'].apply(business)\n",
    "\n",
    "df_train_supervised_unigram_bigram['topic positive_words']= df_train_supervised_unigram_bigram['lemmatized and stopwords_removed'].apply(positive_words)\n",
    "df_train_supervised_unigram_bigram['topic bad_words']= df_train_supervised_unigram_bigram['lemmatized and stopwords_removed'].apply(bad_words)\n",
    "df_train_supervised_unigram_bigram['topic net positive']=df_train_supervised_unigram_bigram['topic positive_words']-df_train_supervised_unigram_bigram['topic bad_words']\n",
    "\n",
    "# test dataset\n",
    "\n",
    "df_test_supervised_unigram_bigram['topic accident']= df_test_supervised_unigram_bigram['lemmatized and stopwords_removed'].apply(accident)\n",
    "df_test_supervised_unigram_bigram['topic change']= df_test_supervised_unigram_bigram['lemmatized and stopwords_removed'].apply(change)\n",
    "df_test_supervised_unigram_bigram['topic imagination_vs_reality']= df_test_supervised_unigram_bigram['lemmatized and stopwords_removed'].apply(imagination_vs_reality)\n",
    "df_test_supervised_unigram_bigram['topic law']= df_test_supervised_unigram_bigram['lemmatized and stopwords_removed'].apply(law)\n",
    "df_test_supervised_unigram_bigram['topic time']= df_test_supervised_unigram_bigram['lemmatized and stopwords_removed'].apply(time)\n",
    "df_test_supervised_unigram_bigram['topic technology']= df_test_supervised_unigram_bigram['lemmatized and stopwords_removed'].apply(technology)\n",
    "df_test_supervised_unigram_bigram['topic innovation']= df_test_supervised_unigram_bigram['lemmatized and stopwords_removed'].apply(innovation)\n",
    "df_test_supervised_unigram_bigram['topic business']= df_test_supervised_unigram_bigram['lemmatized and stopwords_removed'].apply(business)\n",
    "\n",
    "df_test_supervised_unigram_bigram['topic positive_words']= df_test_supervised_unigram_bigram['lemmatized and stopwords_removed'].apply(positive_words)\n",
    "df_test_supervised_unigram_bigram['topic bad_words']= df_test_supervised_unigram_bigram['lemmatized and stopwords_removed'].apply(bad_words)\n",
    "df_test_supervised_unigram_bigram['topic net positive']=df_test_supervised_unigram_bigram['topic positive_words']-df_test_supervised_unigram_bigram['topic bad_words']"
   ]
  },
  {
   "cell_type": "markdown",
   "id": "2d52bbfd",
   "metadata": {},
   "source": [
    "## Training without Chi Square Feature Selection"
   ]
  },
  {
   "cell_type": "markdown",
   "id": "542632d7",
   "metadata": {},
   "source": [
    "## Preparing data for model training"
   ]
  },
  {
   "cell_type": "code",
   "execution_count": 163,
   "id": "41b9fcc0",
   "metadata": {},
   "outputs": [],
   "source": [
    "# Scaling the Supervised topics\n",
    "\n",
    "scaler = MinMaxScaler()\n",
    "scaled_train_supervised_unigram_bigram = scaler.fit_transform(df_train_supervised_unigram_bigram.iloc[:, 3:])\n",
    "scaled_test_supervised_unigram_bigram = scaler.transform(df_test_supervised_unigram_bigram.iloc[:, 3:])\n",
    "\n",
    "# Transforming scaled topics into a dataframe\n",
    "\n",
    "scaled_train_supervised_unigram_bigram_df = pd.DataFrame(scaled_train_supervised_unigram_bigram, columns = df_train_supervised_unigram_bigram.iloc[:, 3:].columns)\n",
    "scaled_test_supervised_unigram_bigram_df = pd.DataFrame(scaled_test_supervised_unigram_bigram, columns = df_test_supervised_unigram_bigram.iloc[:, 3:].columns)\n",
    "\n",
    "# Combining Unigrams + Bigrams + Unsupervised topics into one dataframe\n",
    "\n",
    "train_supervised_unigram_bigram = pd.concat([scaled_train_supervised_unigram_bigram_df, df_vectorized_text_unigrams_and_bigrams_train], axis=1)\n",
    "test_supervised_unigram_bigram = pd.concat([scaled_test_supervised_unigram_bigram_df, df_vectorized_text_unigrams_and_bigrams_test], axis=1)"
   ]
  },
  {
   "cell_type": "code",
   "execution_count": 164,
   "id": "294c351d",
   "metadata": {},
   "outputs": [
    {
     "name": "stdout",
     "output_type": "stream",
     "text": [
      "Train Accuracy: 73.60%\n",
      "Test Accuracy: 70.47%\n",
      "Test F1 Score: 67.11%\n",
      "Mean Cross Val Accuracy: 68.06%\n",
      "Mean Cross Val F1 Score: 64.36%\n",
      "Testing Matthew's coefficient: 0.383\n"
     ]
    }
   ],
   "source": [
    "X_train = train_supervised_unigram_bigram\n",
    "X_test = test_supervised_unigram_bigram\n",
    "\n",
    "clf = LogisticRegression(random_state=0, max_iter=1000).fit(X_train, y_train)\n",
    "\n",
    "y_train_pred = clf.predict(X_train)\n",
    "print('Train Accuracy: ' + '{:.2%}'.format(accuracy_score(y_train, y_train_pred)))\n",
    "\n",
    "y_test_pred = clf.predict(X_test)\n",
    "print('Test Accuracy: ' + '{:.2%}'.format(accuracy_score(y_test, y_test_pred)))\n",
    "print('Test F1 Score: ' + '{:.2%}'.format(f1_score(y_test, y_test_pred, average='weighted')))\n",
    "\n",
    "## Cross Validation\n",
    "cross_val_accuracy_scores = cross_val_score(clf, X_train, y_train, scoring='accuracy', cv=10, n_jobs=-1)   \n",
    "print(\"Mean Cross Val Accuracy: \" + '{:.2%}'.format(cross_val_accuracy_scores.mean()))\n",
    "    \n",
    "cross_val_f1_scores = cross_val_score(clf, X_train, y_train, scoring='f1_weighted', cv=10, n_jobs=-1)\n",
    "print(\"Mean Cross Val F1 Score: \" + '{:.2%}'.format(cross_val_f1_scores.mean()))\n",
    "\n",
    "testing_matthew_coeff = matthews_corrcoef(y_test, y_test_pred)\n",
    "print(\"Testing Matthew's coefficient:\", round(testing_matthew_coeff,3))"
   ]
  },
  {
   "cell_type": "markdown",
   "id": "e3ddcebc",
   "metadata": {},
   "source": [
    "## Training with Chi Square Feature Selection"
   ]
  },
  {
   "cell_type": "markdown",
   "id": "330c8991",
   "metadata": {},
   "source": [
    "## Preparing data for model training"
   ]
  },
  {
   "cell_type": "code",
   "execution_count": 165,
   "id": "3c498b9b",
   "metadata": {},
   "outputs": [],
   "source": [
    "# Scaling the Supervised topics\n",
    "\n",
    "scaler = MinMaxScaler()\n",
    "scaled_train_supervised_unigram_bigram_chi_square = scaler.fit_transform(df_train_supervised_unigram_bigram.iloc[:, 3:])\n",
    "scaled_test_supervised_unigram_bigram_chi_square = scaler.transform(df_test_supervised_unigram_bigram.iloc[:, 3:])\n",
    "\n",
    "# Transforming scaled topics into a dataframe\n",
    "\n",
    "scaled_train_supervised_unigram_bigram_chi_square_df = pd.DataFrame(scaled_train_supervised_unigram_bigram_chi_square, columns = df_train_supervised_unigram_bigram.iloc[:, 3:].columns)\n",
    "scaled_test_supervised_unigram_bigram_chi_square_df = pd.DataFrame(scaled_test_supervised_unigram_bigram_chi_square, columns = df_test_supervised_unigram_bigram.iloc[:, 3:].columns)\n",
    "\n",
    "# Combining Unigrams + Bigrams + Unsupervised topics into one dataframe\n",
    "\n",
    "train_supervised_unigram_bigram_chi_square_df = pd.concat([scaled_train_supervised_unigram_bigram_chi_square_df, df_vectorized_text_unigrams_and_bigrams_train], axis=1)\n",
    "test_supervised_unigram_bigram_chi_square_df = pd.concat([scaled_test_supervised_unigram_bigram_chi_square_df, df_vectorized_text_unigrams_and_bigrams_test], axis=1)"
   ]
  },
  {
   "cell_type": "code",
   "execution_count": 166,
   "id": "b76e7ce0",
   "metadata": {
    "scrolled": true
   },
   "outputs": [
    {
     "data": {
      "text/html": [
       "<div>\n",
       "<style scoped>\n",
       "    .dataframe tbody tr th:only-of-type {\n",
       "        vertical-align: middle;\n",
       "    }\n",
       "\n",
       "    .dataframe tbody tr th {\n",
       "        vertical-align: top;\n",
       "    }\n",
       "\n",
       "    .dataframe thead th {\n",
       "        text-align: right;\n",
       "    }\n",
       "</style>\n",
       "<table border=\"1\" class=\"dataframe\">\n",
       "  <thead>\n",
       "    <tr style=\"text-align: right;\">\n",
       "      <th></th>\n",
       "      <th>topic positive_words</th>\n",
       "      <th>cool</th>\n",
       "      <th>topic bad_words</th>\n",
       "      <th>wait</th>\n",
       "      <th>want</th>\n",
       "      <th>awesome</th>\n",
       "      <th>amazing</th>\n",
       "      <th>wait self</th>\n",
       "      <th>love</th>\n",
       "      <th>concern</th>\n",
       "      <th>...</th>\n",
       "      <th>google glass</th>\n",
       "      <th>likely</th>\n",
       "      <th>yr</th>\n",
       "      <th>add</th>\n",
       "      <th>possible</th>\n",
       "      <th>taxi</th>\n",
       "      <th>car like</th>\n",
       "      <th>location</th>\n",
       "      <th>topic forbes</th>\n",
       "      <th>topic ego</th>\n",
       "    </tr>\n",
       "  </thead>\n",
       "  <tbody>\n",
       "    <tr>\n",
       "      <th>0</th>\n",
       "      <td>1.673048e+02</td>\n",
       "      <td>7.462667e+01</td>\n",
       "      <td>6.948604e+01</td>\n",
       "      <td>3.889458e+01</td>\n",
       "      <td>3.443642e+01</td>\n",
       "      <td>3.309590e+01</td>\n",
       "      <td>26.974116</td>\n",
       "      <td>26.902897</td>\n",
       "      <td>26.822298</td>\n",
       "      <td>26.010385</td>\n",
       "      <td>...</td>\n",
       "      <td>0.023337</td>\n",
       "      <td>0.022157</td>\n",
       "      <td>0.019299</td>\n",
       "      <td>0.016209</td>\n",
       "      <td>0.015285</td>\n",
       "      <td>0.012621</td>\n",
       "      <td>0.010937</td>\n",
       "      <td>0.000325</td>\n",
       "      <td>NaN</td>\n",
       "      <td>NaN</td>\n",
       "    </tr>\n",
       "    <tr>\n",
       "      <th>1</th>\n",
       "      <td>4.679852e-37</td>\n",
       "      <td>6.237707e-17</td>\n",
       "      <td>8.152650e-16</td>\n",
       "      <td>3.582203e-09</td>\n",
       "      <td>3.328329e-08</td>\n",
       "      <td>6.506025e-08</td>\n",
       "      <td>0.000001</td>\n",
       "      <td>0.000001</td>\n",
       "      <td>0.000001</td>\n",
       "      <td>0.000002</td>\n",
       "      <td>...</td>\n",
       "      <td>0.988399</td>\n",
       "      <td>0.988983</td>\n",
       "      <td>0.990397</td>\n",
       "      <td>0.991928</td>\n",
       "      <td>0.992387</td>\n",
       "      <td>0.993710</td>\n",
       "      <td>0.994546</td>\n",
       "      <td>0.999837</td>\n",
       "      <td>NaN</td>\n",
       "      <td>NaN</td>\n",
       "    </tr>\n",
       "  </tbody>\n",
       "</table>\n",
       "<p>2 rows × 835 columns</p>\n",
       "</div>"
      ],
      "text/plain": [
       "   topic positive_words          cool  topic bad_words          wait  \\\n",
       "0          1.673048e+02  7.462667e+01     6.948604e+01  3.889458e+01   \n",
       "1          4.679852e-37  6.237707e-17     8.152650e-16  3.582203e-09   \n",
       "\n",
       "           want       awesome    amazing  wait self       love    concern  \\\n",
       "0  3.443642e+01  3.309590e+01  26.974116  26.902897  26.822298  26.010385   \n",
       "1  3.328329e-08  6.506025e-08   0.000001   0.000001   0.000001   0.000002   \n",
       "\n",
       "   ...  google glass    likely        yr       add  possible      taxi  \\\n",
       "0  ...      0.023337  0.022157  0.019299  0.016209  0.015285  0.012621   \n",
       "1  ...      0.988399  0.988983  0.990397  0.991928  0.992387  0.993710   \n",
       "\n",
       "   car like  location  topic forbes  topic ego  \n",
       "0  0.010937  0.000325           NaN        NaN  \n",
       "1  0.994546  0.999837           NaN        NaN  \n",
       "\n",
       "[2 rows x 835 columns]"
      ]
     },
     "execution_count": 166,
     "metadata": {},
     "output_type": "execute_result"
    }
   ],
   "source": [
    "# 0 is chi2 score, 1 is p-value\n",
    "X_train = train_supervised_unigram_bigram_chi_square_df\n",
    "X_test = test_supervised_unigram_bigram_chi_square_df\n",
    "\n",
    "chi2_values = chi2(X_train.values, y_train)\n",
    "chi2_df = pd.DataFrame(data=chi2_values, columns=X_train.columns)\n",
    "chi2_df_sorted = chi2_df.sort_values(by=0, axis = 1, ascending = False)\n",
    "chi2_df_sorted"
   ]
  },
  {
   "cell_type": "markdown",
   "id": "49bc22a3",
   "metadata": {},
   "source": [
    "## Finding the optimal number of features to use based on cross validation F1-score"
   ]
  },
  {
   "cell_type": "code",
   "execution_count": 167,
   "id": "4d046bcd",
   "metadata": {},
   "outputs": [],
   "source": [
    "f1_results_unigram_bigram_supervised = {}\n",
    "for n in range(1, 835, 5):\n",
    "    chi2_columns_unigram_bigram_supervised = chi2_df_sorted.columns[:n]\n",
    "    X_train_df = train_supervised_unigram_bigram_chi_square_df[chi2_columns_unigram_bigram_supervised]\n",
    "\n",
    "    #train MLR\n",
    "    clf = LogisticRegression(random_state=0, max_iter=1000)\n",
    "\n",
    "    #Cross validation, cv=5\n",
    "    f1 = cross_val_score(clf, X_train_df, y_train, scoring='f1_weighted', cv=5)\n",
    "    \n",
    "    #Storing mean cross validation F1-scores in a dictionary\n",
    "    f1_results_unigram_bigram_supervised[n] = f1.mean() "
   ]
  },
  {
   "cell_type": "code",
   "execution_count": 168,
   "id": "d24231a8",
   "metadata": {},
   "outputs": [
    {
     "data": {
      "text/plain": [
       "<AxesSubplot:>"
      ]
     },
     "execution_count": 168,
     "metadata": {},
     "output_type": "execute_result"
    },
    {
     "data": {
      "image/png": "[encoded data removed]",
      "text/plain": [
       "<Figure size 1440x864 with 1 Axes>"
      ]
     },
     "metadata": {},
     "output_type": "display_data"
    }
   ],
   "source": [
    "sns.set(rc={'figure.figsize':(20,12)})\n",
    "sns.lineplot(data=f1_results_unigram_bigram_supervised)"
   ]
  },
  {
   "cell_type": "code",
   "execution_count": 169,
   "id": "0637331e",
   "metadata": {},
   "outputs": [
    {
     "data": {
      "text/plain": [
       "346"
      ]
     },
     "execution_count": 169,
     "metadata": {},
     "output_type": "execute_result"
    }
   ],
   "source": [
    "# Getting the optimal number of features which will result in best mean cross validation F1-score from the dictionary\n",
    "\n",
    "best_no_of_features= max(f1_results_unigram_bigram_supervised, key=f1_results_unigram_bigram_supervised.get)\n",
    "best_no_of_features"
   ]
  },
  {
   "cell_type": "code",
   "execution_count": 170,
   "id": "317be8ac",
   "metadata": {},
   "outputs": [],
   "source": [
    "# Extracting the optimal number of features into a dataframe for training\n",
    "\n",
    "chi2_columns = chi2_df_sorted.columns[:best_no_of_features]\n",
    "scaled_train_supervised_unigram_bigram_df_chi_square = train_supervised_unigram_bigram_chi_square_df[chi2_columns]\n",
    "scaled_test_supervised_unigram_bigram_df_chi_square = test_supervised_unigram_bigram_chi_square_df[chi2_columns]"
   ]
  },
  {
   "cell_type": "code",
   "execution_count": 171,
   "id": "d1b92ae7",
   "metadata": {},
   "outputs": [
    {
     "name": "stdout",
     "output_type": "stream",
     "text": [
      "Train Accuracy: 72.29%\n",
      "Test Accuracy: 70.92%\n",
      "Test F1 Score: 67.16%\n",
      "Mean Cross Val Accuracy: 69.24%\n",
      "Mean Cross Val F1 Score: 65.64%\n",
      "Testing Matthew's coefficient: 0.391\n"
     ]
    }
   ],
   "source": [
    "X_train = scaled_train_supervised_unigram_bigram_df_chi_square\n",
    "X_test = scaled_test_supervised_unigram_bigram_df_chi_square\n",
    "\n",
    "clf = LogisticRegression(random_state=0, max_iter=1000).fit(X_train, y_train)\n",
    "\n",
    "y_train_pred = clf.predict(X_train)\n",
    "print('Train Accuracy: ' + '{:.2%}'.format(accuracy_score(y_train, y_train_pred)))\n",
    "\n",
    "y_test_pred = clf.predict(X_test)\n",
    "print('Test Accuracy: ' + '{:.2%}'.format(accuracy_score(y_test, y_test_pred)))\n",
    "print('Test F1 Score: ' + '{:.2%}'.format(f1_score(y_test, y_test_pred, average='weighted')))\n",
    "\n",
    "## Cross Validation\n",
    "cross_val_accuracy_scores = cross_val_score(clf, X_train, y_train, scoring='accuracy', cv=10, n_jobs=-1)   \n",
    "print(\"Mean Cross Val Accuracy: \" + '{:.2%}'.format(cross_val_accuracy_scores.mean()))\n",
    "    \n",
    "cross_val_f1_scores = cross_val_score(clf, X_train, y_train, scoring='f1_weighted', cv=10, n_jobs=-1)\n",
    "print(\"Mean Cross Val F1 Score: \" + '{:.2%}'.format(cross_val_f1_scores.mean()))\n",
    "\n",
    "testing_matthew_coeff = matthews_corrcoef(y_test, y_test_pred)\n",
    "print(\"Testing Matthew's coefficient:\", round(testing_matthew_coeff,3))"
   ]
  }
 ],
 "metadata": {
  "kernelspec": {
   "display_name": "Python 3 (ipykernel)",
   "language": "python",
   "name": "python3"
  },
  "language_info": {
   "codemirror_mode": {
    "name": "ipython",
    "version": 3
   },
   "file_extension": ".py",
   "mimetype": "text/x-python",
   "name": "python",
   "nbconvert_exporter": "python",
   "pygments_lexer": "ipython3",
   "version": "3.7.3"
  }
 },
 "nbformat": 4,
 "nbformat_minor": 5
}
