{
 "cells": [
  {
   "cell_type": "code",
   "execution_count": 1,
   "id": "3ebf4784",
   "metadata": {
    "colab": {
     "base_uri": "https://localhost:8080/"
    },
    "id": "3ebf4784",
    "outputId": "0de5a056-29d4-4f2f-cc8a-3ad00732f57a",
    "scrolled": false
   },
   "outputs": [
    {
     "name": "stderr",
     "output_type": "stream",
     "text": [
      "WARNING: Ignoring invalid distribution -umpy (c:\\users\\sian ying\\anaconda3\\lib\\site-packages)\n",
      "WARNING: Ignoring invalid distribution -umpy (c:\\users\\sian ying\\anaconda3\\lib\\site-packages)\n",
      "WARNING: Ignoring invalid distribution -umpy (c:\\users\\sian ying\\anaconda3\\lib\\site-packages)\n",
      "WARNING: Ignoring invalid distribution -umpy (c:\\users\\sian ying\\anaconda3\\lib\\site-packages)\n",
      "WARNING: Ignoring invalid distribution -umpy (c:\\users\\sian ying\\anaconda3\\lib\\site-packages)\n",
      "WARNING: Ignoring invalid distribution -umpy (c:\\users\\sian ying\\anaconda3\\lib\\site-packages)\n"
     ]
    },
    {
     "name": "stdout",
     "output_type": "stream",
     "text": [
      "Requirement already satisfied: gensim in c:\\users\\sian ying\\anaconda3\\lib\\site-packages (4.1.2)\n",
      "Requirement already satisfied: scipy>=0.18.1 in c:\\users\\sian ying\\anaconda3\\lib\\site-packages (from gensim) (1.7.1)\n",
      "Requirement already satisfied: Cython==0.29.23 in c:\\users\\sian ying\\anaconda3\\lib\\site-packages (from gensim) (0.29.23)\n",
      "Requirement already satisfied: numpy>=1.17.0 in c:\\users\\sian ying\\anaconda3\\lib\\site-packages (from gensim) (1.20.3)\n",
      "Requirement already satisfied: smart-open>=1.8.1 in c:\\users\\sian ying\\anaconda3\\lib\\site-packages (from gensim) (5.2.1)\n"
     ]
    }
   ],
   "source": [
    "import pandas as pd\n",
    "import numpy as np\n",
    "import matplotlib.pyplot as plt\n",
    "import seaborn as sns\n",
    "from sklearn.metrics import accuracy_score\n",
    "from sklearn.metrics import f1_score\n",
    "from sklearn.model_selection import cross_val_score\n",
    "from sklearn.metrics import matthews_corrcoef\n",
    "from sklearn.feature_selection import chi2\n",
    "from sklearn.preprocessing import StandardScaler\n",
    "from sklearn.preprocessing import MinMaxScaler\n",
    "from sklearn.model_selection import train_test_split\n",
    "from sklearn.feature_extraction.text import TfidfVectorizer\n",
    "from sklearn.svm import LinearSVC\n",
    "from nltk.tokenize import word_tokenize\n",
    "import numpy as np\n",
    "!pip install gensim\n",
    "from gensim.models import Word2Vec"
   ]
  },
  {
   "cell_type": "markdown",
   "id": "279d75b5",
   "metadata": {
    "id": "279d75b5"
   },
   "source": [
    "## Load Dataset"
   ]
  },
  {
   "cell_type": "code",
   "execution_count": 2,
   "id": "182e4389",
   "metadata": {
    "colab": {
     "base_uri": "https://localhost:8080/"
    },
    "id": "182e4389",
    "outputId": "54f41c72-3770-41c5-dc4f-b918c954d22b",
    "scrolled": false
   },
   "outputs": [
    {
     "name": "stdout",
     "output_type": "stream",
     "text": [
      "8162\n",
      "1341\n"
     ]
    }
   ],
   "source": [
    "df = pd.read_csv(\"lemmatized_synonym_augment_train.csv\")\n",
    "df_test = pd.read_csv(\"lemmatized_original_test.csv\")\n",
    "print(len(df))\n",
    "print(len(df_test))"
   ]
  },
  {
   "cell_type": "code",
   "execution_count": 3,
   "id": "f359b2b0",
   "metadata": {
    "id": "f359b2b0"
   },
   "outputs": [],
   "source": [
    "df.drop(columns=['Unnamed: 0', 'Unnamed: 0.1'], inplace=True)\n",
    "df_test.drop(columns=['Unnamed: 0'], inplace=True)"
   ]
  },
  {
   "cell_type": "code",
   "execution_count": 4,
   "id": "d075a5db",
   "metadata": {
    "id": "d075a5db"
   },
   "outputs": [],
   "source": [
    "X_train = df['lemmatized and stopwords_removed']\n",
    "y_train = df['sentiment']\n",
    "X_test = df_test['lemmatized and stopwords_removed']\n",
    "y_test = df_test['sentiment']"
   ]
  },
  {
   "cell_type": "markdown",
   "id": "ff28e007",
   "metadata": {
    "id": "ff28e007"
   },
   "source": [
    "## Generating n-grams"
   ]
  },
  {
   "cell_type": "code",
   "execution_count": 7,
   "id": "dcf2e522",
   "metadata": {
    "colab": {
     "base_uri": "https://localhost:8080/"
    },
    "id": "dcf2e522",
    "outputId": "dbba8813-3175-4808-aa2a-7ee7096a4ef9"
   },
   "outputs": [],
   "source": [
    "# TfidfVectorizer (Unigram)  \n",
    "corpus = X_train\n",
    "\n",
    "vectorizer = TfidfVectorizer(analyzer='word', ngram_range=(1, 1), token_pattern=u\"(?u)\\\\b\\\\w+\\\\b\", min_df=10)\n",
    "\n",
    "train_counts_unigram = vectorizer.fit_transform(corpus)\n",
    "test_counts_unigram = vectorizer.transform(X_test)\n",
    "\n",
    "# initialize vectorized text dataframe\n",
    "df_vectorized_text_unigrams_train = pd.DataFrame(data=train_counts_unigram.toarray(), columns=vectorizer.get_feature_names())\n",
    "df_vectorized_text_unigrams_test = pd.DataFrame(data=test_counts_unigram.toarray(), columns=vectorizer.get_feature_names())\n",
    "\n",
    "################################################################\n",
    "\n",
    "# TfidfVectorizer (Unigram & Bigram)  \n",
    "corpus = X_train\n",
    "\n",
    "vectorizer = TfidfVectorizer(analyzer='word', ngram_range=(1, 2), token_pattern=u\"(?u)\\\\b\\\\w+\\\\b\", min_df=10)\n",
    "\n",
    "train_counts_unigram_and_bigram = vectorizer.fit_transform(corpus)\n",
    "test_counts_unigram_and_bigram = vectorizer.transform(X_test)\n",
    "\n",
    "# initialize vectorized text dataframe\n",
    "df_vectorized_text_unigrams_and_bigrams_train = pd.DataFrame(data=train_counts_unigram_and_bigram.toarray(), columns=vectorizer.get_feature_names())\n",
    "df_vectorized_text_unigrams_and_bigrams_test = pd.DataFrame(data=test_counts_unigram_and_bigram.toarray(), columns=vectorizer.get_feature_names())"
   ]
  },
  {
   "cell_type": "markdown",
   "id": "71af1b91",
   "metadata": {
    "id": "71af1b91"
   },
   "source": [
    "## Baseline (Unigrams) Results"
   ]
  },
  {
   "cell_type": "markdown",
   "id": "59a31aac",
   "metadata": {
    "id": "59a31aac"
   },
   "source": [
    "## Training without Chi Square Feature Selection"
   ]
  },
  {
   "cell_type": "code",
   "execution_count": null,
   "id": "a6c84d9c",
   "metadata": {
    "colab": {
     "base_uri": "https://localhost:8080/"
    },
    "id": "a6c84d9c",
    "outputId": "77098a58-bae7-451b-d64b-b997069515d7"
   },
   "outputs": [
    {
     "name": "stdout",
     "output_type": "stream",
     "text": [
      "Train Accuracy: 76.45%\n",
      "Test Accuracy: 66.14%\n",
      "Test F1 Score: 66.16%\n",
      "Mean Cross Val Accuracy: 65.54%\n",
      "Mean Cross Val F1 Score: 65.23%\n",
      "Testing Matthew's coefficient: 0.361\n"
     ]
    }
   ],
   "source": [
    "X_train = df_vectorized_text_unigrams_train\n",
    "X_test = df_vectorized_text_unigrams_test\n",
    "\n",
    "clf = LinearSVC(random_state=0).fit(X_train, y_train)\n",
    "\n",
    "y_train_pred = clf.predict(X_train)\n",
    "print('Train Accuracy: ' + '{:.2%}'.format(accuracy_score(y_train, y_train_pred)))\n",
    "\n",
    "y_test_pred = clf.predict(X_test)\n",
    "print('Test Accuracy: ' + '{:.2%}'.format(accuracy_score(y_test, y_test_pred)))\n",
    "print('Test F1 Score: ' + '{:.2%}'.format(f1_score(y_test, y_test_pred, average='weighted')))\n",
    "\n",
    "## Cross Validation\n",
    "cross_val_accuracy_scores = cross_val_score(clf, X_train, y_train, scoring='accuracy', cv=10, n_jobs=-1)   \n",
    "print(\"Mean Cross Val Accuracy: \" + '{:.2%}'.format(cross_val_accuracy_scores.mean()))\n",
    "    \n",
    "cross_val_f1_scores = cross_val_score(clf, X_train, y_train, scoring='f1_weighted', cv=10, n_jobs=-1)\n",
    "print(\"Mean Cross Val F1 Score: \" + '{:.2%}'.format(cross_val_f1_scores.mean()))\n",
    "\n",
    "testing_matthew_coeff = matthews_corrcoef(y_test, y_test_pred)\n",
    "print(\"Testing Matthew's coefficient:\", round(testing_matthew_coeff,3))"
   ]
  },
  {
   "cell_type": "markdown",
   "id": "d49a50d8",
   "metadata": {
    "id": "d49a50d8"
   },
   "source": [
    "## Training with Chi Square Feature Selection"
   ]
  },
  {
   "cell_type": "code",
   "execution_count": null,
   "id": "943c36fe",
   "metadata": {
    "colab": {
     "base_uri": "https://localhost:8080/",
     "height": 161
    },
    "id": "943c36fe",
    "outputId": "00263745-95e5-4819-ea4d-3daa185b9230",
    "scrolled": true
   },
   "outputs": [
    {
     "data": {
      "text/html": [
       "<div>\n",
       "<style scoped>\n",
       "    .dataframe tbody tr th:only-of-type {\n",
       "        vertical-align: middle;\n",
       "    }\n",
       "\n",
       "    .dataframe tbody tr th {\n",
       "        vertical-align: top;\n",
       "    }\n",
       "\n",
       "    .dataframe thead th {\n",
       "        text-align: right;\n",
       "    }\n",
       "</style>\n",
       "<table border=\"1\" class=\"dataframe\">\n",
       "  <thead>\n",
       "    <tr style=\"text-align: right;\">\n",
       "      <th></th>\n",
       "      <th>cool</th>\n",
       "      <th>ego</th>\n",
       "      <th>wait</th>\n",
       "      <th>awesome</th>\n",
       "      <th>non</th>\n",
       "      <th>want</th>\n",
       "      <th>amazing</th>\n",
       "      <th>trust</th>\n",
       "      <th>fbi</th>\n",
       "      <th>love</th>\n",
       "      <th>job</th>\n",
       "      <th>concern</th>\n",
       "      <th>major</th>\n",
       "      <th>wow</th>\n",
       "      <th>problem</th>\n",
       "      <th>flaw</th>\n",
       "      <th>information</th>\n",
       "      <th>creepy</th>\n",
       "      <th>point</th>\n",
       "      <th>organization</th>\n",
       "      <th>scare</th>\n",
       "      <th>motorcar</th>\n",
       "      <th>forward</th>\n",
       "      <th>excited</th>\n",
       "      <th>worry</th>\n",
       "      <th>railroad</th>\n",
       "      <th>railway</th>\n",
       "      <th>weapon</th>\n",
       "      <th>elevator</th>\n",
       "      <th>pretty</th>\n",
       "      <th>vehicle</th>\n",
       "      <th>surveillance</th>\n",
       "      <th>cable</th>\n",
       "      <th>google</th>\n",
       "      <th>ugly</th>\n",
       "      <th>gondola</th>\n",
       "      <th>lazy</th>\n",
       "      <th>wtf</th>\n",
       "      <th>need</th>\n",
       "      <th>toyota</th>\n",
       "      <th>...</th>\n",
       "      <th>explain</th>\n",
       "      <th>tell</th>\n",
       "      <th>accept</th>\n",
       "      <th>century</th>\n",
       "      <th>cyclist</th>\n",
       "      <th>ok</th>\n",
       "      <th>carry</th>\n",
       "      <th>nearly</th>\n",
       "      <th>sell</th>\n",
       "      <th>house</th>\n",
       "      <th>microsoft</th>\n",
       "      <th>rider</th>\n",
       "      <th>fully</th>\n",
       "      <th>eye</th>\n",
       "      <th>cross</th>\n",
       "      <th>merge</th>\n",
       "      <th>large</th>\n",
       "      <th>rest</th>\n",
       "      <th>steve</th>\n",
       "      <th>silly</th>\n",
       "      <th>add</th>\n",
       "      <th>track</th>\n",
       "      <th>article</th>\n",
       "      <th>easy</th>\n",
       "      <th>heaven</th>\n",
       "      <th>low</th>\n",
       "      <th>friendly</th>\n",
       "      <th>goal</th>\n",
       "      <th>practical</th>\n",
       "      <th>door</th>\n",
       "      <th>driving</th>\n",
       "      <th>promise</th>\n",
       "      <th>student</th>\n",
       "      <th>look</th>\n",
       "      <th>social</th>\n",
       "      <th>minute</th>\n",
       "      <th>state</th>\n",
       "      <th>help</th>\n",
       "      <th>free</th>\n",
       "      <th>likely</th>\n",
       "    </tr>\n",
       "  </thead>\n",
       "  <tbody>\n",
       "    <tr>\n",
       "      <th>0</th>\n",
       "      <td>8.898436e+01</td>\n",
       "      <td>8.311288e+01</td>\n",
       "      <td>5.375322e+01</td>\n",
       "      <td>4.738221e+01</td>\n",
       "      <td>4.724773e+01</td>\n",
       "      <td>4.492799e+01</td>\n",
       "      <td>3.649875e+01</td>\n",
       "      <td>3.384646e+01</td>\n",
       "      <td>3.304004e+01</td>\n",
       "      <td>3.176074e+01</td>\n",
       "      <td>3.004119e+01</td>\n",
       "      <td>2.966253e+01</td>\n",
       "      <td>2.900453e+01</td>\n",
       "      <td>26.030322</td>\n",
       "      <td>25.684598</td>\n",
       "      <td>25.624664</td>\n",
       "      <td>25.390019</td>\n",
       "      <td>25.381964</td>\n",
       "      <td>25.307818</td>\n",
       "      <td>23.860683</td>\n",
       "      <td>23.647720</td>\n",
       "      <td>23.508877</td>\n",
       "      <td>23.425798</td>\n",
       "      <td>23.259951</td>\n",
       "      <td>22.958009</td>\n",
       "      <td>21.763490</td>\n",
       "      <td>21.751730</td>\n",
       "      <td>21.730967</td>\n",
       "      <td>21.590606</td>\n",
       "      <td>21.498797</td>\n",
       "      <td>21.084355</td>\n",
       "      <td>20.815268</td>\n",
       "      <td>20.783167</td>\n",
       "      <td>20.742790</td>\n",
       "      <td>20.529650</td>\n",
       "      <td>20.126460</td>\n",
       "      <td>19.097214</td>\n",
       "      <td>18.924964</td>\n",
       "      <td>18.86300</td>\n",
       "      <td>18.335391</td>\n",
       "      <td>...</td>\n",
       "      <td>0.179828</td>\n",
       "      <td>0.156517</td>\n",
       "      <td>0.153777</td>\n",
       "      <td>0.150861</td>\n",
       "      <td>0.146001</td>\n",
       "      <td>0.142523</td>\n",
       "      <td>0.134987</td>\n",
       "      <td>0.134562</td>\n",
       "      <td>0.133741</td>\n",
       "      <td>0.132227</td>\n",
       "      <td>0.130564</td>\n",
       "      <td>0.126754</td>\n",
       "      <td>0.126176</td>\n",
       "      <td>0.123529</td>\n",
       "      <td>0.123172</td>\n",
       "      <td>0.115293</td>\n",
       "      <td>0.114041</td>\n",
       "      <td>0.107131</td>\n",
       "      <td>0.102747</td>\n",
       "      <td>0.087794</td>\n",
       "      <td>0.071697</td>\n",
       "      <td>0.063823</td>\n",
       "      <td>0.060428</td>\n",
       "      <td>0.059043</td>\n",
       "      <td>0.057103</td>\n",
       "      <td>0.056628</td>\n",
       "      <td>0.055913</td>\n",
       "      <td>0.050741</td>\n",
       "      <td>0.046032</td>\n",
       "      <td>0.041960</td>\n",
       "      <td>0.030157</td>\n",
       "      <td>0.028368</td>\n",
       "      <td>0.026241</td>\n",
       "      <td>0.023105</td>\n",
       "      <td>0.020919</td>\n",
       "      <td>0.019089</td>\n",
       "      <td>0.015443</td>\n",
       "      <td>0.015427</td>\n",
       "      <td>0.006830</td>\n",
       "      <td>0.004438</td>\n",
       "    </tr>\n",
       "    <tr>\n",
       "      <th>1</th>\n",
       "      <td>4.756558e-20</td>\n",
       "      <td>8.959167e-19</td>\n",
       "      <td>2.126364e-12</td>\n",
       "      <td>5.141441e-11</td>\n",
       "      <td>5.499023e-11</td>\n",
       "      <td>1.753929e-10</td>\n",
       "      <td>1.186856e-08</td>\n",
       "      <td>4.470275e-08</td>\n",
       "      <td>6.690322e-08</td>\n",
       "      <td>1.268362e-07</td>\n",
       "      <td>2.996666e-07</td>\n",
       "      <td>3.621291e-07</td>\n",
       "      <td>5.032054e-07</td>\n",
       "      <td>0.000002</td>\n",
       "      <td>0.000003</td>\n",
       "      <td>0.000003</td>\n",
       "      <td>0.000003</td>\n",
       "      <td>0.000003</td>\n",
       "      <td>0.000003</td>\n",
       "      <td>0.000007</td>\n",
       "      <td>0.000007</td>\n",
       "      <td>0.000008</td>\n",
       "      <td>0.000008</td>\n",
       "      <td>0.000009</td>\n",
       "      <td>0.000010</td>\n",
       "      <td>0.000019</td>\n",
       "      <td>0.000019</td>\n",
       "      <td>0.000019</td>\n",
       "      <td>0.000020</td>\n",
       "      <td>0.000021</td>\n",
       "      <td>0.000026</td>\n",
       "      <td>0.000030</td>\n",
       "      <td>0.000031</td>\n",
       "      <td>0.000031</td>\n",
       "      <td>0.000035</td>\n",
       "      <td>0.000043</td>\n",
       "      <td>0.000071</td>\n",
       "      <td>0.000078</td>\n",
       "      <td>0.00008</td>\n",
       "      <td>0.000104</td>\n",
       "      <td>...</td>\n",
       "      <td>0.914010</td>\n",
       "      <td>0.924725</td>\n",
       "      <td>0.925993</td>\n",
       "      <td>0.927344</td>\n",
       "      <td>0.929600</td>\n",
       "      <td>0.931218</td>\n",
       "      <td>0.934734</td>\n",
       "      <td>0.934932</td>\n",
       "      <td>0.935316</td>\n",
       "      <td>0.936024</td>\n",
       "      <td>0.936803</td>\n",
       "      <td>0.938589</td>\n",
       "      <td>0.938861</td>\n",
       "      <td>0.940104</td>\n",
       "      <td>0.940272</td>\n",
       "      <td>0.943983</td>\n",
       "      <td>0.944575</td>\n",
       "      <td>0.947844</td>\n",
       "      <td>0.949924</td>\n",
       "      <td>0.957052</td>\n",
       "      <td>0.964786</td>\n",
       "      <td>0.968592</td>\n",
       "      <td>0.970238</td>\n",
       "      <td>0.970910</td>\n",
       "      <td>0.971852</td>\n",
       "      <td>0.972083</td>\n",
       "      <td>0.972430</td>\n",
       "      <td>0.974949</td>\n",
       "      <td>0.977247</td>\n",
       "      <td>0.979239</td>\n",
       "      <td>0.985035</td>\n",
       "      <td>0.985916</td>\n",
       "      <td>0.986965</td>\n",
       "      <td>0.988514</td>\n",
       "      <td>0.989595</td>\n",
       "      <td>0.990501</td>\n",
       "      <td>0.992308</td>\n",
       "      <td>0.992316</td>\n",
       "      <td>0.996591</td>\n",
       "      <td>0.997783</td>\n",
       "    </tr>\n",
       "  </tbody>\n",
       "</table>\n",
       "<p>2 rows × 965 columns</p>\n",
       "</div>"
      ],
      "text/plain": [
       "           cool           ego          wait  ...      help      free    likely\n",
       "0  8.898436e+01  8.311288e+01  5.375322e+01  ...  0.015427  0.006830  0.004438\n",
       "1  4.756558e-20  8.959167e-19  2.126364e-12  ...  0.992316  0.996591  0.997783\n",
       "\n",
       "[2 rows x 965 columns]"
      ]
     },
     "execution_count": 9,
     "metadata": {},
     "output_type": "execute_result"
    }
   ],
   "source": [
    "# 0 is chi2 score, 1 is p-value\n",
    "X_train = df_vectorized_text_unigrams_train\n",
    "X_test = df_vectorized_text_unigrams_test\n",
    "\n",
    "chi2_values = chi2(X_train.values, y_train)\n",
    "chi2_df = pd.DataFrame(data=chi2_values, columns=X_train.columns)\n",
    "chi2_df_sorted = chi2_df.sort_values(by=0, axis = 1, ascending = False)\n",
    "chi2_df_sorted"
   ]
  },
  {
   "cell_type": "markdown",
   "id": "e6b50402",
   "metadata": {
    "id": "e6b50402"
   },
   "source": [
    "## Finding the optimal number of features to use based on cross validation F1-score"
   ]
  },
  {
   "cell_type": "code",
   "execution_count": null,
   "id": "10033005",
   "metadata": {
    "id": "10033005"
   },
   "outputs": [],
   "source": [
    "f1_results_unigram_chi_square = {}\n",
    "for n in range(1, 965, 5):\n",
    "    chi2_columns_unigrams = chi2_df_sorted.columns[:n]\n",
    "    X_train_df = df_vectorized_text_unigrams_train[chi2_columns_unigrams]\n",
    "\n",
    "    #train MLR\n",
    "    clf = LinearSVC(random_state=0)\n",
    "\n",
    "    #Cross validation, cv=5\n",
    "    f1 = cross_val_score(clf, X_train_df, y_train, scoring='f1_weighted', cv=5)\n",
    "    \n",
    "    #Storing mean cross validation F1-scores in a dictionary\n",
    "    f1_results_unigram_chi_square[n] = f1.mean() "
   ]
  },
  {
   "cell_type": "code",
   "execution_count": null,
   "id": "872dbf13",
   "metadata": {
    "colab": {
     "base_uri": "https://localhost:8080/",
     "height": 720
    },
    "id": "872dbf13",
    "outputId": "7b9dd4c4-30ff-4cf7-c9cf-b8b1b44448fd"
   },
   "outputs": [
    {
     "data": {
      "text/plain": [
       "<matplotlib.axes._subplots.AxesSubplot at 0x7f2efd187a10>"
      ]
     },
     "execution_count": 11,
     "metadata": {},
     "output_type": "execute_result"
    },
    {
     "data": {
      "image/png": "[encoded data removed]",
      "text/plain": [
       "<Figure size 1440x864 with 1 Axes>"
      ]
     },
     "metadata": {},
     "output_type": "display_data"
    }
   ],
   "source": [
    "sns.set(rc={'figure.figsize':(20,12)})\n",
    "sns.lineplot(data=f1_results_unigram_chi_square)"
   ]
  },
  {
   "cell_type": "code",
   "execution_count": null,
   "id": "f9bdc934",
   "metadata": {
    "colab": {
     "base_uri": "https://localhost:8080/"
    },
    "id": "f9bdc934",
    "outputId": "882cab45-cfac-448b-d612-02f434040a38"
   },
   "outputs": [
    {
     "data": {
      "text/plain": [
       "526"
      ]
     },
     "execution_count": 12,
     "metadata": {},
     "output_type": "execute_result"
    }
   ],
   "source": [
    "# Getting the optimal number of features which will result in best mean cross validation F1-score from the dictionary\n",
    "\n",
    "best_no_of_features= max(f1_results_unigram_chi_square, key=f1_results_unigram_chi_square.get)\n",
    "best_no_of_features"
   ]
  },
  {
   "cell_type": "code",
   "execution_count": null,
   "id": "c8944a6f",
   "metadata": {
    "id": "c8944a6f"
   },
   "outputs": [],
   "source": [
    "# Extracting the optimal number of features into a dataframe for training\n",
    "\n",
    "chi2_columns = chi2_df_sorted.columns[:best_no_of_features]\n",
    "X_train_vectorized_unigrams_chi_square = df_vectorized_text_unigrams_train[chi2_columns]\n",
    "X_test_vectorized_unigrams_chi_square = df_vectorized_text_unigrams_test[chi2_columns]"
   ]
  },
  {
   "cell_type": "code",
   "execution_count": null,
   "id": "21ef3cdc",
   "metadata": {
    "colab": {
     "base_uri": "https://localhost:8080/"
    },
    "id": "21ef3cdc",
    "outputId": "c6647501-9b67-432e-ec36-53f251314b38"
   },
   "outputs": [
    {
     "name": "stdout",
     "output_type": "stream",
     "text": [
      "Train Accuracy: 73.16%\n",
      "Test Accuracy: 67.71%\n",
      "Test F1 Score: 67.40%\n",
      "Mean Cross Val Accuracy: 67.79%\n",
      "Mean Cross Val F1 Score: 67.33%\n",
      "Testing Matthew's coefficient: 0.38\n"
     ]
    }
   ],
   "source": [
    "X_train = X_train_vectorized_unigrams_chi_square\n",
    "X_test = X_test_vectorized_unigrams_chi_square\n",
    "\n",
    "clf = LinearSVC(random_state=0).fit(X_train, y_train)\n",
    "\n",
    "y_train_pred = clf.predict(X_train)\n",
    "print('Train Accuracy: ' + '{:.2%}'.format(accuracy_score(y_train, y_train_pred)))\n",
    "\n",
    "y_test_pred = clf.predict(X_test)\n",
    "print('Test Accuracy: ' + '{:.2%}'.format(accuracy_score(y_test, y_test_pred)))\n",
    "print('Test F1 Score: ' + '{:.2%}'.format(f1_score(y_test, y_test_pred, average='weighted')))\n",
    "\n",
    "## Cross Validation\n",
    "cross_val_accuracy_scores = cross_val_score(clf, X_train, y_train, scoring='accuracy', cv=10, n_jobs=-1)   \n",
    "print(\"Mean Cross Val Accuracy: \" + '{:.2%}'.format(cross_val_accuracy_scores.mean()))\n",
    "    \n",
    "cross_val_f1_scores = cross_val_score(clf, X_train, y_train, scoring='f1_weighted', cv=10, n_jobs=-1)\n",
    "print(\"Mean Cross Val F1 Score: \" + '{:.2%}'.format(cross_val_f1_scores.mean()))\n",
    "\n",
    "testing_matthew_coeff = matthews_corrcoef(y_test, y_test_pred)\n",
    "print(\"Testing Matthew's coefficient:\", round(testing_matthew_coeff,3))"
   ]
  },
  {
   "cell_type": "markdown",
   "id": "bcc6d2c9",
   "metadata": {
    "id": "bcc6d2c9"
   },
   "source": [
    "## Unigrams + Bigrams Results"
   ]
  },
  {
   "cell_type": "markdown",
   "id": "0cf47611",
   "metadata": {
    "id": "0cf47611"
   },
   "source": [
    "## Training without Chi Square Feature Selection"
   ]
  },
  {
   "cell_type": "code",
   "execution_count": null,
   "id": "9ecea16b",
   "metadata": {
    "colab": {
     "base_uri": "https://localhost:8080/"
    },
    "id": "9ecea16b",
    "outputId": "4b58d402-1f18-4c43-bc89-09b76d84e4c8"
   },
   "outputs": [
    {
     "name": "stdout",
     "output_type": "stream",
     "text": [
      "Train Accuracy: 79.56%\n",
      "Test Accuracy: 65.25%\n",
      "Test F1 Score: 65.21%\n",
      "Mean Cross Val Accuracy: 66.28%\n",
      "Mean Cross Val F1 Score: 66.07%\n",
      "Testing Matthew's coefficient: 0.342\n"
     ]
    }
   ],
   "source": [
    "X_train = df_vectorized_text_unigrams_and_bigrams_train\n",
    "X_test = df_vectorized_text_unigrams_and_bigrams_test\n",
    "\n",
    "clf = LinearSVC(random_state=0).fit(X_train, y_train)\n",
    "\n",
    "y_train_pred = clf.predict(X_train)\n",
    "print('Train Accuracy: ' + '{:.2%}'.format(accuracy_score(y_train, y_train_pred)))\n",
    "\n",
    "y_test_pred = clf.predict(X_test)\n",
    "print('Test Accuracy: ' + '{:.2%}'.format(accuracy_score(y_test, y_test_pred)))\n",
    "print('Test F1 Score: ' + '{:.2%}'.format(f1_score(y_test, y_test_pred, average='weighted')))\n",
    "\n",
    "## Cross Validation\n",
    "cross_val_accuracy_scores = cross_val_score(clf, X_train, y_train, scoring='accuracy', cv=10, n_jobs=-1)   \n",
    "print(\"Mean Cross Val Accuracy: \" + '{:.2%}'.format(cross_val_accuracy_scores.mean()))\n",
    "    \n",
    "cross_val_f1_scores = cross_val_score(clf, X_train, y_train, scoring='f1_weighted', cv=10, n_jobs=-1)\n",
    "print(\"Mean Cross Val F1 Score: \" + '{:.2%}'.format(cross_val_f1_scores.mean()))\n",
    "\n",
    "testing_matthew_coeff = matthews_corrcoef(y_test, y_test_pred)\n",
    "print(\"Testing Matthew's coefficient:\", round(testing_matthew_coeff,3))"
   ]
  },
  {
   "cell_type": "markdown",
   "id": "0c885362",
   "metadata": {
    "id": "0c885362"
   },
   "source": [
    "## Training with Chi Square Feature Selection"
   ]
  },
  {
   "cell_type": "code",
   "execution_count": null,
   "id": "8ad68a93",
   "metadata": {
    "colab": {
     "base_uri": "https://localhost:8080/",
     "height": 178
    },
    "id": "8ad68a93",
    "outputId": "8b7f6e26-8ced-4b5d-8df8-4dde30a9bf05",
    "scrolled": true
   },
   "outputs": [
    {
     "data": {
      "text/html": [
       "<div>\n",
       "<style scoped>\n",
       "    .dataframe tbody tr th:only-of-type {\n",
       "        vertical-align: middle;\n",
       "    }\n",
       "\n",
       "    .dataframe tbody tr th {\n",
       "        vertical-align: top;\n",
       "    }\n",
       "\n",
       "    .dataframe thead th {\n",
       "        text-align: right;\n",
       "    }\n",
       "</style>\n",
       "<table border=\"1\" class=\"dataframe\">\n",
       "  <thead>\n",
       "    <tr style=\"text-align: right;\">\n",
       "      <th></th>\n",
       "      <th>cool</th>\n",
       "      <th>ego</th>\n",
       "      <th>ego drive</th>\n",
       "      <th>wait</th>\n",
       "      <th>non</th>\n",
       "      <th>awesome</th>\n",
       "      <th>amazing</th>\n",
       "      <th>want</th>\n",
       "      <th>fbi</th>\n",
       "      <th>concern</th>\n",
       "      <th>love</th>\n",
       "      <th>trust</th>\n",
       "      <th>google car</th>\n",
       "      <th>major</th>\n",
       "      <th>wait self</th>\n",
       "      <th>job</th>\n",
       "      <th>point</th>\n",
       "      <th>flaw</th>\n",
       "      <th>creepy</th>\n",
       "      <th>information technology</th>\n",
       "      <th>wow</th>\n",
       "      <th>problem</th>\n",
       "      <th>google ego</th>\n",
       "      <th>information</th>\n",
       "      <th>excited</th>\n",
       "      <th>scare</th>\n",
       "      <th>motorcar</th>\n",
       "      <th>worry</th>\n",
       "      <th>organization</th>\n",
       "      <th>vehicle</th>\n",
       "      <th>ugly</th>\n",
       "      <th>forward</th>\n",
       "      <th>want self</th>\n",
       "      <th>lazy</th>\n",
       "      <th>weapon</th>\n",
       "      <th>car cool</th>\n",
       "      <th>elevator car</th>\n",
       "      <th>railway</th>\n",
       "      <th>railroad</th>\n",
       "      <th>toyota</th>\n",
       "      <th>...</th>\n",
       "      <th>silly</th>\n",
       "      <th>googles self</th>\n",
       "      <th>car lol</th>\n",
       "      <th>rest</th>\n",
       "      <th>pass self</th>\n",
       "      <th>nearly</th>\n",
       "      <th>ok</th>\n",
       "      <th>future car</th>\n",
       "      <th>driverless google</th>\n",
       "      <th>car design</th>\n",
       "      <th>easy</th>\n",
       "      <th>merge</th>\n",
       "      <th>car mainstream</th>\n",
       "      <th>goal</th>\n",
       "      <th>steve</th>\n",
       "      <th>look</th>\n",
       "      <th>article</th>\n",
       "      <th>microsoft</th>\n",
       "      <th>track</th>\n",
       "      <th>little</th>\n",
       "      <th>fully</th>\n",
       "      <th>low</th>\n",
       "      <th>add</th>\n",
       "      <th>car real</th>\n",
       "      <th>like self</th>\n",
       "      <th>door</th>\n",
       "      <th>social</th>\n",
       "      <th>use self</th>\n",
       "      <th>friendly</th>\n",
       "      <th>practical</th>\n",
       "      <th>state</th>\n",
       "      <th>today google</th>\n",
       "      <th>help</th>\n",
       "      <th>driving</th>\n",
       "      <th>free</th>\n",
       "      <th>student</th>\n",
       "      <th>minute</th>\n",
       "      <th>heaven</th>\n",
       "      <th>promise</th>\n",
       "      <th>likely</th>\n",
       "    </tr>\n",
       "  </thead>\n",
       "  <tbody>\n",
       "    <tr>\n",
       "      <th>0</th>\n",
       "      <td>7.230800e+01</td>\n",
       "      <td>6.821965e+01</td>\n",
       "      <td>6.229648e+01</td>\n",
       "      <td>4.205496e+01</td>\n",
       "      <td>4.151858e+01</td>\n",
       "      <td>3.764306e+01</td>\n",
       "      <td>3.170320e+01</td>\n",
       "      <td>2.921521e+01</td>\n",
       "      <td>27.351433</td>\n",
       "      <td>27.105606</td>\n",
       "      <td>26.996153</td>\n",
       "      <td>26.962168</td>\n",
       "      <td>25.712454</td>\n",
       "      <td>24.895669</td>\n",
       "      <td>24.669007</td>\n",
       "      <td>24.203575</td>\n",
       "      <td>22.787711</td>\n",
       "      <td>22.336676</td>\n",
       "      <td>21.611122</td>\n",
       "      <td>21.581792</td>\n",
       "      <td>21.485290</td>\n",
       "      <td>21.354559</td>\n",
       "      <td>20.965195</td>\n",
       "      <td>20.894105</td>\n",
       "      <td>20.84776</td>\n",
       "      <td>20.822774</td>\n",
       "      <td>20.390840</td>\n",
       "      <td>19.869957</td>\n",
       "      <td>19.523085</td>\n",
       "      <td>18.935603</td>\n",
       "      <td>18.856519</td>\n",
       "      <td>18.676447</td>\n",
       "      <td>18.408220</td>\n",
       "      <td>18.128683</td>\n",
       "      <td>17.661426</td>\n",
       "      <td>17.564927</td>\n",
       "      <td>17.316736</td>\n",
       "      <td>17.183081</td>\n",
       "      <td>16.919989</td>\n",
       "      <td>16.513101</td>\n",
       "      <td>...</td>\n",
       "      <td>0.112632</td>\n",
       "      <td>0.105168</td>\n",
       "      <td>0.104664</td>\n",
       "      <td>0.099120</td>\n",
       "      <td>0.099037</td>\n",
       "      <td>0.097713</td>\n",
       "      <td>0.092836</td>\n",
       "      <td>0.091422</td>\n",
       "      <td>0.090524</td>\n",
       "      <td>0.089060</td>\n",
       "      <td>0.087536</td>\n",
       "      <td>0.074825</td>\n",
       "      <td>0.073379</td>\n",
       "      <td>0.072077</td>\n",
       "      <td>0.07113</td>\n",
       "      <td>0.069811</td>\n",
       "      <td>0.068311</td>\n",
       "      <td>0.067779</td>\n",
       "      <td>0.066341</td>\n",
       "      <td>0.066162</td>\n",
       "      <td>0.058642</td>\n",
       "      <td>0.057637</td>\n",
       "      <td>0.056440</td>\n",
       "      <td>0.044839</td>\n",
       "      <td>0.040734</td>\n",
       "      <td>0.036738</td>\n",
       "      <td>0.035755</td>\n",
       "      <td>0.034705</td>\n",
       "      <td>0.032339</td>\n",
       "      <td>0.025406</td>\n",
       "      <td>0.022606</td>\n",
       "      <td>0.021486</td>\n",
       "      <td>0.017964</td>\n",
       "      <td>0.016465</td>\n",
       "      <td>0.013025</td>\n",
       "      <td>0.01274</td>\n",
       "      <td>0.012722</td>\n",
       "      <td>0.007483</td>\n",
       "      <td>0.001328</td>\n",
       "      <td>0.001277</td>\n",
       "    </tr>\n",
       "    <tr>\n",
       "      <th>1</th>\n",
       "      <td>1.988461e-16</td>\n",
       "      <td>1.535648e-15</td>\n",
       "      <td>2.968188e-14</td>\n",
       "      <td>7.377035e-10</td>\n",
       "      <td>9.646174e-10</td>\n",
       "      <td>6.697496e-09</td>\n",
       "      <td>1.305382e-07</td>\n",
       "      <td>4.528957e-07</td>\n",
       "      <td>0.000001</td>\n",
       "      <td>0.000001</td>\n",
       "      <td>0.000001</td>\n",
       "      <td>0.000001</td>\n",
       "      <td>0.000003</td>\n",
       "      <td>0.000004</td>\n",
       "      <td>0.000004</td>\n",
       "      <td>0.000006</td>\n",
       "      <td>0.000011</td>\n",
       "      <td>0.000014</td>\n",
       "      <td>0.000020</td>\n",
       "      <td>0.000021</td>\n",
       "      <td>0.000022</td>\n",
       "      <td>0.000023</td>\n",
       "      <td>0.000028</td>\n",
       "      <td>0.000029</td>\n",
       "      <td>0.00003</td>\n",
       "      <td>0.000030</td>\n",
       "      <td>0.000037</td>\n",
       "      <td>0.000048</td>\n",
       "      <td>0.000058</td>\n",
       "      <td>0.000077</td>\n",
       "      <td>0.000080</td>\n",
       "      <td>0.000088</td>\n",
       "      <td>0.000101</td>\n",
       "      <td>0.000116</td>\n",
       "      <td>0.000146</td>\n",
       "      <td>0.000153</td>\n",
       "      <td>0.000174</td>\n",
       "      <td>0.000186</td>\n",
       "      <td>0.000212</td>\n",
       "      <td>0.000260</td>\n",
       "      <td>...</td>\n",
       "      <td>0.945240</td>\n",
       "      <td>0.948775</td>\n",
       "      <td>0.949014</td>\n",
       "      <td>0.951648</td>\n",
       "      <td>0.951688</td>\n",
       "      <td>0.952318</td>\n",
       "      <td>0.954643</td>\n",
       "      <td>0.955318</td>\n",
       "      <td>0.955747</td>\n",
       "      <td>0.956447</td>\n",
       "      <td>0.957176</td>\n",
       "      <td>0.963278</td>\n",
       "      <td>0.963975</td>\n",
       "      <td>0.964603</td>\n",
       "      <td>0.96506</td>\n",
       "      <td>0.965697</td>\n",
       "      <td>0.966421</td>\n",
       "      <td>0.966678</td>\n",
       "      <td>0.967374</td>\n",
       "      <td>0.967460</td>\n",
       "      <td>0.971105</td>\n",
       "      <td>0.971593</td>\n",
       "      <td>0.972175</td>\n",
       "      <td>0.977830</td>\n",
       "      <td>0.979839</td>\n",
       "      <td>0.981798</td>\n",
       "      <td>0.982281</td>\n",
       "      <td>0.982797</td>\n",
       "      <td>0.983960</td>\n",
       "      <td>0.987377</td>\n",
       "      <td>0.988760</td>\n",
       "      <td>0.989315</td>\n",
       "      <td>0.991058</td>\n",
       "      <td>0.991801</td>\n",
       "      <td>0.993509</td>\n",
       "      <td>0.99365</td>\n",
       "      <td>0.993659</td>\n",
       "      <td>0.996265</td>\n",
       "      <td>0.999336</td>\n",
       "      <td>0.999362</td>\n",
       "    </tr>\n",
       "  </tbody>\n",
       "</table>\n",
       "<p>2 rows × 1350 columns</p>\n",
       "</div>"
      ],
      "text/plain": [
       "           cool           ego     ego drive  ...    heaven   promise    likely\n",
       "0  7.230800e+01  6.821965e+01  6.229648e+01  ...  0.007483  0.001328  0.001277\n",
       "1  1.988461e-16  1.535648e-15  2.968188e-14  ...  0.996265  0.999336  0.999362\n",
       "\n",
       "[2 rows x 1350 columns]"
      ]
     },
     "execution_count": 16,
     "metadata": {},
     "output_type": "execute_result"
    }
   ],
   "source": [
    "# 0 is chi2 score, 1 is p-value\n",
    "X_train = df_vectorized_text_unigrams_and_bigrams_train\n",
    "X_test = df_vectorized_text_unigrams_and_bigrams_test\n",
    "\n",
    "chi2_values = chi2(X_train.values, y_train)\n",
    "chi2_df = pd.DataFrame(data=chi2_values, columns=X_train.columns)\n",
    "chi2_df_sorted = chi2_df.sort_values(by=0, axis = 1, ascending = False)\n",
    "chi2_df_sorted"
   ]
  },
  {
   "cell_type": "markdown",
   "id": "ec31b8bc",
   "metadata": {
    "id": "ec31b8bc"
   },
   "source": [
    "## Finding the optimal number of features to use based on cross validation F1-score"
   ]
  },
  {
   "cell_type": "code",
   "execution_count": null,
   "id": "df7bfe4e",
   "metadata": {
    "id": "df7bfe4e"
   },
   "outputs": [],
   "source": [
    "f1_results_unigram_bigram = {}\n",
    "for n in range(1, 1350, 5):\n",
    "    chi2_columns_unigram_bigram = chi2_df_sorted.columns[:n]\n",
    "    X_train_df = df_vectorized_text_unigrams_and_bigrams_train[chi2_columns_unigram_bigram]\n",
    "\n",
    "    #train MLR\n",
    "    clf = LinearSVC(random_state=0)\n",
    "\n",
    "    #Cross validation, cv=5\n",
    "    f1 = cross_val_score(clf, X_train_df, y_train, scoring='f1_weighted', cv=5)\n",
    "    \n",
    "    #Storing mean cross validation F1-scores in a dictionary\n",
    "    f1_results_unigram_bigram[n] = f1.mean() "
   ]
  },
  {
   "cell_type": "code",
   "execution_count": null,
   "id": "dd1621be",
   "metadata": {
    "colab": {
     "base_uri": "https://localhost:8080/",
     "height": 722
    },
    "id": "dd1621be",
    "outputId": "b286402f-f214-474d-83b0-3e81da49799e"
   },
   "outputs": [
    {
     "data": {
      "text/plain": [
       "<matplotlib.axes._subplots.AxesSubplot at 0x7f2efcc84b90>"
      ]
     },
     "execution_count": 18,
     "metadata": {},
     "output_type": "execute_result"
    },
    {
     "data": {
      "image/png": "[encoded data removed]",
      "text/plain": [
       "<Figure size 1440x864 with 1 Axes>"
      ]
     },
     "metadata": {},
     "output_type": "display_data"
    }
   ],
   "source": [
    "sns.set(rc={'figure.figsize':(20,12)})\n",
    "sns.lineplot(data=f1_results_unigram_bigram)"
   ]
  },
  {
   "cell_type": "code",
   "execution_count": null,
   "id": "f31e8688",
   "metadata": {
    "colab": {
     "base_uri": "https://localhost:8080/"
    },
    "id": "f31e8688",
    "outputId": "dd938e43-7da3-4e65-b827-166a18247716"
   },
   "outputs": [
    {
     "data": {
      "text/plain": [
       "851"
      ]
     },
     "execution_count": 19,
     "metadata": {},
     "output_type": "execute_result"
    }
   ],
   "source": [
    "# Getting the optimal number of features which will result in best mean cross validation F1-score from the dictionary\n",
    "\n",
    "best_no_of_features= max(f1_results_unigram_bigram, key=f1_results_unigram_bigram.get)\n",
    "best_no_of_features"
   ]
  },
  {
   "cell_type": "code",
   "execution_count": null,
   "id": "c4da8538",
   "metadata": {
    "id": "c4da8538"
   },
   "outputs": [],
   "source": [
    "# Extracting the optimal number of features into a dataframe for training\n",
    "\n",
    "chi2_columns = chi2_df_sorted.columns[:best_no_of_features]\n",
    "X_train_vectorized_unigram_bigram_chi_square = df_vectorized_text_unigrams_and_bigrams_train[chi2_columns]\n",
    "X_test_vectorized_unigram_bigram_chi_square = df_vectorized_text_unigrams_and_bigrams_test[chi2_columns]"
   ]
  },
  {
   "cell_type": "code",
   "execution_count": null,
   "id": "6da2b2c0",
   "metadata": {
    "colab": {
     "base_uri": "https://localhost:8080/"
    },
    "id": "6da2b2c0",
    "outputId": "b4f8de66-b332-4111-df32-c320c73e598e"
   },
   "outputs": [
    {
     "name": "stdout",
     "output_type": "stream",
     "text": [
      "Train Accuracy: 76.39%\n",
      "Test Accuracy: 66.52%\n",
      "Test F1 Score: 66.23%\n",
      "Mean Cross Val Accuracy: 68.46%\n",
      "Mean Cross Val F1 Score: 68.11%\n",
      "Testing Matthew's coefficient: 0.358\n"
     ]
    }
   ],
   "source": [
    "X_train = X_train_vectorized_unigram_bigram_chi_square\n",
    "X_test = X_test_vectorized_unigram_bigram_chi_square\n",
    "\n",
    "clf = LinearSVC(random_state=0).fit(X_train, y_train)\n",
    "\n",
    "y_train_pred = clf.predict(X_train)\n",
    "print('Train Accuracy: ' + '{:.2%}'.format(accuracy_score(y_train, y_train_pred)))\n",
    "\n",
    "y_test_pred = clf.predict(X_test)\n",
    "print('Test Accuracy: ' + '{:.2%}'.format(accuracy_score(y_test, y_test_pred)))\n",
    "print('Test F1 Score: ' + '{:.2%}'.format(f1_score(y_test, y_test_pred, average='weighted')))\n",
    "\n",
    "## Cross Validation\n",
    "cross_val_accuracy_scores = cross_val_score(clf, X_train, y_train, scoring='accuracy', cv=10, n_jobs=-1)   \n",
    "print(\"Mean Cross Val Accuracy: \" + '{:.2%}'.format(cross_val_accuracy_scores.mean()))\n",
    "    \n",
    "cross_val_f1_scores = cross_val_score(clf, X_train, y_train, scoring='f1_weighted', cv=10, n_jobs=-1)\n",
    "print(\"Mean Cross Val F1 Score: \" + '{:.2%}'.format(cross_val_f1_scores.mean()))\n",
    "\n",
    "testing_matthew_coeff = matthews_corrcoef(y_test, y_test_pred)\n",
    "print(\"Testing Matthew's coefficient:\", round(testing_matthew_coeff,3))"
   ]
  },
  {
   "cell_type": "markdown",
   "id": "639fb1bc",
   "metadata": {
    "id": "639fb1bc"
   },
   "source": [
    "## Unigrams + Bigrams + Unsupervised Topics Results"
   ]
  },
  {
   "cell_type": "code",
   "execution_count": 5,
   "id": "ff5696a0",
   "metadata": {
    "id": "ff5696a0"
   },
   "outputs": [],
   "source": [
    "unsupervised_topics=[(1,\n",
    "  [('google', 0.20161290322580644),\n",
    "   ('street', 0.03938484621155289),\n",
    "   ('city', 0.0277569392348087),\n",
    "   ('state', 0.020255063765941484),\n",
    "   ('watch', 0.019129782445611403),\n",
    "   ('view', 0.018567141785446363),\n",
    "   ('spot', 0.014816204051012753),\n",
    "   ('map', 0.014441110277569393),\n",
    "   ('truck', 0.01387846961740435),\n",
    "   ('drone', 0.01312828207051763),\n",
    "   ('fast', 0.009939984996249063),\n",
    "   ('mountain', 0.008252063015753939),\n",
    "   ('sound', 0.008252063015753939),\n",
    "   ('lane', 0.007314328582145537),\n",
    "   ('master', 0.007314328582145537),\n",
    "   ('route', 0.006751687921980495),\n",
    "   ('tree', 0.006751687921980495),\n",
    "   ('deliver', 0.006564141035258815),\n",
    "   ('lead', 0.006376594148537134),\n",
    "   ('excited', 0.0061890472618154535),\n",
    "   ('pine', 0.0061890472618154535),\n",
    "   ('single', 0.0061890472618154535),\n",
    "   ('computer', 0.0061890472618154535),\n",
    "   ('wrong', 0.006001500375093774),\n",
    "   ('study', 0.005813953488372093),\n",
    "   ('passenger', 0.005438859714928732),\n",
    "   ('datum', 0.005251312828207052),\n",
    "   ('michigan', 0.005251312828207052),\n",
    "   ('sense', 0.005063765941485371),\n",
    "   ('university', 0.0046886721680420105)]),\n",
    " (2,\n",
    "  [('google', 0.0676706061761342),\n",
    "   ('wait', 0.035836828059473885),\n",
    "   ('automobile', 0.019062142584826535),\n",
    "   ('glass', 0.016965306900495615),\n",
    "   ('safe', 0.016584064048799085),\n",
    "   ('buy', 0.01639344262295082),\n",
    "   ('happen', 0.015630956919557758),\n",
    "   ('railway', 0.015440335493709493),\n",
    "   ('talk', 0.015059092642012962),\n",
    "   ('run', 0.0142966069386199),\n",
    "   ('audi', 0.014105985512771636),\n",
    "   ('stop', 0.01391536408692337),\n",
    "   ('crash', 0.012581014105985514),\n",
    "   ('park', 0.012199771254288982),\n",
    "   ('parking', 0.011627906976744186),\n",
    "   ('feel', 0.011437285550895921),\n",
    "   ('innovation', 0.011246664125047654),\n",
    "   ('point', 0.01105604269919939),\n",
    "   ('place', 0.01067479984750286),\n",
    "   ('lot', 0.010484178421654593),\n",
    "   ('end', 0.010484178421654593),\n",
    "   ('guy', 0.009531071292413268),\n",
    "   ('highway', 0.009149828440716736),\n",
    "   ('free', 0.008006099885627144),\n",
    "   ('money', 0.007815478459778879),\n",
    "   ('company', 0.007815478459778879),\n",
    "   ('close', 0.007434235608082348),\n",
    "   ('step', 0.0072436141822340835),\n",
    "   ('week', 0.007052992756385818),\n",
    "   ('yeah', 0.007052992756385818)]),\n",
    " (3,\n",
    "  [('autonomous', 0.07629531220345416),\n",
    "   ('vehicle', 0.06661605617764281),\n",
    "   ('driving', 0.03093566141582843),\n",
    "   ('taxi', 0.02239514139305371),\n",
    "   ('love', 0.022015562725374836),\n",
    "   ('trust', 0.016701461377870562),\n",
    "   ('motorcar', 0.016132093376352248),\n",
    "   ('number', 0.01480356803947618),\n",
    "   ('job', 0.014044410704118429),\n",
    "   ('ford', 0.011956728031884608),\n",
    "   ('cable', 0.011956728031884608),\n",
    "   ('bring', 0.009869045359650788),\n",
    "   ('control', 0.00948946669197191),\n",
    "   ('mt', 0.00948946669197191),\n",
    "   ('electric', 0.008920098690453597),\n",
    "   ('leave', 0.008350730688935281),\n",
    "   ('atomic', 0.007781362687416967),\n",
    "   ('forward', 0.007591573353577529),\n",
    "   ('phone', 0.007211994685898652),\n",
    "   ('safety', 0.007211994685898652),\n",
    "   ('drivingcar', 0.007211994685898652),\n",
    "   ('research', 0.0064528373505409),\n",
    "   ('set', 0.0064528373505409),\n",
    "   ('automate', 0.0064528373505409),\n",
    "   ('pick', 0.006073258682862023),\n",
    "   ('power', 0.006073258682862023),\n",
    "   ('hurry', 0.005883469349022585),\n",
    "   ('nice', 0.005883469349022585),\n",
    "   ('motor', 0.005883469349022585),\n",
    "   ('potential', 0.005503890681343709)]),\n",
    " (4,\n",
    "  [('ego', 0.07308207384733116),\n",
    "   ('thing', 0.030801607040367322),\n",
    "   ('live', 0.016835660991008226),\n",
    "   ('start', 0.014157260378802373),\n",
    "   ('apple', 0.014157260378802373),\n",
    "   ('pretty', 0.013583317390472546),\n",
    "   ('transportation', 0.013392003061029271),\n",
    "   ('home', 0.01300937440214272),\n",
    "   ('railcar', 0.012818060072699445),\n",
    "   ('design', 0.012818060072699445),\n",
    "   ('interesting', 0.01262674574325617),\n",
    "   ('turn', 0.01224411708436962),\n",
    "   ('wow', 0.012052802754926343),\n",
    "   ('train', 0.011096231107709967),\n",
    "   ('big', 0.010904916778266693),\n",
    "   ('smart', 0.008609144824947389),\n",
    "   ('question', 0.008417830495504113),\n",
    "   ('fbi', 0.008035201836617562),\n",
    "   ('bus', 0.007652573177731012),\n",
    "   ('head', 0.007652573177731012),\n",
    "   ('force', 0.007461258848287737),\n",
    "   ('iodin', 0.007461258848287737),\n",
    "   ('share', 0.007269944518844462),\n",
    "   ('science', 0.00650468720107136),\n",
    "   ('worry', 0.00650468720107136),\n",
    "   ('finally', 0.006313372871628085),\n",
    "   ('mainstream', 0.00612205854218481),\n",
    "   ('house', 0.00612205854218481),\n",
    "   ('report', 0.00612205854218481),\n",
    "   ('die', 0.00612205854218481)]),\n",
    " (5,\n",
    "  [('future', 0.06766340808894),\n",
    "   ('road', 0.05673758865248227),\n",
    "   ('nt', 0.035077630822311676),\n",
    "   ('ride', 0.03105232892466935),\n",
    "   ('year', 0.0272187080697719),\n",
    "   ('great', 0.02568525972781292),\n",
    "   ('ready', 0.021659957830170596),\n",
    "   ('pass', 0.021084914701935978),\n",
    "   ('traffic', 0.019551466359977),\n",
    "   ('law', 0.010350776308223116),\n",
    "   ('video', 0.0097757331799885),\n",
    "   ('pic', 0.009009009009009009),\n",
    "   ('service', 0.008817327966264136),\n",
    "   ('sign', 0.008050603795284647),\n",
    "   ('sleep', 0.0070921985815602835),\n",
    "   ('bill', 0.006900517538815411),\n",
    "   ('pay', 0.006708836496070539),\n",
    "   ('experience', 0.006708836496070539),\n",
    "   ('light', 0.006133793367835921),\n",
    "   ('ceo', 0.005750431282346176),\n",
    "   ('true', 0.005750431282346176),\n",
    "   ('infrastructure', 0.005750431282346176),\n",
    "   ('stuff', 0.0055587502396013035),\n",
    "   ('cruise', 0.0055587502396013035),\n",
    "   ('camera', 0.005367069196856431),\n",
    "   ('office', 0.005175388154111558),\n",
    "   ('invest', 0.005175388154111558),\n",
    "   ('maine', 0.005175388154111558),\n",
    "   ('commute', 0.0047920260686218135),\n",
    "   ('agree', 0.0047920260686218135)]),\n",
    " (6,\n",
    "  [('cool', 0.03692707366858415),\n",
    "   ('people', 0.035071441825941733),\n",
    "   ('world', 0.02709222490257933),\n",
    "   ('human', 0.0265355353497866),\n",
    "   ('accident', 0.024679903507144184),\n",
    "   ('day', 0.020226387084802375),\n",
    "   ('machine', 0.017442939320838746),\n",
    "   ('life', 0.017257376136574503),\n",
    "   ('idea', 0.016886249768046018),\n",
    "   ('hit', 0.0150306179254036),\n",
    "   ('elevator', 0.01410280200408239),\n",
    "   ('hope', 0.013917238819818148),\n",
    "   ('insurance', 0.013731675635553907),\n",
    "   ('railroad', 0.013546112451289664),\n",
    "   ('change', 0.012989422898496939),\n",
    "   ('mile', 0.012803859714232696),\n",
    "   ('real', 0.01224717016143997),\n",
    "   ('push', 0.010391538318797551),\n",
    "   ('fly', 0.010391538318797551),\n",
    "   ('exist', 0.010020411950269066),\n",
    "   ('kill', 0.009649285581740583),\n",
    "   ('save', 0.00946372239747634),\n",
    "   ('googles', 0.009278159213212098),\n",
    "   ('dream', 0.008907032844683615),\n",
    "   ('hour', 0.008721469660419373),\n",
    "   ('cost', 0.007979216923362405),\n",
    "   ('complete', 0.007793653739098163),\n",
    "   ('man', 0.007793653739098163),\n",
    "   ('invent', 0.007422527370569679),\n",
    "   ('drunk', 0.007236964186305437)]),\n",
    " (7,\n",
    "  [('google', 0.06018168054504164),\n",
    "   ('california', 0.03785011355034065),\n",
    "   ('work', 0.0350113550340651),\n",
    "   ('good', 0.031037093111279335),\n",
    "   ('test', 0.029901589704769114),\n",
    "   ('auto', 0.029523088569265707),\n",
    "   ('legal', 0.015518546555639667),\n",
    "   ('follow', 0.013436790310370931),\n",
    "   ('bad', 0.012869038607115822),\n",
    "   ('gondola', 0.012869038607115822),\n",
    "   ('find', 0.011544284632853898),\n",
    "   ('news', 0.010219530658591975),\n",
    "   ('require', 0.010030280090840272),\n",
    "   ('project', 0.009651778955336867),\n",
    "   ('toyota', 0.008894776684330053),\n",
    "   ('legalize', 0.008327024981074944),\n",
    "   ('lexus', 0.008327024981074944),\n",
    "   ('market', 0.008327024981074944),\n",
    "   ('government', 0.00813777441332324),\n",
    "   ('license', 0.00813777441332324),\n",
    "   ('testing', 0.007948523845571537),\n",
    "   ('issue', 0.00757002271006813),\n",
    "   ('omg', 0.007191521574564724),\n",
    "   ('permit', 0.007191521574564724),\n",
    "   ('hey', 0.007191521574564724),\n",
    "   ('worth', 0.007002271006813021),\n",
    "   ('totally', 0.006813020439061317),\n",
    "   ('goog', 0.006813020439061317),\n",
    "   ('picture', 0.006434519303557911),\n",
    "   ('hold', 0.006245268735806208)]),\n",
    " (8,\n",
    "  [('technology', 0.053527520332892),\n",
    "   ('uber', 0.0414223567240401),\n",
    "   ('time', 0.0346132021940609),\n",
    "   ('tech', 0.027047474938528465),\n",
    "   ('robot', 0.024399470399092113),\n",
    "   ('information', 0.023075468129373937),\n",
    "   ('build', 0.022508038585209004),\n",
    "   ('problem', 0.018346888594666162),\n",
    "   ('tesla', 0.016455456780783053),\n",
    "   ('public', 0.01418573860412332),\n",
    "   ('long', 0.013240022697181766),\n",
    "   ('read', 0.011348590883298657),\n",
    "   ('nissan', 0.010592018157745414),\n",
    "   ('plan', 0.01002458861358048),\n",
    "   ('break', 0.009268015888027236),\n",
    "   ('fleet', 0.009078872706638926),\n",
    "   ('morning', 0.009078872706638926),\n",
    "   ('develop', 0.008889729525250615),\n",
    "   ('create', 0.008511443162473993),\n",
    "   ('astir', 0.008322299981085681),\n",
    "   ('valley', 0.008133156799697372),\n",
    "   ('transit', 0.0075657272555324385),\n",
    "   ('solve', 0.007376584074144127),\n",
    "   ('article', 0.007376584074144127),\n",
    "   ('silicon', 0.007187440892755816),\n",
    "   ('launch', 0.006809154529979195),\n",
    "   ('major', 0.006430868167202572),\n",
    "   ('detroit', 0.0062417249858142615),\n",
    "   ('sf', 0.006052581804425951),\n",
    "   ('model', 0.005863438623037639)]),\n",
    " (9,\n",
    "  [('google', 0.28367997002061085),\n",
    "   ('today', 0.034663668727749675),\n",
    "   ('wheel', 0.03372681281618887),\n",
    "   ('steering', 0.021922428330522766),\n",
    "   ('awesome', 0.015364436949597151),\n",
    "   ('prototype', 0.012741240397226907),\n",
    "   ('unveil', 0.011991755667978264),\n",
    "   ('amazing', 0.011804384485666104),\n",
    "   ('hand', 0.011617013303353943),\n",
    "   ('brake', 0.0099306726625445),\n",
    "   ('fun', 0.009743301480232341),\n",
    "   ('speed', 0.009743301480232341),\n",
    "   ('shit', 0.00936855911560802),\n",
    "   ('pedal', 0.008056960839422896),\n",
    "   ('roll', 0.008056960839422896),\n",
    "   ('googleplex', 0.007869589657110737),\n",
    "   ('check', 0.007682218474798576),\n",
    "   ('fuck', 0.007494847292486416),\n",
    "   ('program', 0.007494847292486416),\n",
    "   ('limit', 0.006745362563237774),\n",
    "   ('cute', 0.006745362563237774),\n",
    "   ('announce', 0.006183249016301293),\n",
    "   ('codecon', 0.006183249016301293),\n",
    "   ('bmw', 0.005246393104740491),\n",
    "   ('freak', 0.0048716507401161705),\n",
    "   ('win', 0.0048716507401161705),\n",
    "   ('meet', 0.00468427955780401),\n",
    "   ('kid', 0.00468427955780401),\n",
    "   ('face', 0.00468427955780401),\n",
    "   ('post', 0.004122166010867528)])]\n",
    "\n",
    "df_train_unsupervised_unigram_bigram=df.copy()\n",
    "df_test_unsupervised_unigram_bigram=df_test.copy()\n",
    "\n",
    "def assign_topic_score(text, topic_no):\n",
    "    topic_list=unsupervised_topics[topic_no-1][1]    \n",
    "    \n",
    "    wordlist=text.split(' ')\n",
    "    topic_score=0\n",
    "    for word in wordlist:\n",
    "        for word_weight in topic_list:\n",
    "            if word==word_weight[0]:\n",
    "                topic_score+=word_weight[1]\n",
    "                \n",
    "    return topic_score\n",
    "    \n",
    "for each_topic in unsupervised_topics:\n",
    "    df_train_unsupervised_unigram_bigram['unsupervised_topic_' + str(each_topic[0])]= df_train_unsupervised_unigram_bigram.apply(lambda row: assign_topic_score(row['lemmatized and stopwords_removed'], each_topic[0]), axis=1)\n",
    "    df_test_unsupervised_unigram_bigram['unsupervised_topic_' + str(each_topic[0])]= df_test_unsupervised_unigram_bigram.apply(lambda row: assign_topic_score(row['lemmatized and stopwords_removed'], each_topic[0]), axis=1)"
   ]
  },
  {
   "cell_type": "markdown",
   "id": "401e54b4",
   "metadata": {
    "id": "401e54b4"
   },
   "source": [
    "## Training without Chi Square Feature Selection"
   ]
  },
  {
   "cell_type": "markdown",
   "id": "337d21df",
   "metadata": {
    "id": "337d21df"
   },
   "source": [
    "## Preparing data for model training"
   ]
  },
  {
   "cell_type": "code",
   "execution_count": 8,
   "id": "a09de9e3",
   "metadata": {
    "id": "a09de9e3"
   },
   "outputs": [],
   "source": [
    "# Scaling the Unsupervised topics\n",
    "\n",
    "scaler = MinMaxScaler()\n",
    "scaled_train_unsupervised_unigram_bigram = scaler.fit_transform(df_train_unsupervised_unigram_bigram.iloc[:, 3:])\n",
    "scaled_test_unsupervised_unigram_bigram = scaler.transform(df_test_unsupervised_unigram_bigram.iloc[:, 3:])\n",
    "\n",
    "# Transforming scaled topics into a dataframe\n",
    "\n",
    "scaled_train_unsupervised_unigram_bigram_df = pd.DataFrame(scaled_train_unsupervised_unigram_bigram, columns = df_train_unsupervised_unigram_bigram.iloc[:, 3:].columns)\n",
    "scaled_test_unsupervised_unigram_bigram_df = pd.DataFrame(scaled_test_unsupervised_unigram_bigram, columns = df_test_unsupervised_unigram_bigram.iloc[:, 3:].columns)\n",
    "\n",
    "# Combining Unigrams + Bigrams + Unsupervised topics into one dataframe\n",
    "\n",
    "train_unsupervised_unigram_bigram = pd.concat([scaled_train_unsupervised_unigram_bigram_df, df_vectorized_text_unigrams_and_bigrams_train], axis=1)\n",
    "test_unsupervised_unigram_bigram = pd.concat([scaled_test_unsupervised_unigram_bigram_df, df_vectorized_text_unigrams_and_bigrams_test], axis=1)"
   ]
  },
  {
   "cell_type": "code",
   "execution_count": 9,
   "id": "f16ec0b7",
   "metadata": {
    "colab": {
     "base_uri": "https://localhost:8080/"
    },
    "id": "f16ec0b7",
    "outputId": "0a7196e2-b479-4b84-eee7-9ccc1c378aac"
   },
   "outputs": [
    {
     "name": "stdout",
     "output_type": "stream",
     "text": [
      "Train Accuracy: 79.59%\n",
      "Test Accuracy: 66.00%\n",
      "Test F1 Score: 65.91%\n",
      "Mean Cross Val Accuracy: 66.59%\n",
      "Mean Cross Val F1 Score: 66.37%\n",
      "Testing Matthew's coefficient: 0.354\n"
     ]
    }
   ],
   "source": [
    "X_train = train_unsupervised_unigram_bigram\n",
    "X_test = test_unsupervised_unigram_bigram\n",
    "\n",
    "clf = LinearSVC(random_state=0).fit(X_train, y_train)\n",
    "\n",
    "y_train_pred = clf.predict(X_train)\n",
    "print('Train Accuracy: ' + '{:.2%}'.format(accuracy_score(y_train, y_train_pred)))\n",
    "\n",
    "y_test_pred = clf.predict(X_test)\n",
    "print('Test Accuracy: ' + '{:.2%}'.format(accuracy_score(y_test, y_test_pred)))\n",
    "print('Test F1 Score: ' + '{:.2%}'.format(f1_score(y_test, y_test_pred, average='weighted')))\n",
    "\n",
    "## Cross Validation\n",
    "cross_val_accuracy_scores = cross_val_score(clf, X_train, y_train, scoring='accuracy', cv=10, n_jobs=-1)   \n",
    "print(\"Mean Cross Val Accuracy: \" + '{:.2%}'.format(cross_val_accuracy_scores.mean()))\n",
    "    \n",
    "cross_val_f1_scores = cross_val_score(clf, X_train, y_train, scoring='f1_weighted', cv=10, n_jobs=-1)\n",
    "print(\"Mean Cross Val F1 Score: \" + '{:.2%}'.format(cross_val_f1_scores.mean()))\n",
    "\n",
    "testing_matthew_coeff = matthews_corrcoef(y_test, y_test_pred)\n",
    "print(\"Testing Matthew's coefficient:\", round(testing_matthew_coeff,3))"
   ]
  },
  {
   "cell_type": "markdown",
   "id": "870336ab",
   "metadata": {
    "id": "870336ab"
   },
   "source": [
    "## Training with Chi Square Feature Selection"
   ]
  },
  {
   "cell_type": "markdown",
   "id": "10b341ff",
   "metadata": {
    "id": "10b341ff"
   },
   "source": [
    "## Preparing data for model training"
   ]
  },
  {
   "cell_type": "code",
   "execution_count": 10,
   "id": "fa7b2290",
   "metadata": {
    "id": "fa7b2290"
   },
   "outputs": [],
   "source": [
    "# Scaling the Unsupervised topics\n",
    "\n",
    "scaler = MinMaxScaler()\n",
    "scaled_train_unsupervised_unigram_bigram_chi_square = scaler.fit_transform(df_train_unsupervised_unigram_bigram.iloc[:, 3:])\n",
    "scaled_test_unsupervised_unigram_bigram_chi_square = scaler.transform(df_test_unsupervised_unigram_bigram.iloc[:, 3:])\n",
    "\n",
    "# Transforming scaled topics into a dataframe\n",
    "\n",
    "scaled_train_unsupervised_unigram_bigram_chi_square_df = pd.DataFrame(scaled_train_unsupervised_unigram_bigram_chi_square, columns = df_train_unsupervised_unigram_bigram.iloc[:, 3:].columns)\n",
    "scaled_test_unsupervised_unigram_bigram_chi_square_df = pd.DataFrame(scaled_test_unsupervised_unigram_bigram_chi_square, columns = df_test_unsupervised_unigram_bigram.iloc[:, 3:].columns)\n",
    "\n",
    "# Combining Unigrams + Bigrams + Unsupervised topics into one dataframe\n",
    "\n",
    "train_unsupervised_unigram_bigram_chi_square_df = pd.concat([scaled_train_unsupervised_unigram_bigram_chi_square_df, df_vectorized_text_unigrams_and_bigrams_train], axis=1)\n",
    "test_unsupervised_unigram_bigram_chi_square_df = pd.concat([scaled_test_unsupervised_unigram_bigram_chi_square_df, df_vectorized_text_unigrams_and_bigrams_test], axis=1)"
   ]
  },
  {
   "cell_type": "code",
   "execution_count": 11,
   "id": "05d2d2e1",
   "metadata": {
    "colab": {
     "base_uri": "https://localhost:8080/",
     "height": 178
    },
    "id": "05d2d2e1",
    "outputId": "0cdf0b0a-424f-4a21-e895-eefbabc9ed23",
    "scrolled": false
   },
   "outputs": [
    {
     "data": {
      "text/html": [
       "<div>\n",
       "<style scoped>\n",
       "    .dataframe tbody tr th:only-of-type {\n",
       "        vertical-align: middle;\n",
       "    }\n",
       "\n",
       "    .dataframe tbody tr th {\n",
       "        vertical-align: top;\n",
       "    }\n",
       "\n",
       "    .dataframe thead th {\n",
       "        text-align: right;\n",
       "    }\n",
       "</style>\n",
       "<table border=\"1\" class=\"dataframe\">\n",
       "  <thead>\n",
       "    <tr style=\"text-align: right;\">\n",
       "      <th></th>\n",
       "      <th>unsupervised_topic_4</th>\n",
       "      <th>cool</th>\n",
       "      <th>ego</th>\n",
       "      <th>ego drive</th>\n",
       "      <th>unsupervised_topic_6</th>\n",
       "      <th>wait</th>\n",
       "      <th>non</th>\n",
       "      <th>awesome</th>\n",
       "      <th>amazing</th>\n",
       "      <th>want</th>\n",
       "      <th>...</th>\n",
       "      <th>state</th>\n",
       "      <th>today google</th>\n",
       "      <th>help</th>\n",
       "      <th>driving</th>\n",
       "      <th>free</th>\n",
       "      <th>student</th>\n",
       "      <th>minute</th>\n",
       "      <th>heaven</th>\n",
       "      <th>promise</th>\n",
       "      <th>likely</th>\n",
       "    </tr>\n",
       "  </thead>\n",
       "  <tbody>\n",
       "    <tr>\n",
       "      <th>0</th>\n",
       "      <td>1.006229e+02</td>\n",
       "      <td>7.230800e+01</td>\n",
       "      <td>6.821965e+01</td>\n",
       "      <td>6.229648e+01</td>\n",
       "      <td>4.632336e+01</td>\n",
       "      <td>4.205496e+01</td>\n",
       "      <td>4.151858e+01</td>\n",
       "      <td>3.764306e+01</td>\n",
       "      <td>3.170320e+01</td>\n",
       "      <td>2.921521e+01</td>\n",
       "      <td>...</td>\n",
       "      <td>0.022606</td>\n",
       "      <td>0.021486</td>\n",
       "      <td>0.017964</td>\n",
       "      <td>0.016465</td>\n",
       "      <td>0.013025</td>\n",
       "      <td>0.01274</td>\n",
       "      <td>0.012722</td>\n",
       "      <td>0.007483</td>\n",
       "      <td>0.001328</td>\n",
       "      <td>0.001277</td>\n",
       "    </tr>\n",
       "    <tr>\n",
       "      <th>1</th>\n",
       "      <td>1.412590e-22</td>\n",
       "      <td>1.988461e-16</td>\n",
       "      <td>1.535648e-15</td>\n",
       "      <td>2.968188e-14</td>\n",
       "      <td>8.729930e-11</td>\n",
       "      <td>7.377035e-10</td>\n",
       "      <td>9.646174e-10</td>\n",
       "      <td>6.697496e-09</td>\n",
       "      <td>1.305382e-07</td>\n",
       "      <td>4.528957e-07</td>\n",
       "      <td>...</td>\n",
       "      <td>0.988760</td>\n",
       "      <td>0.989315</td>\n",
       "      <td>0.991058</td>\n",
       "      <td>0.991801</td>\n",
       "      <td>0.993509</td>\n",
       "      <td>0.99365</td>\n",
       "      <td>0.993659</td>\n",
       "      <td>0.996265</td>\n",
       "      <td>0.999336</td>\n",
       "      <td>0.999362</td>\n",
       "    </tr>\n",
       "  </tbody>\n",
       "</table>\n",
       "<p>2 rows × 1359 columns</p>\n",
       "</div>"
      ],
      "text/plain": [
       "   unsupervised_topic_4          cool           ego     ego drive  \\\n",
       "0          1.006229e+02  7.230800e+01  6.821965e+01  6.229648e+01   \n",
       "1          1.412590e-22  1.988461e-16  1.535648e-15  2.968188e-14   \n",
       "\n",
       "   unsupervised_topic_6          wait           non       awesome  \\\n",
       "0          4.632336e+01  4.205496e+01  4.151858e+01  3.764306e+01   \n",
       "1          8.729930e-11  7.377035e-10  9.646174e-10  6.697496e-09   \n",
       "\n",
       "        amazing          want  ...     state  today google      help  \\\n",
       "0  3.170320e+01  2.921521e+01  ...  0.022606      0.021486  0.017964   \n",
       "1  1.305382e-07  4.528957e-07  ...  0.988760      0.989315  0.991058   \n",
       "\n",
       "    driving      free  student    minute    heaven   promise    likely  \n",
       "0  0.016465  0.013025  0.01274  0.012722  0.007483  0.001328  0.001277  \n",
       "1  0.991801  0.993509  0.99365  0.993659  0.996265  0.999336  0.999362  \n",
       "\n",
       "[2 rows x 1359 columns]"
      ]
     },
     "execution_count": 11,
     "metadata": {},
     "output_type": "execute_result"
    }
   ],
   "source": [
    "# 0 is chi2 score, 1 is p-value\n",
    "X_train = train_unsupervised_unigram_bigram_chi_square_df\n",
    "X_test = test_unsupervised_unigram_bigram_chi_square_df\n",
    "\n",
    "chi2_values = chi2(X_train.values, y_train)\n",
    "chi2_df = pd.DataFrame(data=chi2_values, columns=X_train.columns)\n",
    "chi2_df_sorted = chi2_df.sort_values(by=0, axis = 1, ascending = False)\n",
    "chi2_df_sorted"
   ]
  },
  {
   "cell_type": "markdown",
   "id": "5969fc8f",
   "metadata": {
    "id": "5969fc8f"
   },
   "source": [
    "## Finding the optimal number of features to use based on cross validation F1-score"
   ]
  },
  {
   "cell_type": "code",
   "execution_count": 12,
   "id": "dee0d445",
   "metadata": {
    "id": "dee0d445"
   },
   "outputs": [],
   "source": [
    "f1_results_unsupervised_unigram_bigram_chi_square = {}\n",
    "for n in range(1, 1362, 5):\n",
    "    chi2_columns_unsupervised_unigram_bigram = chi2_df_sorted.columns[:n]\n",
    "    X_train_df = train_unsupervised_unigram_bigram_chi_square_df[chi2_columns_unsupervised_unigram_bigram]\n",
    "\n",
    "    #train MLR\n",
    "    clf = LinearSVC(random_state=0)\n",
    "\n",
    "    #Cross validation, cv=5\n",
    "    f1 = cross_val_score(clf, X_train_df, y_train, scoring='f1_weighted', cv=5)\n",
    "    \n",
    "    #Storing mean cross validation F1-scores in a dictionary\n",
    "    f1_results_unsupervised_unigram_bigram_chi_square[n] = f1.mean() "
   ]
  },
  {
   "cell_type": "code",
   "execution_count": 13,
   "id": "8cc1bba8",
   "metadata": {
    "colab": {
     "base_uri": "https://localhost:8080/",
     "height": 723
    },
    "id": "8cc1bba8",
    "outputId": "5e3c90f6-268b-4cab-9fe8-064e4ee043aa"
   },
   "outputs": [
    {
     "data": {
      "text/plain": [
       "<AxesSubplot:>"
      ]
     },
     "execution_count": 13,
     "metadata": {},
     "output_type": "execute_result"
    },
    {
     "data": {
      "image/png": "[encoded data removed]",
      "text/plain": [
       "<Figure size 1440x864 with 1 Axes>"
      ]
     },
     "metadata": {},
     "output_type": "display_data"
    }
   ],
   "source": [
    "sns.set(rc={'figure.figsize':(20,12)})\n",
    "sns.lineplot(data=f1_results_unsupervised_unigram_bigram_chi_square)"
   ]
  },
  {
   "cell_type": "code",
   "execution_count": 14,
   "id": "c6e6b7dd",
   "metadata": {
    "colab": {
     "base_uri": "https://localhost:8080/"
    },
    "id": "c6e6b7dd",
    "outputId": "106488a2-2a1c-4dc4-9cc3-0b9db07304d5"
   },
   "outputs": [
    {
     "data": {
      "text/plain": [
       "861"
      ]
     },
     "execution_count": 14,
     "metadata": {},
     "output_type": "execute_result"
    }
   ],
   "source": [
    "# Getting the optimal number of features which will result in best mean cross validation F1-score from the dictionary\n",
    "\n",
    "best_no_of_features= max(f1_results_unsupervised_unigram_bigram_chi_square, key=f1_results_unsupervised_unigram_bigram_chi_square.get)\n",
    "best_no_of_features"
   ]
  },
  {
   "cell_type": "code",
   "execution_count": 15,
   "id": "e530195d",
   "metadata": {
    "id": "e530195d"
   },
   "outputs": [],
   "source": [
    "# Extracting the optimal number of features into a dataframe for training\n",
    "\n",
    "chi2_columns = chi2_df_sorted.columns[:best_no_of_features]\n",
    "scaled_train_unsupervised_unigram_bigram_df_chi_square = train_unsupervised_unigram_bigram_chi_square_df[chi2_columns]\n",
    "scaled_test_unsupervised_unigram_bigram_df_chi_square = test_unsupervised_unigram_bigram_chi_square_df[chi2_columns]"
   ]
  },
  {
   "cell_type": "code",
   "execution_count": 16,
   "id": "25b66a1c",
   "metadata": {
    "colab": {
     "base_uri": "https://localhost:8080/"
    },
    "id": "25b66a1c",
    "outputId": "0c499716-60e9-47f0-b4e3-bb547c991715"
   },
   "outputs": [
    {
     "name": "stdout",
     "output_type": "stream",
     "text": [
      "Train Accuracy: 76.46%\n",
      "Test Accuracy: 66.59%\n",
      "Test F1 Score: 66.25%\n",
      "Mean Cross Val Accuracy: 68.32%\n",
      "Mean Cross Val F1 Score: 67.96%\n",
      "Testing Matthew's coefficient: 0.358\n"
     ]
    }
   ],
   "source": [
    "X_train = scaled_train_unsupervised_unigram_bigram_df_chi_square\n",
    "X_test = scaled_test_unsupervised_unigram_bigram_df_chi_square\n",
    "\n",
    "clf = LinearSVC(random_state=0).fit(X_train, y_train)\n",
    "\n",
    "y_train_pred = clf.predict(X_train)\n",
    "print('Train Accuracy: ' + '{:.2%}'.format(accuracy_score(y_train, y_train_pred)))\n",
    "\n",
    "y_test_pred = clf.predict(X_test)\n",
    "print('Test Accuracy: ' + '{:.2%}'.format(accuracy_score(y_test, y_test_pred)))\n",
    "print('Test F1 Score: ' + '{:.2%}'.format(f1_score(y_test, y_test_pred, average='weighted')))\n",
    "\n",
    "## Cross Validation\n",
    "cross_val_accuracy_scores = cross_val_score(clf, X_train, y_train, scoring='accuracy', cv=10, n_jobs=-1)   \n",
    "print(\"Mean Cross Val Accuracy: \" + '{:.2%}'.format(cross_val_accuracy_scores.mean()))\n",
    "    \n",
    "cross_val_f1_scores = cross_val_score(clf, X_train, y_train, scoring='f1_weighted', cv=10, n_jobs=-1)\n",
    "print(\"Mean Cross Val F1 Score: \" + '{:.2%}'.format(cross_val_f1_scores.mean()))\n",
    "\n",
    "testing_matthew_coeff = matthews_corrcoef(y_test, y_test_pred)\n",
    "print(\"Testing Matthew's coefficient:\", round(testing_matthew_coeff,3))"
   ]
  },
  {
   "cell_type": "markdown",
   "id": "addbd03f",
   "metadata": {
    "id": "addbd03f"
   },
   "source": [
    "## Unigrams + Bigrams + Supervised topics Results"
   ]
  },
  {
   "cell_type": "code",
   "execution_count": null,
   "id": "1d422cd2",
   "metadata": {
    "id": "1d422cd2"
   },
   "outputs": [],
   "source": [
    "# These topics are generated manually by observing highest frequency words.\n",
    "\n",
    "def accident(text):\n",
    "    wordlist=['die', 'death', 'kill', 'hit', 'crash', 'accident', 'insurance', 'drunk', 'drink', 'safety', 'speed', 'limit']\n",
    "    words=text.split(' ')\n",
    "    for word in words:\n",
    "        if word in wordlist:\n",
    "            return 1\n",
    "    return 0\n",
    "\n",
    "def change(text):\n",
    "    wordlist=['change', 'replace', 'become', 'happen', 'transform']\n",
    "    words=text.split(' ')\n",
    "    for word in words:\n",
    "        if word in wordlist:\n",
    "            return 1\n",
    "    return 0\n",
    "\n",
    "def imagination_vs_reality(text):\n",
    "    wordlist= ['reality', 'dream', 'imagine', 'imagination', 'challenge']\n",
    "    words=text.split(' ')\n",
    "    for word in words:\n",
    "        if word in wordlist:\n",
    "            return 1\n",
    "    return 0\n",
    "\n",
    "def law(text):\n",
    "    wordlist=['policy', 'law', 'legal', 'government', 'state', 'regulation', 'license', 'approve', 'allow', 'rule', \n",
    "              'public']\n",
    "    words=text.split(' ')\n",
    "    for word in words:\n",
    "        if word in wordlist:\n",
    "            return 1\n",
    "    return 0\n",
    "\n",
    "def time(text):\n",
    "    wordlist=['future', 'today', 'next', 'year', 'past', 'world']\n",
    "    words=text.split(' ')\n",
    "    for word in words:\n",
    "        if word in wordlist:\n",
    "            return 1\n",
    "    return 0\n",
    "\n",
    "def technology(text):\n",
    "    wordlist=['technology', 'tech', 'robot', 'drone', 'machine', 'computer', 'robotic', 'program', 'ai', 'automobile', \n",
    "              'electric', 'system', 'information', 'data', 'automate']\n",
    "    words=text.split(' ')\n",
    "    for word in words:\n",
    "        if word in wordlist:\n",
    "            return 1\n",
    "    return 0\n",
    "\n",
    "def innovation(text):\n",
    "    wordlist=['research', 'invent', 'innovation', 'innovate', 'invention', 'breakthrough', 'idea', 'develop', \n",
    "              'create', 'prototype', 'develop', 'build']\n",
    "    words=text.split(' ')\n",
    "    for word in words:\n",
    "        if word in wordlist:\n",
    "            return 1\n",
    "    return 0\n",
    "\n",
    "def business(text):\n",
    "    wordlist=['money', 'invest', 'market', 'ceo', 'cost', 'buy', 'business', 'company']\n",
    "    words=text.split(' ')\n",
    "    for word in words:\n",
    "        if word in wordlist:\n",
    "            return 1\n",
    "    return 0\n",
    "\n",
    "\n",
    "def positive_words(text):\n",
    "    wordlist=['get', 'want', 'cool', 'good', 'great', 'love', 'awesome', 'wow', 'perfect', 'solve', 'solution', \n",
    "              'excite', 'fun', 'safe', 'help', 'best', 'hope', 'lead']\n",
    "              \n",
    "    double_words=['look forward', 'cant wait']\n",
    "    \n",
    "    count=0\n",
    "    words=text.split(' ')\n",
    "    for word in words:\n",
    "        if word in wordlist:\n",
    "            count+=1\n",
    "            wordlist.remove(word)\n",
    "    \n",
    "    for phrase in double_words:\n",
    "        if phrase in text:\n",
    "            count+=1\n",
    "              \n",
    "    return count\n",
    "              \n",
    "              \n",
    "\n",
    "def bad_words(text):\n",
    "    wordlist=['never', 'fuck', 'shit', 'hell', 'scary', 'wtf', 'freak', 'hate', 'wrong', 'worry', 'die', \n",
    "              'kill', 'bad', 'crazy', 'death', 'problem', 'dangerous']\n",
    "    count=0\n",
    "    words=text.split(' ')\n",
    "    for word in words:\n",
    "        if word in wordlist:\n",
    "            count+=1\n",
    "            wordlist.remove(word)\n",
    "    \n",
    "    return count\n",
    "\n",
    "\n",
    "#brands/places/transportation type/events/products\n",
    "columns=['toyota', 'audi', 'tesla', 'apple', 'google', 'uber', 'ford', 'lexus', 'nissan', 'volvo', 'bmw', 'california', \n",
    "         'michigan', 'detroit', 'googleplex', 'dmv', 'ce', 'codecon', 'forbes', \n",
    "         'cnet', 'wsj', 'train', 'railway', 'cruise', 'road', 'taxi', 'truck', 'highway', 'bus', 'cab', 'bike', 'freeway',\n",
    "         'googlecar', 'camera', 'ego']\n",
    "\n",
    "double_words=['ann arbor', 'silicon valley', 'google map', 'google glass']\n",
    "\n",
    "def get_column_value(text, word):\n",
    "    wordlist=text.split(' ')\n",
    "    if word in wordlist:\n",
    "        return 1\n",
    "    return 0\n",
    "\n",
    "def get_double_value(text, phrase):\n",
    "    if phrase in text:\n",
    "        return 1\n",
    "    return 0"
   ]
  },
  {
   "cell_type": "code",
   "execution_count": null,
   "id": "f32e3bf3",
   "metadata": {
    "id": "f32e3bf3"
   },
   "outputs": [],
   "source": [
    "df_train_supervised_unigram_bigram=df.copy()\n",
    "df_test_supervised_unigram_bigram=df_test.copy()"
   ]
  },
  {
   "cell_type": "code",
   "execution_count": null,
   "id": "610899f6",
   "metadata": {
    "id": "610899f6"
   },
   "outputs": [],
   "source": [
    "for word in columns:\n",
    "    df_train_supervised_unigram_bigram['topic ' + word]=df_train_supervised_unigram_bigram.apply(lambda x: get_column_value(x['lemmatized and stopwords_removed'], word), axis=1)\n",
    "    df_test_supervised_unigram_bigram['topic ' + word]=df_test_supervised_unigram_bigram.apply(lambda x: get_column_value(x['lemmatized and stopwords_removed'], word), axis=1)\n",
    "for phrase in double_words:\n",
    "    df_train_supervised_unigram_bigram['topic ' + phrase]=df_train_supervised_unigram_bigram.apply(lambda x: get_double_value(x['lemmatized and stopwords_removed'], phrase), axis=1)\n",
    "    df_test_supervised_unigram_bigram['topic ' + phrase]=df_test_supervised_unigram_bigram.apply(lambda x: get_column_value(x['lemmatized and stopwords_removed'], word), axis=1)"
   ]
  },
  {
   "cell_type": "code",
   "execution_count": null,
   "id": "aab19b0e",
   "metadata": {
    "id": "aab19b0e"
   },
   "outputs": [],
   "source": [
    "# train dataset\n",
    "df_train_supervised_unigram_bigram['topic accident']= df_train_supervised_unigram_bigram['lemmatized and stopwords_removed'].apply(accident)\n",
    "df_train_supervised_unigram_bigram['topic change']= df_train_supervised_unigram_bigram['lemmatized and stopwords_removed'].apply(change)\n",
    "df_train_supervised_unigram_bigram['topic imagination_vs_reality']= df_train_supervised_unigram_bigram['lemmatized and stopwords_removed'].apply(imagination_vs_reality)\n",
    "df_train_supervised_unigram_bigram['topic law']= df_train_supervised_unigram_bigram['lemmatized and stopwords_removed'].apply(law)\n",
    "df_train_supervised_unigram_bigram['topic time']= df_train_supervised_unigram_bigram['lemmatized and stopwords_removed'].apply(time)\n",
    "df_train_supervised_unigram_bigram['topic technology']= df_train_supervised_unigram_bigram['lemmatized and stopwords_removed'].apply(technology)\n",
    "df_train_supervised_unigram_bigram['topic innovation']= df_train_supervised_unigram_bigram['lemmatized and stopwords_removed'].apply(innovation)\n",
    "df_train_supervised_unigram_bigram['topic business']= df_train_supervised_unigram_bigram['lemmatized and stopwords_removed'].apply(business)\n",
    "\n",
    "df_train_supervised_unigram_bigram['topic positive_words']= df_train_supervised_unigram_bigram['lemmatized and stopwords_removed'].apply(positive_words)\n",
    "df_train_supervised_unigram_bigram['topic bad_words']= df_train_supervised_unigram_bigram['lemmatized and stopwords_removed'].apply(bad_words)\n",
    "df_train_supervised_unigram_bigram['topic net positive']=df_train_supervised_unigram_bigram['topic positive_words']-df_train_supervised_unigram_bigram['topic bad_words']\n",
    "\n",
    "# test dataset\n",
    "\n",
    "df_test_supervised_unigram_bigram['topic accident']= df_test_supervised_unigram_bigram['lemmatized and stopwords_removed'].apply(accident)\n",
    "df_test_supervised_unigram_bigram['topic change']= df_test_supervised_unigram_bigram['lemmatized and stopwords_removed'].apply(change)\n",
    "df_test_supervised_unigram_bigram['topic imagination_vs_reality']= df_test_supervised_unigram_bigram['lemmatized and stopwords_removed'].apply(imagination_vs_reality)\n",
    "df_test_supervised_unigram_bigram['topic law']= df_test_supervised_unigram_bigram['lemmatized and stopwords_removed'].apply(law)\n",
    "df_test_supervised_unigram_bigram['topic time']= df_test_supervised_unigram_bigram['lemmatized and stopwords_removed'].apply(time)\n",
    "df_test_supervised_unigram_bigram['topic technology']= df_test_supervised_unigram_bigram['lemmatized and stopwords_removed'].apply(technology)\n",
    "df_test_supervised_unigram_bigram['topic innovation']= df_test_supervised_unigram_bigram['lemmatized and stopwords_removed'].apply(innovation)\n",
    "df_test_supervised_unigram_bigram['topic business']= df_test_supervised_unigram_bigram['lemmatized and stopwords_removed'].apply(business)\n",
    "\n",
    "df_test_supervised_unigram_bigram['topic positive_words']= df_test_supervised_unigram_bigram['lemmatized and stopwords_removed'].apply(positive_words)\n",
    "df_test_supervised_unigram_bigram['topic bad_words']= df_test_supervised_unigram_bigram['lemmatized and stopwords_removed'].apply(bad_words)\n",
    "df_test_supervised_unigram_bigram['topic net positive']=df_test_supervised_unigram_bigram['topic positive_words']-df_test_supervised_unigram_bigram['topic bad_words']"
   ]
  },
  {
   "cell_type": "markdown",
   "id": "2d52bbfd",
   "metadata": {
    "id": "2d52bbfd"
   },
   "source": [
    "## Training without Chi Square Feature Selection"
   ]
  },
  {
   "cell_type": "markdown",
   "id": "542632d7",
   "metadata": {
    "id": "542632d7"
   },
   "source": [
    "## Preparing data for model training"
   ]
  },
  {
   "cell_type": "code",
   "execution_count": null,
   "id": "41b9fcc0",
   "metadata": {
    "id": "41b9fcc0"
   },
   "outputs": [],
   "source": [
    "# Scaling the Supervised topics\n",
    "\n",
    "scaler = MinMaxScaler()\n",
    "scaled_train_supervised_unigram_bigram = scaler.fit_transform(df_train_supervised_unigram_bigram.iloc[:, 3:])\n",
    "scaled_test_supervised_unigram_bigram = scaler.transform(df_test_supervised_unigram_bigram.iloc[:, 3:])\n",
    "\n",
    "# Transforming scaled topics into a dataframe\n",
    "\n",
    "scaled_train_supervised_unigram_bigram_df = pd.DataFrame(scaled_train_supervised_unigram_bigram, columns = df_train_supervised_unigram_bigram.iloc[:, 3:].columns)\n",
    "scaled_test_supervised_unigram_bigram_df = pd.DataFrame(scaled_test_supervised_unigram_bigram, columns = df_test_supervised_unigram_bigram.iloc[:, 3:].columns)\n",
    "\n",
    "# Combining Unigrams + Bigrams + Unsupervised topics into one dataframe\n",
    "\n",
    "train_supervised_unigram_bigram = pd.concat([scaled_train_supervised_unigram_bigram_df, df_vectorized_text_unigrams_and_bigrams_train], axis=1)\n",
    "test_supervised_unigram_bigram = pd.concat([scaled_test_supervised_unigram_bigram_df, df_vectorized_text_unigrams_and_bigrams_test], axis=1)"
   ]
  },
  {
   "cell_type": "code",
   "execution_count": null,
   "id": "294c351d",
   "metadata": {
    "colab": {
     "base_uri": "https://localhost:8080/"
    },
    "id": "294c351d",
    "outputId": "10b8b0ea-439d-4b8b-9d06-e6893c6d65ac"
   },
   "outputs": [
    {
     "name": "stdout",
     "output_type": "stream",
     "text": [
      "Train Accuracy: 79.98%\n",
      "Test Accuracy: 65.40%\n",
      "Test F1 Score: 65.34%\n",
      "Mean Cross Val Accuracy: 66.65%\n",
      "Mean Cross Val F1 Score: 66.44%\n",
      "Testing Matthew's coefficient: 0.344\n"
     ]
    }
   ],
   "source": [
    "X_train = train_supervised_unigram_bigram\n",
    "X_test = test_supervised_unigram_bigram\n",
    "\n",
    "clf = LinearSVC(random_state=0).fit(X_train, y_train)\n",
    "\n",
    "y_train_pred = clf.predict(X_train)\n",
    "print('Train Accuracy: ' + '{:.2%}'.format(accuracy_score(y_train, y_train_pred)))\n",
    "\n",
    "y_test_pred = clf.predict(X_test)\n",
    "print('Test Accuracy: ' + '{:.2%}'.format(accuracy_score(y_test, y_test_pred)))\n",
    "print('Test F1 Score: ' + '{:.2%}'.format(f1_score(y_test, y_test_pred, average='weighted')))\n",
    "\n",
    "## Cross Validation\n",
    "cross_val_accuracy_scores = cross_val_score(clf, X_train, y_train, scoring='accuracy', cv=10, n_jobs=-1)   \n",
    "print(\"Mean Cross Val Accuracy: \" + '{:.2%}'.format(cross_val_accuracy_scores.mean()))\n",
    "    \n",
    "cross_val_f1_scores = cross_val_score(clf, X_train, y_train, scoring='f1_weighted', cv=10, n_jobs=-1)\n",
    "print(\"Mean Cross Val F1 Score: \" + '{:.2%}'.format(cross_val_f1_scores.mean()))\n",
    "\n",
    "testing_matthew_coeff = matthews_corrcoef(y_test, y_test_pred)\n",
    "print(\"Testing Matthew's coefficient:\", round(testing_matthew_coeff,3))"
   ]
  },
  {
   "cell_type": "markdown",
   "id": "e3ddcebc",
   "metadata": {
    "id": "e3ddcebc"
   },
   "source": [
    "## Training with Chi Square Feature Selection"
   ]
  },
  {
   "cell_type": "markdown",
   "id": "330c8991",
   "metadata": {
    "id": "330c8991"
   },
   "source": [
    "## Preparing data for model training"
   ]
  },
  {
   "cell_type": "code",
   "execution_count": null,
   "id": "3c498b9b",
   "metadata": {
    "id": "3c498b9b"
   },
   "outputs": [],
   "source": [
    "# Scaling the Supervised topics\n",
    "\n",
    "scaler = MinMaxScaler()\n",
    "scaled_train_supervised_unigram_bigram_chi_square = scaler.fit_transform(df_train_supervised_unigram_bigram.iloc[:, 3:])\n",
    "scaled_test_supervised_unigram_bigram_chi_square = scaler.transform(df_test_supervised_unigram_bigram.iloc[:, 3:])\n",
    "\n",
    "# Transforming scaled topics into a dataframe\n",
    "\n",
    "scaled_train_supervised_unigram_bigram_chi_square_df = pd.DataFrame(scaled_train_supervised_unigram_bigram_chi_square, columns = df_train_supervised_unigram_bigram.iloc[:, 3:].columns)\n",
    "scaled_test_supervised_unigram_bigram_chi_square_df = pd.DataFrame(scaled_test_supervised_unigram_bigram_chi_square, columns = df_test_supervised_unigram_bigram.iloc[:, 3:].columns)\n",
    "\n",
    "# Combining Unigrams + Bigrams + Unsupervised topics into one dataframe\n",
    "\n",
    "train_supervised_unigram_bigram_chi_square_df = pd.concat([scaled_train_supervised_unigram_bigram_chi_square_df, df_vectorized_text_unigrams_and_bigrams_train], axis=1)\n",
    "test_supervised_unigram_bigram_chi_square_df = pd.concat([scaled_test_supervised_unigram_bigram_chi_square_df, df_vectorized_text_unigrams_and_bigrams_test], axis=1)"
   ]
  },
  {
   "cell_type": "code",
   "execution_count": null,
   "id": "b76e7ce0",
   "metadata": {
    "colab": {
     "base_uri": "https://localhost:8080/",
     "height": 178
    },
    "id": "b76e7ce0",
    "outputId": "decc7cd0-08fb-41d7-e6c7-bd3657d8ffc1",
    "scrolled": true
   },
   "outputs": [
    {
     "data": {
      "text/html": [
       "<div>\n",
       "<style scoped>\n",
       "    .dataframe tbody tr th:only-of-type {\n",
       "        vertical-align: middle;\n",
       "    }\n",
       "\n",
       "    .dataframe tbody tr th {\n",
       "        vertical-align: top;\n",
       "    }\n",
       "\n",
       "    .dataframe thead th {\n",
       "        text-align: right;\n",
       "    }\n",
       "</style>\n",
       "<table border=\"1\" class=\"dataframe\">\n",
       "  <thead>\n",
       "    <tr style=\"text-align: right;\">\n",
       "      <th></th>\n",
       "      <th>topic ego</th>\n",
       "      <th>topic positive_words</th>\n",
       "      <th>topic bad_words</th>\n",
       "      <th>cool</th>\n",
       "      <th>ego</th>\n",
       "      <th>ego drive</th>\n",
       "      <th>topic railway</th>\n",
       "      <th>wait</th>\n",
       "      <th>non</th>\n",
       "      <th>topic california</th>\n",
       "      <th>awesome</th>\n",
       "      <th>topic michigan</th>\n",
       "      <th>amazing</th>\n",
       "      <th>want</th>\n",
       "      <th>topic detroit</th>\n",
       "      <th>topic toyota</th>\n",
       "      <th>topic dmv</th>\n",
       "      <th>fbi</th>\n",
       "      <th>concern</th>\n",
       "      <th>love</th>\n",
       "      <th>trust</th>\n",
       "      <th>google car</th>\n",
       "      <th>topic accident</th>\n",
       "      <th>major</th>\n",
       "      <th>wait self</th>\n",
       "      <th>job</th>\n",
       "      <th>topic law</th>\n",
       "      <th>point</th>\n",
       "      <th>flaw</th>\n",
       "      <th>topic uber</th>\n",
       "      <th>creepy</th>\n",
       "      <th>information technology</th>\n",
       "      <th>wow</th>\n",
       "      <th>problem</th>\n",
       "      <th>google ego</th>\n",
       "      <th>information</th>\n",
       "      <th>topic google</th>\n",
       "      <th>excited</th>\n",
       "      <th>scare</th>\n",
       "      <th>motorcar</th>\n",
       "      <th>...</th>\n",
       "      <th>googles self</th>\n",
       "      <th>car lol</th>\n",
       "      <th>rest</th>\n",
       "      <th>pass self</th>\n",
       "      <th>nearly</th>\n",
       "      <th>ok</th>\n",
       "      <th>future car</th>\n",
       "      <th>driverless google</th>\n",
       "      <th>car design</th>\n",
       "      <th>easy</th>\n",
       "      <th>merge</th>\n",
       "      <th>car mainstream</th>\n",
       "      <th>goal</th>\n",
       "      <th>steve</th>\n",
       "      <th>look</th>\n",
       "      <th>article</th>\n",
       "      <th>microsoft</th>\n",
       "      <th>track</th>\n",
       "      <th>little</th>\n",
       "      <th>fully</th>\n",
       "      <th>low</th>\n",
       "      <th>add</th>\n",
       "      <th>car real</th>\n",
       "      <th>like self</th>\n",
       "      <th>door</th>\n",
       "      <th>social</th>\n",
       "      <th>use self</th>\n",
       "      <th>friendly</th>\n",
       "      <th>practical</th>\n",
       "      <th>state</th>\n",
       "      <th>today google</th>\n",
       "      <th>help</th>\n",
       "      <th>driving</th>\n",
       "      <th>free</th>\n",
       "      <th>student</th>\n",
       "      <th>minute</th>\n",
       "      <th>heaven</th>\n",
       "      <th>promise</th>\n",
       "      <th>likely</th>\n",
       "      <th>topic forbes</th>\n",
       "    </tr>\n",
       "  </thead>\n",
       "  <tbody>\n",
       "    <tr>\n",
       "      <th>0</th>\n",
       "      <td>2.503559e+02</td>\n",
       "      <td>1.855845e+02</td>\n",
       "      <td>8.848897e+01</td>\n",
       "      <td>7.230800e+01</td>\n",
       "      <td>6.821965e+01</td>\n",
       "      <td>6.229648e+01</td>\n",
       "      <td>5.466178e+01</td>\n",
       "      <td>4.205496e+01</td>\n",
       "      <td>4.151858e+01</td>\n",
       "      <td>4.026040e+01</td>\n",
       "      <td>3.764306e+01</td>\n",
       "      <td>3.529346e+01</td>\n",
       "      <td>3.170320e+01</td>\n",
       "      <td>2.921521e+01</td>\n",
       "      <td>2.918541e+01</td>\n",
       "      <td>2.851086e+01</td>\n",
       "      <td>2.773141e+01</td>\n",
       "      <td>27.351433</td>\n",
       "      <td>27.105606</td>\n",
       "      <td>26.996153</td>\n",
       "      <td>26.962168</td>\n",
       "      <td>25.712454</td>\n",
       "      <td>25.378310</td>\n",
       "      <td>24.895669</td>\n",
       "      <td>24.669007</td>\n",
       "      <td>24.203575</td>\n",
       "      <td>23.284237</td>\n",
       "      <td>22.787711</td>\n",
       "      <td>22.336676</td>\n",
       "      <td>22.079662</td>\n",
       "      <td>21.611122</td>\n",
       "      <td>21.581792</td>\n",
       "      <td>21.485290</td>\n",
       "      <td>21.354559</td>\n",
       "      <td>20.965195</td>\n",
       "      <td>20.894105</td>\n",
       "      <td>20.872387</td>\n",
       "      <td>20.84776</td>\n",
       "      <td>20.822774</td>\n",
       "      <td>20.390840</td>\n",
       "      <td>...</td>\n",
       "      <td>0.105168</td>\n",
       "      <td>0.104664</td>\n",
       "      <td>0.099120</td>\n",
       "      <td>0.099037</td>\n",
       "      <td>0.097713</td>\n",
       "      <td>0.092836</td>\n",
       "      <td>0.091422</td>\n",
       "      <td>0.090524</td>\n",
       "      <td>0.089060</td>\n",
       "      <td>0.087536</td>\n",
       "      <td>0.074825</td>\n",
       "      <td>0.073379</td>\n",
       "      <td>0.072077</td>\n",
       "      <td>0.07113</td>\n",
       "      <td>0.069811</td>\n",
       "      <td>0.068311</td>\n",
       "      <td>0.067779</td>\n",
       "      <td>0.066341</td>\n",
       "      <td>0.066162</td>\n",
       "      <td>0.058642</td>\n",
       "      <td>0.057637</td>\n",
       "      <td>0.056440</td>\n",
       "      <td>0.044839</td>\n",
       "      <td>0.040734</td>\n",
       "      <td>0.036738</td>\n",
       "      <td>0.035755</td>\n",
       "      <td>0.034705</td>\n",
       "      <td>0.032339</td>\n",
       "      <td>0.025406</td>\n",
       "      <td>0.022606</td>\n",
       "      <td>0.021486</td>\n",
       "      <td>0.017964</td>\n",
       "      <td>0.016465</td>\n",
       "      <td>0.013025</td>\n",
       "      <td>0.01274</td>\n",
       "      <td>0.012722</td>\n",
       "      <td>0.007483</td>\n",
       "      <td>0.001328</td>\n",
       "      <td>0.001277</td>\n",
       "      <td>NaN</td>\n",
       "    </tr>\n",
       "    <tr>\n",
       "      <th>1</th>\n",
       "      <td>4.324174e-55</td>\n",
       "      <td>5.021618e-41</td>\n",
       "      <td>6.093466e-20</td>\n",
       "      <td>1.988461e-16</td>\n",
       "      <td>1.535648e-15</td>\n",
       "      <td>2.968188e-14</td>\n",
       "      <td>1.350037e-12</td>\n",
       "      <td>7.377035e-10</td>\n",
       "      <td>9.646174e-10</td>\n",
       "      <td>1.809528e-09</td>\n",
       "      <td>6.697496e-09</td>\n",
       "      <td>2.168318e-08</td>\n",
       "      <td>1.305382e-07</td>\n",
       "      <td>4.528957e-07</td>\n",
       "      <td>4.596939e-07</td>\n",
       "      <td>6.440878e-07</td>\n",
       "      <td>9.510434e-07</td>\n",
       "      <td>0.000001</td>\n",
       "      <td>0.000001</td>\n",
       "      <td>0.000001</td>\n",
       "      <td>0.000001</td>\n",
       "      <td>0.000003</td>\n",
       "      <td>0.000003</td>\n",
       "      <td>0.000004</td>\n",
       "      <td>0.000004</td>\n",
       "      <td>0.000006</td>\n",
       "      <td>0.000009</td>\n",
       "      <td>0.000011</td>\n",
       "      <td>0.000014</td>\n",
       "      <td>0.000016</td>\n",
       "      <td>0.000020</td>\n",
       "      <td>0.000021</td>\n",
       "      <td>0.000022</td>\n",
       "      <td>0.000023</td>\n",
       "      <td>0.000028</td>\n",
       "      <td>0.000029</td>\n",
       "      <td>0.000029</td>\n",
       "      <td>0.00003</td>\n",
       "      <td>0.000030</td>\n",
       "      <td>0.000037</td>\n",
       "      <td>...</td>\n",
       "      <td>0.948775</td>\n",
       "      <td>0.949014</td>\n",
       "      <td>0.951648</td>\n",
       "      <td>0.951688</td>\n",
       "      <td>0.952318</td>\n",
       "      <td>0.954643</td>\n",
       "      <td>0.955318</td>\n",
       "      <td>0.955747</td>\n",
       "      <td>0.956447</td>\n",
       "      <td>0.957176</td>\n",
       "      <td>0.963278</td>\n",
       "      <td>0.963975</td>\n",
       "      <td>0.964603</td>\n",
       "      <td>0.96506</td>\n",
       "      <td>0.965697</td>\n",
       "      <td>0.966421</td>\n",
       "      <td>0.966678</td>\n",
       "      <td>0.967374</td>\n",
       "      <td>0.967460</td>\n",
       "      <td>0.971105</td>\n",
       "      <td>0.971593</td>\n",
       "      <td>0.972175</td>\n",
       "      <td>0.977830</td>\n",
       "      <td>0.979839</td>\n",
       "      <td>0.981798</td>\n",
       "      <td>0.982281</td>\n",
       "      <td>0.982797</td>\n",
       "      <td>0.983960</td>\n",
       "      <td>0.987377</td>\n",
       "      <td>0.988760</td>\n",
       "      <td>0.989315</td>\n",
       "      <td>0.991058</td>\n",
       "      <td>0.991801</td>\n",
       "      <td>0.993509</td>\n",
       "      <td>0.99365</td>\n",
       "      <td>0.993659</td>\n",
       "      <td>0.996265</td>\n",
       "      <td>0.999336</td>\n",
       "      <td>0.999362</td>\n",
       "      <td>NaN</td>\n",
       "    </tr>\n",
       "  </tbody>\n",
       "</table>\n",
       "<p>2 rows × 1400 columns</p>\n",
       "</div>"
      ],
      "text/plain": [
       "      topic ego  topic positive_words  ...    likely  topic forbes\n",
       "0  2.503559e+02          1.855845e+02  ...  0.001277           NaN\n",
       "1  4.324174e-55          5.021618e-41  ...  0.999362           NaN\n",
       "\n",
       "[2 rows x 1400 columns]"
      ]
     },
     "execution_count": 39,
     "metadata": {},
     "output_type": "execute_result"
    }
   ],
   "source": [
    "# 0 is chi2 score, 1 is p-value\n",
    "X_train = train_supervised_unigram_bigram_chi_square_df\n",
    "X_test = test_supervised_unigram_bigram_chi_square_df\n",
    "\n",
    "chi2_values = chi2(X_train.values, y_train)\n",
    "chi2_df = pd.DataFrame(data=chi2_values, columns=X_train.columns)\n",
    "chi2_df_sorted = chi2_df.sort_values(by=0, axis = 1, ascending = False)\n",
    "chi2_df_sorted"
   ]
  },
  {
   "cell_type": "markdown",
   "id": "49bc22a3",
   "metadata": {
    "id": "49bc22a3"
   },
   "source": [
    "## Finding the optimal number of features to use based on cross validation F1-score"
   ]
  },
  {
   "cell_type": "code",
   "execution_count": null,
   "id": "4d046bcd",
   "metadata": {
    "id": "4d046bcd"
   },
   "outputs": [],
   "source": [
    "f1_results_unigram_bigram_supervised = {}\n",
    "for n in range(1, 1400, 5):\n",
    "    chi2_columns_unigram_bigram_supervised = chi2_df_sorted.columns[:n]\n",
    "    X_train_df = train_supervised_unigram_bigram_chi_square_df[chi2_columns_unigram_bigram_supervised]\n",
    "\n",
    "    #train MLR\n",
    "    clf = LinearSVC(random_state=0)\n",
    "\n",
    "    #Cross validation, cv=5\n",
    "    f1 = cross_val_score(clf, X_train_df, y_train, scoring='f1_weighted', cv=5)\n",
    "    \n",
    "    #Storing mean cross validation F1-scores in a dictionary\n",
    "    f1_results_unigram_bigram_supervised[n] = f1.mean() "
   ]
  },
  {
   "cell_type": "code",
   "execution_count": null,
   "id": "d24231a8",
   "metadata": {
    "colab": {
     "base_uri": "https://localhost:8080/",
     "height": 720
    },
    "id": "d24231a8",
    "outputId": "44292b10-1e49-43a2-b7bc-6d2d9842534e"
   },
   "outputs": [
    {
     "data": {
      "text/plain": [
       "<matplotlib.axes._subplots.AxesSubplot at 0x7f2ef2e94d90>"
      ]
     },
     "execution_count": 41,
     "metadata": {},
     "output_type": "execute_result"
    },
    {
     "data": {
      "image/png": "[encoded data removed]",
      "text/plain": [
       "<Figure size 1440x864 with 1 Axes>"
      ]
     },
     "metadata": {},
     "output_type": "display_data"
    }
   ],
   "source": [
    "sns.set(rc={'figure.figsize':(20,12)})\n",
    "sns.lineplot(data=f1_results_unigram_bigram_supervised)"
   ]
  },
  {
   "cell_type": "code",
   "execution_count": null,
   "id": "0637331e",
   "metadata": {
    "colab": {
     "base_uri": "https://localhost:8080/"
    },
    "id": "0637331e",
    "outputId": "9820d451-ce2c-41a3-9fea-2b5da775438e"
   },
   "outputs": [
    {
     "data": {
      "text/plain": [
       "951"
      ]
     },
     "execution_count": 42,
     "metadata": {},
     "output_type": "execute_result"
    }
   ],
   "source": [
    "# Getting the optimal number of features which will result in best mean cross validation F1-score from the dictionary\n",
    "\n",
    "best_no_of_features= max(f1_results_unigram_bigram_supervised, key=f1_results_unigram_bigram_supervised.get)\n",
    "best_no_of_features"
   ]
  },
  {
   "cell_type": "code",
   "execution_count": null,
   "id": "317be8ac",
   "metadata": {
    "id": "317be8ac"
   },
   "outputs": [],
   "source": [
    "# Extracting the optimal number of features into a dataframe for training\n",
    "\n",
    "chi2_columns = chi2_df_sorted.columns[:best_no_of_features]\n",
    "scaled_train_supervised_unigram_bigram_df_chi_square = train_supervised_unigram_bigram_chi_square_df[chi2_columns]\n",
    "scaled_test_supervised_unigram_bigram_df_chi_square = test_supervised_unigram_bigram_chi_square_df[chi2_columns]"
   ]
  },
  {
   "cell_type": "code",
   "execution_count": null,
   "id": "d1b92ae7",
   "metadata": {
    "colab": {
     "base_uri": "https://localhost:8080/"
    },
    "id": "d1b92ae7",
    "outputId": "7593b843-4656-4ae0-9a81-7498b032a331"
   },
   "outputs": [
    {
     "name": "stdout",
     "output_type": "stream",
     "text": [
      "Train Accuracy: 76.98%\n",
      "Test Accuracy: 67.19%\n",
      "Test F1 Score: 66.89%\n",
      "Mean Cross Val Accuracy: 68.11%\n",
      "Mean Cross Val F1 Score: 67.81%\n",
      "Testing Matthew's coefficient: 0.371\n"
     ]
    }
   ],
   "source": [
    "X_train = scaled_train_supervised_unigram_bigram_df_chi_square\n",
    "X_test = scaled_test_supervised_unigram_bigram_df_chi_square\n",
    "\n",
    "clf = LinearSVC(random_state=0).fit(X_train, y_train)\n",
    "\n",
    "y_train_pred = clf.predict(X_train)\n",
    "print('Train Accuracy: ' + '{:.2%}'.format(accuracy_score(y_train, y_train_pred)))\n",
    "\n",
    "y_test_pred = clf.predict(X_test)\n",
    "print('Test Accuracy: ' + '{:.2%}'.format(accuracy_score(y_test, y_test_pred)))\n",
    "print('Test F1 Score: ' + '{:.2%}'.format(f1_score(y_test, y_test_pred, average='weighted')))\n",
    "\n",
    "## Cross Validation\n",
    "cross_val_accuracy_scores = cross_val_score(clf, X_train, y_train, scoring='accuracy', cv=10, n_jobs=-1)   \n",
    "print(\"Mean Cross Val Accuracy: \" + '{:.2%}'.format(cross_val_accuracy_scores.mean()))\n",
    "    \n",
    "cross_val_f1_scores = cross_val_score(clf, X_train, y_train, scoring='f1_weighted', cv=10, n_jobs=-1)\n",
    "print(\"Mean Cross Val F1 Score: \" + '{:.2%}'.format(cross_val_f1_scores.mean()))\n",
    "\n",
    "testing_matthew_coeff = matthews_corrcoef(y_test, y_test_pred)\n",
    "print(\"Testing Matthew's coefficient:\", round(testing_matthew_coeff,3))"
   ]
  }
 ],
 "metadata": {
  "colab": {
   "name": "SVM - Synonym Replacement Latest.ipynb",
   "provenance": []
  },
  "kernelspec": {
   "display_name": "Python 3 (ipykernel)",
   "language": "python",
   "name": "python3"
  },
  "language_info": {
   "codemirror_mode": {
    "name": "ipython",
    "version": 3
   },
   "file_extension": ".py",
   "mimetype": "text/x-python",
   "name": "python",
   "nbconvert_exporter": "python",
   "pygments_lexer": "ipython3",
   "version": "3.7.3"
  }
 },
 "nbformat": 4,
 "nbformat_minor": 5
}
